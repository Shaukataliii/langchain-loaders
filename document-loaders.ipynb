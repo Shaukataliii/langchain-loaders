{
 "cells": [
  {
   "cell_type": "markdown",
   "metadata": {},
   "source": [
    "# Document Loaders"
   ]
  },
  {
   "cell_type": "code",
   "execution_count": 2,
   "metadata": {},
   "outputs": [],
   "source": [
    "import os\n",
    "def prepare_filesdir_path():\n",
    "    return os.path.join(\"resources\", \"no-code-files\")\n",
    "\n",
    "def prepare_resource_path(filename):\n",
    "    files_dir = prepare_filesdir_path()\n",
    "    return os.path.join(files_dir, filename)\n",
    "\n",
    "def prepare_pdf_path(filename):\n",
    "    files_dir = prepare_filesdir_path()\n",
    "    return os.path.join(files_dir, \"pdfs\", filename)"
   ]
  },
  {
   "cell_type": "markdown",
   "metadata": {},
   "source": [
    "### TextLoader"
   ]
  },
  {
   "cell_type": "code",
   "execution_count": 90,
   "metadata": {},
   "outputs": [],
   "source": [
    "from langchain_community.document_loaders import TextLoader"
   ]
  },
  {
   "cell_type": "code",
   "execution_count": 14,
   "metadata": {},
   "outputs": [
    {
     "name": "stdout",
     "output_type": "stream",
     "text": [
      "[Document(metadata={'source': 'loader-functionality-to-focus-on.md'}, page_content='# For each document loader in LangChain, you should focus on the following aspects:\\n\\n### Supported File Types:\\nIdentify what file formats the loader can handle (e.g., PDFs, Word docs, CSVs).\\n\\n### Configuration Options:\\nLearn about the customizable parameters or settings available for each loader (e.g., handling large files, extracting metadata, pagination).\\n\\n### Parsing and Extraction:\\nUnderstand how the loader extracts text or data from the document and how it handles complex structures like tables, images, or embedded files.\\n\\n### Efficiency and Performance:\\nExplore how the loader manages memory, speed of loading, and processing large documents or datasets.\\n\\n### Integration with Other Tools:\\nCheck how the loader integrates with other tools or services, such as cloud storage, databases, or web APIs.\\n\\n### Error Handling:\\nInvestigate how the loader deals with corrupted files, missing data, or unsupported formats.\\n\\n### Use Cases:\\nConsider practical scenarios or applications where each loader would be most effective, including any limitations or strengths specific to that loader.\\n\\n### Examples and Tutorials:\\nReview or create sample implementations to see the loader in action with real data, and analyze the output.\\n\\n### Advanced Features:\\nLook for any specialized features like OCR for scanned documents, language detection, or multi-document loading.')]\n"
     ]
    }
   ],
   "source": [
    "loader = TextLoader(\"loader-functionality-to-focus-on.md\")\n",
    "document = loader.load()\n",
    "print(document)"
   ]
  },
  {
   "cell_type": "code",
   "execution_count": 23,
   "metadata": {},
   "outputs": [
    {
     "data": {
      "text/plain": [
       "10"
      ]
     },
     "execution_count": 23,
     "metadata": {},
     "output_type": "execute_result"
    }
   ],
   "source": [
    "len(document[0].page_content.split('\\n\\n'))"
   ]
  },
  {
   "cell_type": "code",
   "execution_count": 28,
   "metadata": {},
   "outputs": [
    {
     "data": {
      "text/plain": [
       "[Document(metadata={'source': 'requirements.txt'}, page_content='ipykernel')]"
      ]
     },
     "execution_count": 28,
     "metadata": {},
     "output_type": "execute_result"
    }
   ],
   "source": [
    "# Let's try loading a txt with it\n",
    "loader = TextLoader('requirements.txt')\n",
    "loader.load()"
   ]
  },
  {
   "cell_type": "code",
   "execution_count": 29,
   "metadata": {},
   "outputs": [
    {
     "data": {
      "text/plain": [
       "[Document(metadata={'source': 'file'}, page_content='how are you. This is a file with no extension.')]"
      ]
     },
     "execution_count": 29,
     "metadata": {},
     "output_type": "execute_result"
    }
   ],
   "source": [
    "loader = TextLoader('file')\n",
    "loader.load()"
   ]
  },
  {
   "cell_type": "code",
   "execution_count": 31,
   "metadata": {},
   "outputs": [
    {
     "data": {
      "text/plain": [
       "[Document(metadata={'source': 'resources\\\\no-code-files\\\\11-quote.txt'}, page_content='Never Say Tomorrow.\\nDo it today.')]"
      ]
     },
     "execution_count": 31,
     "metadata": {},
     "output_type": "execute_result"
    }
   ],
   "source": [
    "loader = TextLoader(prepare_resource_path('11-quote.txt'))\n",
    "loader.load()"
   ]
  },
  {
   "cell_type": "code",
   "execution_count": 33,
   "metadata": {},
   "outputs": [
    {
     "name": "stdout",
     "output_type": "stream",
     "text": [
      "page_content='1. \"If you want to achieve greatness stop asking for permission.\" --Anonymous 2. \"Things work out best for those who make the best of how things work out.\" --John Wooden 3. \"To live a creative life, we must lose our fear of being wrong.\" --Anonymous 4. \"If you are not willing to risk the usual you will have to settle for the ordinary.\" --Jim Rohn 5. \"Trust because you are willing to accept the risk, not because it's safe or certain.\" --Anonymous 6. \"Take up one idea. Make that one idea your life--think of it, dream of it, live on that idea. Let the \n",
      "brain, muscles, nerves, every part of your body, be full of that idea, and just leave every other idea \n",
      "alone. This is the way to success.\" --Swami Vivekananda 7. \"All our dreams can come true if we have the courage to pursue them.\" --Walt Disney 8. \"Good things come to people who wait, but better things come to those who go out and get them.\" --\n",
      "Anonymous 9. \"If you do what you always did, you will get what you always got.\" --Anonymous 10. \"Success is walking from failure to failure with no loss of enthusiasm.\" --Winston Churchill 11. \"Just when the caterpillar thought the world was ending, he turned into a butterfly.\" --Proverb 12. \"Successful entrepreneurs are givers and not takers of positive energy.\" --Anonymous 13. \"Whenever you see a successful person you only see the public glories, never the private sacrifices to \n",
      "reach them.\" --Vaibhav Shah 14. \"Opportunities don't happen, you create them.\" --Chris Grosser 15. \"Try not to become a person of success, but rather try to become a person of value.\" --Albert \n",
      "Einstein 16. \"Great minds discuss ideas; average minds discuss events; small minds discuss people.\" --Eleanor \n",
      "Roosevelt \n",
      "17. \"I have not failed. I've just found 10,000 ways that won't work.\" --Thomas A. Edison 18. \"If you don't value your time, neither will others. Stop giving away your time and talents--start \n",
      "charging for it.\" --Kim Garst 19. \"A successful man is one who can lay a firm foundation with the bricks others have thrown at him.\" -\n",
      "-David Brinkley 20. \"No one can make you feel inferior without your consent.\" --Eleanor Roosevelt 21. \"The whole secret of a successful life is to find out what is one's destiny to do, and then do it.\" --\n",
      "Henry Ford 22. \"If you're going through hell keep going.\" --Winston Churchill 23. \"The ones who are crazy enough to think they can change the world, are the ones who do.\" --\n",
      "Anonymous 24. \"Don't raise your voice, improve your argument.\" --Anonymous 25. \"What seems to us as bitter trials are often blessings in disguise.\" --Oscar Wilde 26. \"The meaning of life is to find your gift. The purpose of life is to give it away.\" --Anonymous 27. \"The distance between insanity and genius is measured only by success.\" --Bruce Feirstein 28. \"When you stop chasing the wrong things, you give the right things a chance to catch you.\" --Lolly \n",
      "Daskal 29. \"Don't be afraid to give up the good to go for the great.\" --John D. Rockefeller 30. \"No masterpiece was ever created by a lazy artist.\" --Anonymous 31. \"Happiness is a butterfly, which when pursued, is always beyond your grasp, but which, if you will sit \n",
      "down quietly, may alight upon you.\" --Nathaniel Hawthorne 32. \"If you can't explain it simply, you don't understand it well enough.\" --Albert Einstein 33. \"Blessed are those who can give without remembering and take without forgetting.\" --Anonymous 34. \"Do one thing every day that scares you.\" --Anonymous 35. \"What's the point of being alive if you don't at least try to do something remarkable.\" --Anonymous 36. \"Life is not about finding yourself. Life is about creating yourself.\" --Lolly Daskal 37. \"Nothing in the world is more common than unsuccessful people with talent.\" --Anonymous 38. \"Knowledge is being aware of what you can do. Wisdom is knowing when not to do it.\" --Anonymous  39. \"Your problem isn't the problem. Your reaction is the problem.\" --Anonymous 40. \"You can do anything, but not everything. --Anonymous \n",
      "41. \"Innovation distinguishes between a leader and a follower.\" --Steve Jobs 42. \"There are two types of people who will tell you that you cannot make a difference in this world: \n",
      "those who are afraid to try and those who are afraid you will succeed.\" --Ray Goforth 43. \"Thinking should become your capital asset, no matter whatever ups and downs you come across in \n",
      "your life.\" --A.P.J. Abdul Kalam  44. \"I find that the harder I work, the more luck I seem to have.\" --Thomas Jefferson 45. \"The starting point of all achievement is desire.\" --Napoleon Hill 46. \"Success is the sum of small efforts, repeated day-in and day-out.\" --Robert Collier 47. \"If you want to achieve excellence, you can get there today. As of this second, quit doing less-than-\n",
      "excellent work.\" --Thomas J. Watson 48. \"All progress takes place outside the comfort zone.\" --Michael John Bobak 49. \"You may only succeed if you desire succeeding; you may only fail if you do not mind failing.\" --\n",
      "Philippos 50. \"Courage is resistance to fear, mastery of fear--not absense of fear.\" --Mark Twain' metadata={'source': 'resources\\\\no-code-files\\\\09-50-quotes.txt'}\n"
     ]
    }
   ],
   "source": [
    "loader = TextLoader(prepare_resource_path('09-50-quotes.txt'))\n",
    "docs = loader.lazy_load()\n",
    "\n",
    "for chunk in docs:\n",
    "    print(chunk)"
   ]
  },
  {
   "cell_type": "markdown",
   "metadata": {},
   "source": [
    "- This loader can only load a .txt, .md, no-extension file containing text.\n",
    "- This can't load any pdf, docx, csv, png file.\n",
    "- In the metadata, it gives source: filepath only."
   ]
  },
  {
   "cell_type": "markdown",
   "metadata": {},
   "source": [
    "### CSV Loader"
   ]
  },
  {
   "cell_type": "markdown",
   "metadata": {},
   "source": [
    "#### CSVLoader"
   ]
  },
  {
   "cell_type": "code",
   "execution_count": 107,
   "metadata": {},
   "outputs": [],
   "source": [
    "from langchain_community.document_loaders.csv_loader import CSVLoader\n",
    "\n",
    "loader = CSVLoader(prepare_resource_path(\"07-quote-dateset.csv\"), source_column='author')\n",
    "docs = loader.load()"
   ]
  },
  {
   "cell_type": "code",
   "execution_count": 92,
   "metadata": {},
   "outputs": [
    {
     "data": {
      "text/plain": [
       "75966"
      ]
     },
     "execution_count": 92,
     "metadata": {},
     "output_type": "execute_result"
    }
   ],
   "source": [
    "# each row is treated as a separate document\n",
    "len(docs)"
   ]
  },
  {
   "cell_type": "code",
   "execution_count": 103,
   "metadata": {},
   "outputs": [
    {
     "data": {
      "text/plain": [
       "\"quote: Age is an issue of mind over matter. If you don't mind, it doesn't matter.\\nauthor: Mark Twain\""
      ]
     },
     "execution_count": 103,
     "metadata": {},
     "output_type": "execute_result"
    }
   ],
   "source": [
    "docs[0].page_content"
   ]
  },
  {
   "cell_type": "code",
   "execution_count": 99,
   "metadata": {},
   "outputs": [
    {
     "data": {
      "text/plain": [
       "str"
      ]
     },
     "execution_count": 99,
     "metadata": {},
     "output_type": "execute_result"
    }
   ],
   "source": [
    "type(docs[0].page_content)"
   ]
  },
  {
   "cell_type": "code",
   "execution_count": 105,
   "metadata": {},
   "outputs": [
    {
     "data": {
      "text/plain": [
       "0"
      ]
     },
     "execution_count": 105,
     "metadata": {},
     "output_type": "execute_result"
    }
   ],
   "source": [
    "docs[0].page_content.find('quote')"
   ]
  },
  {
   "cell_type": "code",
   "execution_count": 102,
   "metadata": {},
   "outputs": [
    {
     "data": {
      "text/plain": [
       "{'source': 'Mark Twain', 'row': 0}"
      ]
     },
     "execution_count": 102,
     "metadata": {},
     "output_type": "execute_result"
    }
   ],
   "source": [
    "docs[0].metadata"
   ]
  },
  {
   "cell_type": "markdown",
   "metadata": {},
   "source": [
    "- This loader loads each rows as a separate document.\n",
    "- If required, it updates the source of each document (row) to the defined column. So it'll use the corresponding entry for each row from that column."
   ]
  },
  {
   "cell_type": "markdown",
   "metadata": {},
   "source": [
    "#### UnstructuredCSVLoader"
   ]
  },
  {
   "cell_type": "code",
   "execution_count": 108,
   "metadata": {},
   "outputs": [],
   "source": [
    "from langchain_community.document_loaders.csv_loader import UnstructuredCSVLoader\n",
    "\n",
    "# not studied right now."
   ]
  },
  {
   "cell_type": "markdown",
   "metadata": {},
   "source": [
    "### PDF Loader"
   ]
  },
  {
   "cell_type": "markdown",
   "metadata": {},
   "source": [
    "#### PyPDFLoader"
   ]
  },
  {
   "cell_type": "code",
   "execution_count": 119,
   "metadata": {},
   "outputs": [],
   "source": [
    "from langchain_community.document_loaders.pdf import PyPDFLoader\n",
    "\n",
    "loader = PyPDFLoader(prepare_resource_path(\"01-motivational-quotes.pdf\"))\n",
    "docs = loader.load()"
   ]
  },
  {
   "cell_type": "code",
   "execution_count": 125,
   "metadata": {},
   "outputs": [
    {
     "data": {
      "text/plain": [
       "{'source': 'resources\\\\no-code-files\\\\01-motivational-quotes.pdf', 'page': 0}"
      ]
     },
     "execution_count": 125,
     "metadata": {},
     "output_type": "execute_result"
    }
   ],
   "source": [
    "docs[0].metadata"
   ]
  },
  {
   "cell_type": "code",
   "execution_count": 124,
   "metadata": {},
   "outputs": [
    {
     "data": {
      "text/plain": [
       "'100 Motivational Quotes That Will Inspire You to Succeed  \\nEveryone needs some inspiration, and these motivational quotes will give you the edge you \\nneed to create your success. So read on and let them inspire you . \\nBy Lolly Daskal  \\nAs leaders,  managers, and bosses, we must realize that everything we think actually matters. If we are \\nseeking success, we must think successful, inspiring, and motivating thoughts.  \\nRead on to find the words of wisdom that will motivate you in building your business, leading your life , \\ncreating success,  achieving your goals, and overcoming your fears.   Here are quotes —100 of them —that \\nwill inspire you r success.   \\n1. \"If you want to achieve greatness  stop asking for permission.\" --Anonymous  \\n2. \"Things work out best for those who make the best of how things work out.\" --John Wooden  \\n3. \"To live a creative life, we must lose  our fear of being wrong.\" --Anonymous  \\n4. \"If you are not willing to risk the usual you will have to settle for the ordinary.\" --Jim Rohn  \\n5. \"Trust because you are willing to accept the risk, not because it\\'s safe or certain.\" --Anonymous  \\n6. \"Take up one i dea. Make that one idea your life --think of it, dream of it, live on that idea. Let the \\nbrain, muscles, nerves, every part of your body, be full of that idea, and just leave every other idea \\nalone. This is the way to  success. \" --Swami Vivekananda  \\n7. \"All our dreams can come true if we have the courage to pursue them.\" --Walt Disney  \\n8. \"Good things come to people who wait, but better things come to those who go out and get them.\" --\\nAnonymous  \\n9. \"If you do what you always did, you will get what you always got.\" --Anonymous  \\n10. \"Success is walking from failure to failure with no loss of enthusiasm.\" --Winston Churchill  \\n11. \"Just when the caterpillar  thought the world was ending, he turned into a butterfly.\" --Proverb  \\n12. \"Successful entrepreneurs are givers and not takers of positive energy.\" --Anonymous  \\n13. \"Whenever you see a successful person  you only see the public glories, never the private sacrifices to \\nreach them.\" --Vaibhav Shah  \\n14. \"Opportunities don \\'t happen, you create them.\" --Chris Grosser  \\n15. \"Try not to become a person of success , but rather try to become a person of value.\" --Albert \\nEinstein  \\n16. \"Gre at minds discuss ideas; average minds discuss events; small minds discuss people.\" --Eleanor \\nRoosevelt  '"
      ]
     },
     "execution_count": 124,
     "metadata": {},
     "output_type": "execute_result"
    }
   ],
   "source": [
    "docs[0].page_content"
   ]
  },
  {
   "cell_type": "code",
   "execution_count": 130,
   "metadata": {},
   "outputs": [],
   "source": [
    "# trying with a pdf having images and columns\n",
    "loader = PyPDFLoader(prepare_resource_path(\"02-quotes-with-mix-format.pdf\"), extract_images=True)\n",
    "docs = loader.load()"
   ]
  },
  {
   "cell_type": "code",
   "execution_count": 131,
   "metadata": {},
   "outputs": [
    {
     "data": {
      "text/plain": [
       "'Slow and s teady wins the race.  \\n \\nNever give up.  \\nIts about the decis ive moment.  \\nPerfectionis\\nnotattainable,\\nbutifwechase\\nperfection we can\\ncatch excellence.\\nVINCELOMBARDI\\nBRIANTRACY'"
      ]
     },
     "execution_count": 131,
     "metadata": {},
     "output_type": "execute_result"
    }
   ],
   "source": [
    "docs[0].page_content"
   ]
  },
  {
   "cell_type": "code",
   "execution_count": 132,
   "metadata": {},
   "outputs": [
    {
     "data": {
      "text/plain": [
       "' \\n \\nPrepare for the real life.  \\n \\nTable -quote -1 Table -quote -2 \\nTable -quote -3 Table -quote -4 \\n \\nIfyoucamchange\\nyourmind,you\\ncamchange\\nyour lhios,\\n=- %9[LL1] 3LAAB8Iifeiswvhat\\nhappenstous\\nwhileweare\\ninalkingother\\nplaus.\"It\\'sthe possibility\\nofhavinga dream\\ncometruethat\\nmakeslife\\ninteresting.\\nPAULO COEHLO\\nTOBAT'"
      ]
     },
     "execution_count": 132,
     "metadata": {},
     "output_type": "execute_result"
    }
   ],
   "source": [
    "docs[1].page_content"
   ]
  },
  {
   "cell_type": "markdown",
   "metadata": {},
   "source": [
    "- This loader treats each page as separate document.\n",
    "- Also gives page_no is metadata\n",
    "- It sometimes add extra spaces betweeb text e.g between a word chars etc.\n",
    "- Uses RapidOCR-Runtime (a DL-based) library to extract text from images when extract_images=True.\n",
    "- This does extracts text form images and  handles table. Extraction is somewhat good but not perfect. Handling tables is not perfect also."
   ]
  },
  {
   "cell_type": "markdown",
   "metadata": {},
   "source": [
    "#### PDFMinerLoader"
   ]
  },
  {
   "cell_type": "code",
   "execution_count": 14,
   "metadata": {},
   "outputs": [],
   "source": [
    "from langchain_community.document_loaders import PDFMinerLoader\n",
    "\n",
    "loader = PDFMinerLoader(prepare_pdf_path(\"07-contract.pdf\"))\n",
    "pages = loader.load()"
   ]
  },
  {
   "cell_type": "code",
   "execution_count": 15,
   "metadata": {},
   "outputs": [
    {
     "data": {
      "text/plain": [
       "'1\\n\\n2\\n\\n3\\n\\n4\\n\\n5\\n\\n6\\n\\n7\\n\\n8\\n\\n9\\n\\nEQUIPMENT TAGGING LEGEND\\n\\nFURNACE HPU\\n\\nRE-BCO201-MCC01\\n\\nCHECK VALVE\\n\\nFILTER\\n\\nCOMPONENT NUMBER\\n(NUMERIC [2 DIGIT])\\n\\nCOMPONENT DESCRIPTION FOR SUB EQUIPMENT\\n\\nEQUIPMENT NUMBER DESIGNATION\\n(NUMERIC [3 OR 4 DIGIT])\\n\\nEQUIPMENT NUMBER DESIGNATION\\n\\nPROCESS AREA\\n\\nFIXED DISPLACEMENT PUMP\\n\\nVARIABLE DISPLACEMENT,\\nPRESSURE COMPENSATED PUMP\\n\\nBREATHER / FILTER\\n\\nHEAT EXCHANGER (COOLER)\\n\\nIMMERSION HEATER\\n\\nCYLINDER\\n\\nPRESSURE RELIEF VALVE\\n\\nDIFFERENTIAL AREA RELIEF VALVE\\n\\nFLOW CONTROL VALVE\\n\\n3-WAY BYPASS VALVE\\n\\nDIRECTIONAL VALVE, 4-WAY, 3-POSITION\\nFLOAT CENTER\\n\\nDIRECTIONAL VALVE, 4-WAY, 3-POSITION\\nTANDEM CENTER, OPEN CROSS-OVER PORTING\\n\\nDIRECTIONAL AIR VALVE, 4-WAY, SINGLE SOLENOID,\\n2-POSITION, AIR RETURN, SPRING ASSISTED\\n\\nPILOT OPERATED\\nDUAL CHECK VALVES\\n\\nA\\n\\nB\\n\\nC\\n\\nD\\n\\nE\\n\\nF\\n\\n         - PRELIMINARY -\\nNOT FOR CONSTRUCTION\\n\\nA\\n\\nREV\\n\\nISSUED FOR DESIGN\\n\\nN. IMEL\\nDESIGN BY\\n\\nT. HULL\\nCHECKED BY\\n\\n07-05-23\\nDATE\\n\\nTHIS DRAWING IS PROPERTY OF ENVIVA, INC. AND IS NOT TO BE\\nREPRODUCED, COPIED OR USED FOR ANY PURPOSE OTHER\\nTHAN CONSTRUCTION OF THIS PROJECT WITHOUT WRITTEN\\nCONSENT OF ENVIVA, INC.\\n\\nENVIVA\\n\\nEPES WOOD PELLET FACILITY\\n\\nI\\n\\nWE IT\\n\\nK\\n\\nS\\nI\\nNC\\n\\nE\\n\\n4\\n\\n8 8\\n\\n1\\n\\n®\\n\\nCOMMON PLANT SYSTEMS\\nP&ID LEGEND SHEET 7 OF 7\\nP&ID\\n\\nENGINEER/DESIGN\\nORIGINATOR\\n\\nT. HULL\\n\\nLEAD ENG\\n\\nENG MGR\\n\\nPROJ MGR\\n\\nC. HERETH\\n\\nE. SKIBBE\\n\\nR. MCNIFF\\n\\nDRAWING NUMBER\\n\\n00-01-D-009\\n\\n\\x0c'"
      ]
     },
     "execution_count": 15,
     "metadata": {},
     "output_type": "execute_result"
    }
   ],
   "source": [
    "pages[0].page_content"
   ]
  },
  {
   "cell_type": "code",
   "execution_count": 18,
   "metadata": {},
   "outputs": [
    {
     "data": {
      "text/plain": [
       "'ISSUED FOR DESIGN\\n\\nN. IMEL\\nDESIGN BY\\n\\nT. HULL\\nCHECKED BY\\n\\n07-05-23\\nDATE\\n\\nTHIS DRAWING IS PROPERTY OF ENVIVA, INC. AND IS NOT TO BE\\nREPRODUCED, COPIED OR USED FOR ANY PURPOSE OTHER\\nTHAN CONSTRUCTION OF THIS PROJECT WITHOUT WRITTEN\\nCONSENT OF ENVIVA, INC.\\n\\nENVIVA\\n\\nEPES WOOD PELLET FACILITY\\n\\nI\\n\\nWE IT\\n\\nK\\n\\nS\\nI\\nNC\\n\\nE\\n\\n4\\n\\n8 8\\n\\n1\\n\\n®\\n\\nCOMMON PLANT SYSTEMS\\nP&ID LEGEND SHEET 7 OF 7\\nP&ID\\n\\nENGINEER/DESIGN\\nORIGINATOR\\n\\nT. HULL\\n\\nLEAD ENG\\n\\nENG MGR\\n\\nPROJ MGR\\n\\nC. HERETH\\n\\nE. SKIBBE\\n\\nR. MCNIFF\\n\\nDRAWING NUMBER\\n\\n00-01-D-009\\n\\n\\x0c'"
      ]
     },
     "execution_count": 18,
     "metadata": {},
     "output_type": "execute_result"
    }
   ],
   "source": [
    "pages[0].page_content[pages[0].page_content.find(\"ISSUED\"):]"
   ]
  },
  {
   "cell_type": "markdown",
   "metadata": {},
   "source": [
    "- extracts even the minute details (from images) e.g. quote, author, publisher from a blurry image with detail like newline etc.\n",
    "- Handles tables well i.e. both the textual and image tables. Just don't provide some key etc. to indicate table. However uses \\n etc.\n",
    "- Handles multiple columns one-by-one.\n",
    "- Beautifully Extracts details from large files.\n",
    "- Awesomely extracts details from contracts (tried drawing.)\n",
    "\n",
    "- Can't handle a pdf of images.\n",
    "- Can't handle Urdu.\n"
   ]
  },
  {
   "cell_type": "code",
   "execution_count": null,
   "metadata": {},
   "outputs": [],
   "source": []
  }
 ],
 "metadata": {
  "kernelspec": {
   "display_name": "langchain",
   "language": "python",
   "name": "python3"
  },
  "language_info": {
   "codemirror_mode": {
    "name": "ipython",
    "version": 3
   },
   "file_extension": ".py",
   "mimetype": "text/x-python",
   "name": "python",
   "nbconvert_exporter": "python",
   "pygments_lexer": "ipython3",
   "version": "3.12.4"
  }
 },
 "nbformat": 4,
 "nbformat_minor": 2
}
