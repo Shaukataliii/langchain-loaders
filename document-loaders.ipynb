{
 "cells": [
  {
   "cell_type": "markdown",
   "metadata": {},
   "source": [
    "# Document Loaders"
   ]
  },
  {
   "cell_type": "code",
   "execution_count": 8,
   "metadata": {},
   "outputs": [],
   "source": [
    "import os\n",
    "def prepare_filesdir_path():\n",
    "    return os.path.join(\"resources\", \"no-code-files\")\n",
    "\n",
    "def prepare_resource_path(filename):\n",
    "    files_dir = prepare_filesdir_path()\n",
    "    return os.path.join(files_dir, filename)\n",
    "\n",
    "def prepare_pdf_path(filename):\n",
    "    files_dir = prepare_filesdir_path()\n",
    "    return os.path.join(files_dir, \"pdfs\", filename)\n",
    "\n",
    "def format_mupdf_str_date(date_str):\n",
    "    from datetime import datetime\n",
    "    timestamp = date_str[2:]    # removing D: from date_str\n",
    "\n",
    "    timestamp = __remove_zone_info_if_available(timestamp)\n",
    "    timestamp = datetime.strptime(timestamp, \"%Y%m%d%H%M%S\")\n",
    "    formatted_date = timestamp.strftime(\"%Y-%m-%d %H-%M-%S\")\n",
    "    return formatted_date\n",
    "\n",
    "def __remove_zone_info_if_available(date_str):\n",
    "    dash_index = date_str.find('-')\n",
    "    if dash_index != -1:\n",
    "        return date_str[:dash_index]\n",
    "    else:\n",
    "        return date_str\n",
    "        \n"
   ]
  },
  {
   "cell_type": "markdown",
   "metadata": {},
   "source": [
    "### TextLoader"
   ]
  },
  {
   "cell_type": "code",
   "execution_count": 90,
   "metadata": {},
   "outputs": [],
   "source": [
    "from langchain_community.document_loaders import TextLoader"
   ]
  },
  {
   "cell_type": "code",
   "execution_count": 14,
   "metadata": {},
   "outputs": [
    {
     "name": "stdout",
     "output_type": "stream",
     "text": [
      "[Document(metadata={'source': 'loader-functionality-to-focus-on.md'}, page_content='# For each document loader in LangChain, you should focus on the following aspects:\\n\\n### Supported File Types:\\nIdentify what file formats the loader can handle (e.g., PDFs, Word docs, CSVs).\\n\\n### Configuration Options:\\nLearn about the customizable parameters or settings available for each loader (e.g., handling large files, extracting metadata, pagination).\\n\\n### Parsing and Extraction:\\nUnderstand how the loader extracts text or data from the document and how it handles complex structures like tables, images, or embedded files.\\n\\n### Efficiency and Performance:\\nExplore how the loader manages memory, speed of loading, and processing large documents or datasets.\\n\\n### Integration with Other Tools:\\nCheck how the loader integrates with other tools or services, such as cloud storage, databases, or web APIs.\\n\\n### Error Handling:\\nInvestigate how the loader deals with corrupted files, missing data, or unsupported formats.\\n\\n### Use Cases:\\nConsider practical scenarios or applications where each loader would be most effective, including any limitations or strengths specific to that loader.\\n\\n### Examples and Tutorials:\\nReview or create sample implementations to see the loader in action with real data, and analyze the output.\\n\\n### Advanced Features:\\nLook for any specialized features like OCR for scanned documents, language detection, or multi-document loading.')]\n"
     ]
    }
   ],
   "source": [
    "loader = TextLoader(\"loader-functionality-to-focus-on.md\")\n",
    "document = loader.load()\n",
    "print(document)"
   ]
  },
  {
   "cell_type": "code",
   "execution_count": 23,
   "metadata": {},
   "outputs": [
    {
     "data": {
      "text/plain": [
       "10"
      ]
     },
     "execution_count": 23,
     "metadata": {},
     "output_type": "execute_result"
    }
   ],
   "source": [
    "len(document[0].page_content.split('\\n\\n'))"
   ]
  },
  {
   "cell_type": "code",
   "execution_count": 28,
   "metadata": {},
   "outputs": [
    {
     "data": {
      "text/plain": [
       "[Document(metadata={'source': 'requirements.txt'}, page_content='ipykernel')]"
      ]
     },
     "execution_count": 28,
     "metadata": {},
     "output_type": "execute_result"
    }
   ],
   "source": [
    "# Let's try loading a txt with it\n",
    "loader = TextLoader('requirements.txt')\n",
    "loader.load()"
   ]
  },
  {
   "cell_type": "code",
   "execution_count": 29,
   "metadata": {},
   "outputs": [
    {
     "data": {
      "text/plain": [
       "[Document(metadata={'source': 'file'}, page_content='how are you. This is a file with no extension.')]"
      ]
     },
     "execution_count": 29,
     "metadata": {},
     "output_type": "execute_result"
    }
   ],
   "source": [
    "loader = TextLoader('file')\n",
    "loader.load()"
   ]
  },
  {
   "cell_type": "code",
   "execution_count": 31,
   "metadata": {},
   "outputs": [
    {
     "data": {
      "text/plain": [
       "[Document(metadata={'source': 'resources\\\\no-code-files\\\\11-quote.txt'}, page_content='Never Say Tomorrow.\\nDo it today.')]"
      ]
     },
     "execution_count": 31,
     "metadata": {},
     "output_type": "execute_result"
    }
   ],
   "source": [
    "loader = TextLoader(prepare_resource_path('11-quote.txt'))\n",
    "loader.load()"
   ]
  },
  {
   "cell_type": "code",
   "execution_count": 33,
   "metadata": {},
   "outputs": [
    {
     "name": "stdout",
     "output_type": "stream",
     "text": [
      "page_content='1. \"If you want to achieve greatness stop asking for permission.\" --Anonymous 2. \"Things work out best for those who make the best of how things work out.\" --John Wooden 3. \"To live a creative life, we must lose our fear of being wrong.\" --Anonymous 4. \"If you are not willing to risk the usual you will have to settle for the ordinary.\" --Jim Rohn 5. \"Trust because you are willing to accept the risk, not because it's safe or certain.\" --Anonymous 6. \"Take up one idea. Make that one idea your life--think of it, dream of it, live on that idea. Let the \n",
      "brain, muscles, nerves, every part of your body, be full of that idea, and just leave every other idea \n",
      "alone. This is the way to success.\" --Swami Vivekananda 7. \"All our dreams can come true if we have the courage to pursue them.\" --Walt Disney 8. \"Good things come to people who wait, but better things come to those who go out and get them.\" --\n",
      "Anonymous 9. \"If you do what you always did, you will get what you always got.\" --Anonymous 10. \"Success is walking from failure to failure with no loss of enthusiasm.\" --Winston Churchill 11. \"Just when the caterpillar thought the world was ending, he turned into a butterfly.\" --Proverb 12. \"Successful entrepreneurs are givers and not takers of positive energy.\" --Anonymous 13. \"Whenever you see a successful person you only see the public glories, never the private sacrifices to \n",
      "reach them.\" --Vaibhav Shah 14. \"Opportunities don't happen, you create them.\" --Chris Grosser 15. \"Try not to become a person of success, but rather try to become a person of value.\" --Albert \n",
      "Einstein 16. \"Great minds discuss ideas; average minds discuss events; small minds discuss people.\" --Eleanor \n",
      "Roosevelt \n",
      "17. \"I have not failed. I've just found 10,000 ways that won't work.\" --Thomas A. Edison 18. \"If you don't value your time, neither will others. Stop giving away your time and talents--start \n",
      "charging for it.\" --Kim Garst 19. \"A successful man is one who can lay a firm foundation with the bricks others have thrown at him.\" -\n",
      "-David Brinkley 20. \"No one can make you feel inferior without your consent.\" --Eleanor Roosevelt 21. \"The whole secret of a successful life is to find out what is one's destiny to do, and then do it.\" --\n",
      "Henry Ford 22. \"If you're going through hell keep going.\" --Winston Churchill 23. \"The ones who are crazy enough to think they can change the world, are the ones who do.\" --\n",
      "Anonymous 24. \"Don't raise your voice, improve your argument.\" --Anonymous 25. \"What seems to us as bitter trials are often blessings in disguise.\" --Oscar Wilde 26. \"The meaning of life is to find your gift. The purpose of life is to give it away.\" --Anonymous 27. \"The distance between insanity and genius is measured only by success.\" --Bruce Feirstein 28. \"When you stop chasing the wrong things, you give the right things a chance to catch you.\" --Lolly \n",
      "Daskal 29. \"Don't be afraid to give up the good to go for the great.\" --John D. Rockefeller 30. \"No masterpiece was ever created by a lazy artist.\" --Anonymous 31. \"Happiness is a butterfly, which when pursued, is always beyond your grasp, but which, if you will sit \n",
      "down quietly, may alight upon you.\" --Nathaniel Hawthorne 32. \"If you can't explain it simply, you don't understand it well enough.\" --Albert Einstein 33. \"Blessed are those who can give without remembering and take without forgetting.\" --Anonymous 34. \"Do one thing every day that scares you.\" --Anonymous 35. \"What's the point of being alive if you don't at least try to do something remarkable.\" --Anonymous 36. \"Life is not about finding yourself. Life is about creating yourself.\" --Lolly Daskal 37. \"Nothing in the world is more common than unsuccessful people with talent.\" --Anonymous 38. \"Knowledge is being aware of what you can do. Wisdom is knowing when not to do it.\" --Anonymous  39. \"Your problem isn't the problem. Your reaction is the problem.\" --Anonymous 40. \"You can do anything, but not everything. --Anonymous \n",
      "41. \"Innovation distinguishes between a leader and a follower.\" --Steve Jobs 42. \"There are two types of people who will tell you that you cannot make a difference in this world: \n",
      "those who are afraid to try and those who are afraid you will succeed.\" --Ray Goforth 43. \"Thinking should become your capital asset, no matter whatever ups and downs you come across in \n",
      "your life.\" --A.P.J. Abdul Kalam  44. \"I find that the harder I work, the more luck I seem to have.\" --Thomas Jefferson 45. \"The starting point of all achievement is desire.\" --Napoleon Hill 46. \"Success is the sum of small efforts, repeated day-in and day-out.\" --Robert Collier 47. \"If you want to achieve excellence, you can get there today. As of this second, quit doing less-than-\n",
      "excellent work.\" --Thomas J. Watson 48. \"All progress takes place outside the comfort zone.\" --Michael John Bobak 49. \"You may only succeed if you desire succeeding; you may only fail if you do not mind failing.\" --\n",
      "Philippos 50. \"Courage is resistance to fear, mastery of fear--not absense of fear.\" --Mark Twain' metadata={'source': 'resources\\\\no-code-files\\\\09-50-quotes.txt'}\n"
     ]
    }
   ],
   "source": [
    "loader = TextLoader(prepare_resource_path('09-50-quotes.txt'))\n",
    "docs = loader.lazy_load()\n",
    "\n",
    "for chunk in docs:\n",
    "    print(chunk)"
   ]
  },
  {
   "cell_type": "markdown",
   "metadata": {},
   "source": [
    "- This loader can only load a .txt, .md, no-extension file containing text.\n",
    "- This can't load any pdf, docx, csv, png file.\n",
    "- In the metadata, it gives source: filepath only."
   ]
  },
  {
   "cell_type": "markdown",
   "metadata": {},
   "source": [
    "### CSV Loader"
   ]
  },
  {
   "cell_type": "markdown",
   "metadata": {},
   "source": [
    "#### CSVLoader"
   ]
  },
  {
   "cell_type": "code",
   "execution_count": 107,
   "metadata": {},
   "outputs": [],
   "source": [
    "from langchain_community.document_loaders.csv_loader import CSVLoader\n",
    "\n",
    "loader = CSVLoader(prepare_resource_path(\"07-quote-dateset.csv\"), source_column='author')\n",
    "docs = loader.load()"
   ]
  },
  {
   "cell_type": "code",
   "execution_count": 92,
   "metadata": {},
   "outputs": [
    {
     "data": {
      "text/plain": [
       "75966"
      ]
     },
     "execution_count": 92,
     "metadata": {},
     "output_type": "execute_result"
    }
   ],
   "source": [
    "# each row is treated as a separate document\n",
    "len(docs)"
   ]
  },
  {
   "cell_type": "code",
   "execution_count": 103,
   "metadata": {},
   "outputs": [
    {
     "data": {
      "text/plain": [
       "\"quote: Age is an issue of mind over matter. If you don't mind, it doesn't matter.\\nauthor: Mark Twain\""
      ]
     },
     "execution_count": 103,
     "metadata": {},
     "output_type": "execute_result"
    }
   ],
   "source": [
    "docs[0].page_content"
   ]
  },
  {
   "cell_type": "code",
   "execution_count": 99,
   "metadata": {},
   "outputs": [
    {
     "data": {
      "text/plain": [
       "str"
      ]
     },
     "execution_count": 99,
     "metadata": {},
     "output_type": "execute_result"
    }
   ],
   "source": [
    "type(docs[0].page_content)"
   ]
  },
  {
   "cell_type": "code",
   "execution_count": 105,
   "metadata": {},
   "outputs": [
    {
     "data": {
      "text/plain": [
       "0"
      ]
     },
     "execution_count": 105,
     "metadata": {},
     "output_type": "execute_result"
    }
   ],
   "source": [
    "docs[0].page_content.find('quote')"
   ]
  },
  {
   "cell_type": "code",
   "execution_count": 102,
   "metadata": {},
   "outputs": [
    {
     "data": {
      "text/plain": [
       "{'source': 'Mark Twain', 'row': 0}"
      ]
     },
     "execution_count": 102,
     "metadata": {},
     "output_type": "execute_result"
    }
   ],
   "source": [
    "docs[0].metadata"
   ]
  },
  {
   "cell_type": "markdown",
   "metadata": {},
   "source": [
    "- This loader loads each rows as a separate document.\n",
    "- If required, it updates the source of each document (row) to the defined column. So it'll use the corresponding entry for each row from that column."
   ]
  },
  {
   "cell_type": "markdown",
   "metadata": {},
   "source": [
    "#### UnstructuredCSVLoader"
   ]
  },
  {
   "cell_type": "code",
   "execution_count": 108,
   "metadata": {},
   "outputs": [],
   "source": [
    "from langchain_community.document_loaders.csv_loader import UnstructuredCSVLoader\n",
    "\n",
    "# not studied right now."
   ]
  },
  {
   "cell_type": "markdown",
   "metadata": {},
   "source": [
    "### PDF Loader"
   ]
  },
  {
   "cell_type": "markdown",
   "metadata": {},
   "source": [
    "#### PyPDFLoader"
   ]
  },
  {
   "cell_type": "code",
   "execution_count": 119,
   "metadata": {},
   "outputs": [],
   "source": [
    "from langchain_community.document_loaders.pdf import PyPDFLoader\n",
    "\n",
    "loader = PyPDFLoader(prepare_resource_path(\"01-motivational-quotes.pdf\"))\n",
    "docs = loader.load()"
   ]
  },
  {
   "cell_type": "code",
   "execution_count": 125,
   "metadata": {},
   "outputs": [
    {
     "data": {
      "text/plain": [
       "{'source': 'resources\\\\no-code-files\\\\01-motivational-quotes.pdf', 'page': 0}"
      ]
     },
     "execution_count": 125,
     "metadata": {},
     "output_type": "execute_result"
    }
   ],
   "source": [
    "docs[0].metadata"
   ]
  },
  {
   "cell_type": "code",
   "execution_count": 124,
   "metadata": {},
   "outputs": [
    {
     "data": {
      "text/plain": [
       "'100 Motivational Quotes That Will Inspire You to Succeed  \\nEveryone needs some inspiration, and these motivational quotes will give you the edge you \\nneed to create your success. So read on and let them inspire you . \\nBy Lolly Daskal  \\nAs leaders,  managers, and bosses, we must realize that everything we think actually matters. If we are \\nseeking success, we must think successful, inspiring, and motivating thoughts.  \\nRead on to find the words of wisdom that will motivate you in building your business, leading your life , \\ncreating success,  achieving your goals, and overcoming your fears.   Here are quotes —100 of them —that \\nwill inspire you r success.   \\n1. \"If you want to achieve greatness  stop asking for permission.\" --Anonymous  \\n2. \"Things work out best for those who make the best of how things work out.\" --John Wooden  \\n3. \"To live a creative life, we must lose  our fear of being wrong.\" --Anonymous  \\n4. \"If you are not willing to risk the usual you will have to settle for the ordinary.\" --Jim Rohn  \\n5. \"Trust because you are willing to accept the risk, not because it\\'s safe or certain.\" --Anonymous  \\n6. \"Take up one i dea. Make that one idea your life --think of it, dream of it, live on that idea. Let the \\nbrain, muscles, nerves, every part of your body, be full of that idea, and just leave every other idea \\nalone. This is the way to  success. \" --Swami Vivekananda  \\n7. \"All our dreams can come true if we have the courage to pursue them.\" --Walt Disney  \\n8. \"Good things come to people who wait, but better things come to those who go out and get them.\" --\\nAnonymous  \\n9. \"If you do what you always did, you will get what you always got.\" --Anonymous  \\n10. \"Success is walking from failure to failure with no loss of enthusiasm.\" --Winston Churchill  \\n11. \"Just when the caterpillar  thought the world was ending, he turned into a butterfly.\" --Proverb  \\n12. \"Successful entrepreneurs are givers and not takers of positive energy.\" --Anonymous  \\n13. \"Whenever you see a successful person  you only see the public glories, never the private sacrifices to \\nreach them.\" --Vaibhav Shah  \\n14. \"Opportunities don \\'t happen, you create them.\" --Chris Grosser  \\n15. \"Try not to become a person of success , but rather try to become a person of value.\" --Albert \\nEinstein  \\n16. \"Gre at minds discuss ideas; average minds discuss events; small minds discuss people.\" --Eleanor \\nRoosevelt  '"
      ]
     },
     "execution_count": 124,
     "metadata": {},
     "output_type": "execute_result"
    }
   ],
   "source": [
    "docs[0].page_content"
   ]
  },
  {
   "cell_type": "code",
   "execution_count": 130,
   "metadata": {},
   "outputs": [],
   "source": [
    "# trying with a pdf having images and columns\n",
    "loader = PyPDFLoader(prepare_resource_path(\"02-quotes-with-mix-format.pdf\"), extract_images=True)\n",
    "docs = loader.load()"
   ]
  },
  {
   "cell_type": "code",
   "execution_count": 131,
   "metadata": {},
   "outputs": [
    {
     "data": {
      "text/plain": [
       "'Slow and s teady wins the race.  \\n \\nNever give up.  \\nIts about the decis ive moment.  \\nPerfectionis\\nnotattainable,\\nbutifwechase\\nperfection we can\\ncatch excellence.\\nVINCELOMBARDI\\nBRIANTRACY'"
      ]
     },
     "execution_count": 131,
     "metadata": {},
     "output_type": "execute_result"
    }
   ],
   "source": [
    "docs[0].page_content"
   ]
  },
  {
   "cell_type": "code",
   "execution_count": 132,
   "metadata": {},
   "outputs": [
    {
     "data": {
      "text/plain": [
       "' \\n \\nPrepare for the real life.  \\n \\nTable -quote -1 Table -quote -2 \\nTable -quote -3 Table -quote -4 \\n \\nIfyoucamchange\\nyourmind,you\\ncamchange\\nyour lhios,\\n=- %9[LL1] 3LAAB8Iifeiswvhat\\nhappenstous\\nwhileweare\\ninalkingother\\nplaus.\"It\\'sthe possibility\\nofhavinga dream\\ncometruethat\\nmakeslife\\ninteresting.\\nPAULO COEHLO\\nTOBAT'"
      ]
     },
     "execution_count": 132,
     "metadata": {},
     "output_type": "execute_result"
    }
   ],
   "source": [
    "docs[1].page_content"
   ]
  },
  {
   "cell_type": "markdown",
   "metadata": {},
   "source": [
    "- This loader treats each page as separate document.\n",
    "- Also gives page_no is metadata\n",
    "- It sometimes add extra spaces betweeb text e.g between a word chars etc.\n",
    "- Uses RapidOCR-Runtime (a DL-based) library to extract text from images when extract_images=True.\n",
    "- This does extracts text form images and  handles table. Extraction is somewhat good but not perfect. Handling tables is not perfect also."
   ]
  },
  {
   "cell_type": "markdown",
   "metadata": {},
   "source": [
    "#### PDFMinerLoader"
   ]
  },
  {
   "cell_type": "code",
   "execution_count": 14,
   "metadata": {},
   "outputs": [],
   "source": [
    "from langchain_community.document_loaders import PDFMinerLoader\n",
    "\n",
    "loader = PDFMinerLoader(prepare_pdf_path(\"07-contract.pdf\"))\n",
    "pages = loader.load()"
   ]
  },
  {
   "cell_type": "code",
   "execution_count": 15,
   "metadata": {},
   "outputs": [
    {
     "data": {
      "text/plain": [
       "'1\\n\\n2\\n\\n3\\n\\n4\\n\\n5\\n\\n6\\n\\n7\\n\\n8\\n\\n9\\n\\nEQUIPMENT TAGGING LEGEND\\n\\nFURNACE HPU\\n\\nRE-BCO201-MCC01\\n\\nCHECK VALVE\\n\\nFILTER\\n\\nCOMPONENT NUMBER\\n(NUMERIC [2 DIGIT])\\n\\nCOMPONENT DESCRIPTION FOR SUB EQUIPMENT\\n\\nEQUIPMENT NUMBER DESIGNATION\\n(NUMERIC [3 OR 4 DIGIT])\\n\\nEQUIPMENT NUMBER DESIGNATION\\n\\nPROCESS AREA\\n\\nFIXED DISPLACEMENT PUMP\\n\\nVARIABLE DISPLACEMENT,\\nPRESSURE COMPENSATED PUMP\\n\\nBREATHER / FILTER\\n\\nHEAT EXCHANGER (COOLER)\\n\\nIMMERSION HEATER\\n\\nCYLINDER\\n\\nPRESSURE RELIEF VALVE\\n\\nDIFFERENTIAL AREA RELIEF VALVE\\n\\nFLOW CONTROL VALVE\\n\\n3-WAY BYPASS VALVE\\n\\nDIRECTIONAL VALVE, 4-WAY, 3-POSITION\\nFLOAT CENTER\\n\\nDIRECTIONAL VALVE, 4-WAY, 3-POSITION\\nTANDEM CENTER, OPEN CROSS-OVER PORTING\\n\\nDIRECTIONAL AIR VALVE, 4-WAY, SINGLE SOLENOID,\\n2-POSITION, AIR RETURN, SPRING ASSISTED\\n\\nPILOT OPERATED\\nDUAL CHECK VALVES\\n\\nA\\n\\nB\\n\\nC\\n\\nD\\n\\nE\\n\\nF\\n\\n         - PRELIMINARY -\\nNOT FOR CONSTRUCTION\\n\\nA\\n\\nREV\\n\\nISSUED FOR DESIGN\\n\\nN. IMEL\\nDESIGN BY\\n\\nT. HULL\\nCHECKED BY\\n\\n07-05-23\\nDATE\\n\\nTHIS DRAWING IS PROPERTY OF ENVIVA, INC. AND IS NOT TO BE\\nREPRODUCED, COPIED OR USED FOR ANY PURPOSE OTHER\\nTHAN CONSTRUCTION OF THIS PROJECT WITHOUT WRITTEN\\nCONSENT OF ENVIVA, INC.\\n\\nENVIVA\\n\\nEPES WOOD PELLET FACILITY\\n\\nI\\n\\nWE IT\\n\\nK\\n\\nS\\nI\\nNC\\n\\nE\\n\\n4\\n\\n8 8\\n\\n1\\n\\n®\\n\\nCOMMON PLANT SYSTEMS\\nP&ID LEGEND SHEET 7 OF 7\\nP&ID\\n\\nENGINEER/DESIGN\\nORIGINATOR\\n\\nT. HULL\\n\\nLEAD ENG\\n\\nENG MGR\\n\\nPROJ MGR\\n\\nC. HERETH\\n\\nE. SKIBBE\\n\\nR. MCNIFF\\n\\nDRAWING NUMBER\\n\\n00-01-D-009\\n\\n\\x0c'"
      ]
     },
     "execution_count": 15,
     "metadata": {},
     "output_type": "execute_result"
    }
   ],
   "source": [
    "pages[0].page_content"
   ]
  },
  {
   "cell_type": "code",
   "execution_count": 18,
   "metadata": {},
   "outputs": [
    {
     "data": {
      "text/plain": [
       "'ISSUED FOR DESIGN\\n\\nN. IMEL\\nDESIGN BY\\n\\nT. HULL\\nCHECKED BY\\n\\n07-05-23\\nDATE\\n\\nTHIS DRAWING IS PROPERTY OF ENVIVA, INC. AND IS NOT TO BE\\nREPRODUCED, COPIED OR USED FOR ANY PURPOSE OTHER\\nTHAN CONSTRUCTION OF THIS PROJECT WITHOUT WRITTEN\\nCONSENT OF ENVIVA, INC.\\n\\nENVIVA\\n\\nEPES WOOD PELLET FACILITY\\n\\nI\\n\\nWE IT\\n\\nK\\n\\nS\\nI\\nNC\\n\\nE\\n\\n4\\n\\n8 8\\n\\n1\\n\\n®\\n\\nCOMMON PLANT SYSTEMS\\nP&ID LEGEND SHEET 7 OF 7\\nP&ID\\n\\nENGINEER/DESIGN\\nORIGINATOR\\n\\nT. HULL\\n\\nLEAD ENG\\n\\nENG MGR\\n\\nPROJ MGR\\n\\nC. HERETH\\n\\nE. SKIBBE\\n\\nR. MCNIFF\\n\\nDRAWING NUMBER\\n\\n00-01-D-009\\n\\n\\x0c'"
      ]
     },
     "execution_count": 18,
     "metadata": {},
     "output_type": "execute_result"
    }
   ],
   "source": [
    "pages[0].page_content[pages[0].page_content.find(\"ISSUED\"):]"
   ]
  },
  {
   "cell_type": "markdown",
   "metadata": {},
   "source": [
    "- extracts even the minute details (from images) e.g. quote, author, publisher from a blurry image with detail like newline etc.\n",
    "- Handles tables well i.e. both the textual and image tables. Just don't provide some key etc. to indicate table. However uses \\n etc.\n",
    "- Handles multiple columns one-by-one.\n",
    "- Beautifully Extracts details from large files.\n",
    "- Awesomely extracts details from contracts (tried drawing.)\n",
    "\n",
    "- Can't handle a pdf of images.\n",
    "- Can't handle Urdu.\n"
   ]
  },
  {
   "cell_type": "markdown",
   "metadata": {},
   "source": [
    "#### PyMuPDF Loader"
   ]
  },
  {
   "cell_type": "markdown",
   "metadata": {},
   "source": [
    "##### Test 1: Simple text pdf"
   ]
  },
  {
   "cell_type": "code",
   "execution_count": 3,
   "metadata": {},
   "outputs": [
    {
     "data": {
      "text/plain": [
       "[Document(metadata={'source': 'resources\\\\no-code-files\\\\pdfs\\\\01-motivational-quotes.pdf', 'file_path': 'resources\\\\no-code-files\\\\pdfs\\\\01-motivational-quotes.pdf', 'page': 0, 'total_pages': 6, 'format': 'PDF 1.5', 'title': '', 'author': 'Larry', 'subject': '', 'keywords': '', 'creator': 'Microsoft® Word 2010', 'producer': 'Microsoft® Word 2010', 'creationDate': \"D:20141117092635-06'00'\", 'modDate': \"D:20141117092635-06'00'\", 'trapped': ''}, page_content='100 Motivational Quotes That Will Inspire You to Succeed \\nEveryone needs some inspiration, and these motivational quotes will give you the edge you \\nneed to create your success. So read on and let them inspire you. \\nBy Lolly Daskal \\nAs leaders, managers, and bosses, we must realize that everything we think actually matters. If we are \\nseeking success, we must think successful, inspiring, and motivating thoughts. \\nRead on to find the words of wisdom that will motivate you in building your business, leading your life, \\ncreating success, achieving your goals, and overcoming your fears.  Here are quotes—100 of them—that \\nwill inspire your success.  \\n1. \"If you want to achieve greatness stop asking for permission.\" --Anonymous \\n2. \"Things work out best for those who make the best of how things work out.\" --John Wooden \\n3. \"To live a creative life, we must lose our fear of being wrong.\" --Anonymous \\n4. \"If you are not willing to risk the usual you will have to settle for the ordinary.\" --Jim Rohn \\n5. \"Trust because you are willing to accept the risk, not because it\\'s safe or certain.\" --Anonymous \\n6. \"Take up one idea. Make that one idea your life--think of it, dream of it, live on that idea. Let the \\nbrain, muscles, nerves, every part of your body, be full of that idea, and just leave every other idea \\nalone. This is the way to success.\" --Swami Vivekananda \\n7. \"All our dreams can come true if we have the courage to pursue them.\" --Walt Disney \\n8. \"Good things come to people who wait, but better things come to those who go out and get them.\" --\\nAnonymous \\n9. \"If you do what you always did, you will get what you always got.\" --Anonymous \\n10. \"Success is walking from failure to failure with no loss of enthusiasm.\" --Winston Churchill \\n11. \"Just when the caterpillar thought the world was ending, he turned into a butterfly.\" --Proverb \\n12. \"Successful entrepreneurs are givers and not takers of positive energy.\" --Anonymous \\n13. \"Whenever you see a successful person you only see the public glories, never the private sacrifices to \\nreach them.\" --Vaibhav Shah \\n14. \"Opportunities don\\'t happen, you create them.\" --Chris Grosser \\n15. \"Try not to become a person of success, but rather try to become a person of value.\" --Albert \\nEinstein \\n16. \"Great minds discuss ideas; average minds discuss events; small minds discuss people.\" --Eleanor \\nRoosevelt \\n'),\n",
       " Document(metadata={'source': 'resources\\\\no-code-files\\\\pdfs\\\\01-motivational-quotes.pdf', 'file_path': 'resources\\\\no-code-files\\\\pdfs\\\\01-motivational-quotes.pdf', 'page': 1, 'total_pages': 6, 'format': 'PDF 1.5', 'title': '', 'author': 'Larry', 'subject': '', 'keywords': '', 'creator': 'Microsoft® Word 2010', 'producer': 'Microsoft® Word 2010', 'creationDate': \"D:20141117092635-06'00'\", 'modDate': \"D:20141117092635-06'00'\", 'trapped': ''}, page_content='17. \"I have not failed. I\\'ve just found 10,000 ways that won\\'t work.\" --Thomas A. Edison \\n18. \"If you don\\'t value your time, neither will others. Stop giving away your time and talents--start \\ncharging for it.\" --Kim Garst \\n19. \"A successful man is one who can lay a firm foundation with the bricks others have thrown at him.\" -\\n-David Brinkley \\n20. \"No one can make you feel inferior without your consent.\" --Eleanor Roosevelt \\n21. \"The whole secret of a successful life is to find out what is one\\'s destiny to do, and then do it.\" --\\nHenry Ford \\n22. \"If you\\'re going through hell keep going.\" --Winston Churchill \\n23. \"The ones who are crazy enough to think they can change the world, are the ones who do.\" --\\nAnonymous \\n24. \"Don\\'t raise your voice, improve your argument.\" --Anonymous \\n25. \"What seems to us as bitter trials are often blessings in disguise.\" --Oscar Wilde \\n26. \"The meaning of life is to find your gift. The purpose of life is to give it away.\" --Anonymous \\n27. \"The distance between insanity and genius is measured only by success.\" --Bruce Feirstein \\n28. \"When you stop chasing the wrong things, you give the right things a chance to catch you.\" --Lolly \\nDaskal \\n29. \"Don\\'t be afraid to give up the good to go for the great.\" --John D. Rockefeller \\n30. \"No masterpiece was ever created by a lazy artist.\" --Anonymous \\n31. \"Happiness is a butterfly, which when pursued, is always beyond your grasp, but which, if you will sit \\ndown quietly, may alight upon you.\" --Nathaniel Hawthorne \\n32. \"If you can\\'t explain it simply, you don\\'t understand it well enough.\" --Albert Einstein \\n33. \"Blessed are those who can give without remembering and take without forgetting.\" --Anonymous \\n34. \"Do one thing every day that scares you.\" --Anonymous \\n35. \"What\\'s the point of being alive if you don\\'t at least try to do something remarkable.\" --Anonymous \\n36. \"Life is not about finding yourself. Life is about creating yourself.\" --Lolly Daskal \\n37. \"Nothing in the world is more common than unsuccessful people with talent.\" --Anonymous \\n38. \"Knowledge is being aware of what you can do. Wisdom is knowing when not to do it.\" --Anonymous  \\n39. \"Your problem isn\\'t the problem. Your reaction is the problem.\" --Anonymous \\n40. \"You can do anything, but not everything. --Anonymous \\n'),\n",
       " Document(metadata={'source': 'resources\\\\no-code-files\\\\pdfs\\\\01-motivational-quotes.pdf', 'file_path': 'resources\\\\no-code-files\\\\pdfs\\\\01-motivational-quotes.pdf', 'page': 2, 'total_pages': 6, 'format': 'PDF 1.5', 'title': '', 'author': 'Larry', 'subject': '', 'keywords': '', 'creator': 'Microsoft® Word 2010', 'producer': 'Microsoft® Word 2010', 'creationDate': \"D:20141117092635-06'00'\", 'modDate': \"D:20141117092635-06'00'\", 'trapped': ''}, page_content='41. \"Innovation distinguishes between a leader and a follower.\" --Steve Jobs \\n42. \"There are two types of people who will tell you that you cannot make a difference in this world: \\nthose who are afraid to try and those who are afraid you will succeed.\" --Ray Goforth \\n43. \"Thinking should become your capital asset, no matter whatever ups and downs you come across in \\nyour life.\" --A.P.J. Abdul Kalam  \\n44. \"I find that the harder I work, the more luck I seem to have.\" --Thomas Jefferson \\n45. \"The starting point of all achievement is desire.\" --Napoleon Hill \\n46. \"Success is the sum of small efforts, repeated day-in and day-out.\" --Robert Collier \\n47. \"If you want to achieve excellence, you can get there today. As of this second, quit doing less-than-\\nexcellent work.\" --Thomas J. Watson \\n48. \"All progress takes place outside the comfort zone.\" --Michael John Bobak \\n49. \"You may only succeed if you desire succeeding; you may only fail if you do not mind failing.\" --\\nPhilippos \\n50. \"Courage is resistance to fear, mastery of fear--not absense of fear.\" --Mark Twain \\n51. \"Only put off until tomorrow what you are willing to die having left undone.\" --Pablo Picasso \\n52. \"People often say that motivation doesn\\'t last. Well, neither does bathing--that\\'s why we \\nrecommend it daily.\" --Zig Ziglar \\n53. \"We become what we think about most of the time, and that\\'s the strangest secret.\" --Earl \\nNightingale \\n54. \"The only place where success comes before work is in the dictionary.\" --Vidal Sassoon \\n55. \"The best reason to start an organization is to make meaning; to create a product or service to make \\nthe world a better place.\" --Guy Kawasaki \\n56. \"I find that when you have a real interest in life and a curious life, that sleep is not the most \\nimportant thing.\" --Martha Stewart  \\n57. \"It\\'s not what you look at that matters, it\\'s what you see.\" --Anonymous \\n58. \"The road to success and the road to failure are almost exactly the same.\" --Colin R. Davis \\n59. \"The function of leadership is to produce more leaders, not more followers.\" --Ralph Nader \\n60. \"Success is liking yourself, liking what you do, and liking how you do it.\" --Maya Angelou \\n61. \"As we look ahead into the next century, leaders will be those who empower others.\" --Bill Gates \\n62. \"A real entrepreneur is somebody who has no safety net underneath them.\" --Henry Kravis \\n'),\n",
       " Document(metadata={'source': 'resources\\\\no-code-files\\\\pdfs\\\\01-motivational-quotes.pdf', 'file_path': 'resources\\\\no-code-files\\\\pdfs\\\\01-motivational-quotes.pdf', 'page': 3, 'total_pages': 6, 'format': 'PDF 1.5', 'title': '', 'author': 'Larry', 'subject': '', 'keywords': '', 'creator': 'Microsoft® Word 2010', 'producer': 'Microsoft® Word 2010', 'creationDate': \"D:20141117092635-06'00'\", 'modDate': \"D:20141117092635-06'00'\", 'trapped': ''}, page_content='63. \"The first step toward success is taken when you refuse to be a captive of the environment in which \\nyou first find yourself.\" --Mark Caine \\n64. \"People who succeed have momentum. The more they succeed, the more they want to succeed, and \\nthe more they find a way to succeed. Similarly, when someone is failing, the tendency is to get on a \\ndownward spiral that can even become a self-fulfilling prophecy.\" --Tony Robbins \\n65. \"When I dare to be powerful, to use my strength in the service of my vision, then it becomes less and \\nless important whether I am afraid.\" --Audre Lorde \\n66. \"Whenever you find yourself on the side of the majority, it is time to pause and reflect.\" --Mark \\nTwain \\n67. \"The successful warrior is the average man, with laser-like focus.\" --Bruce Lee \\n68. \"Courage is resistance to fear, mastery of fear--not absence of fear.\" --Mark Twain \\n69. \"Develop success from failures. Discouragement and failure are two of the surest stepping stones to \\nsuccess.\" --Dale Carnegie \\n70. \"If you don\\'t design your own life plan, chances are you\\'ll fall into someone else\\'s plan. And guess \\nwhat they have planned for you? Not much.\" --Jim Rohn \\n71. \"If you genuinely want something, don\\'t wait for it--teach yourself to be impatient.\" --Gurbaksh \\nChahal \\n72. \"Don\\'t let the fear of losing be greater than the excitement of winning.\" --Robert Kiyosaki \\n73. \"If you want to make a permanent change, stop focusing on the size of your problems and start \\nfocusing on the size of you!\" --T. Harv Eker \\n74. \"You can\\'t connect the dots looking forward; you can only connect them looking backwards. So you \\nhave to trust that the dots will somehow connect in your future. You have to trust in something--your \\ngut, destiny, life, karma, whatever. This approach has never let me down, and it has made all the \\ndifference in my life.\" --Steve Jobs \\n75. \"Successful people do what unsuccessful people are not willing to do. Don\\'t wish it were easier, wish \\nyou were better.\" --Jim Rohn \\n76. \"The number one reason people fail in life is because they listen to their friends, family, and \\nneighbors.\" --Napoleon Hill \\n77. \"The reason most people never reach their goals is that they don\\'t define them, or ever seriously \\nconsider them as believable or achievable. Winners can tell you where they are going, what they plan to \\ndo along the way, and who will be sharing the adventure with them.\" --Denis Waitley \\n78. \"In my experience, there is only one motivation, and that is desire. No reasons or principle contain it \\nor stand against it.\" --Jane Smiley \\n79. \"Success does not consist in never making mistakes but in never making the same one a second \\ntime.\" --George Bernard Shaw \\n'),\n",
       " Document(metadata={'source': 'resources\\\\no-code-files\\\\pdfs\\\\01-motivational-quotes.pdf', 'file_path': 'resources\\\\no-code-files\\\\pdfs\\\\01-motivational-quotes.pdf', 'page': 4, 'total_pages': 6, 'format': 'PDF 1.5', 'title': '', 'author': 'Larry', 'subject': '', 'keywords': '', 'creator': 'Microsoft® Word 2010', 'producer': 'Microsoft® Word 2010', 'creationDate': \"D:20141117092635-06'00'\", 'modDate': \"D:20141117092635-06'00'\", 'trapped': ''}, page_content='80. \"I don\\'t want to get to the end of my life and find that I lived just the length of it. I want to have lived \\nthe width of it as well.\" --Diane Ackerman \\n81. \"You must expect great things of yourself before you can do them.\" --Michael Jordan \\n82. \"Motivation is what gets you started. Habit is what keeps you going.\" --Jim Ryun \\n83. \"People rarely succeed unless they have fun in what they are doing.\" --Dale Carnegie \\n84. \"There is no chance, no destiny, no fate, that can hinder or control the firm resolve of a determined \\nsoul.\" --Ella Wheeler Wilcox \\n85. \"Our greatest fear should not be of failure but of succeeding at things in life that don\\'t really \\nmatter.\" --Francis Chan \\n86. \"You\\'ve got to get up every morning with determination if you\\'re going to go to bed with \\nsatisfaction.\" --George Lorimer \\n87. \"To be successful you must accept all challenges that come your way. You can\\'t just accept the ones \\nyou like.\" --Mike Gafka \\n88. \"Success is ... knowing your purpose in life, growing to reach your maximum potential, and sowing \\nseeds that benefit others.\" --John C. Maxwell \\n89. \"Be miserable. Or motivate yourself. Whatever has to be done, it\\'s always your choice.\" --Wayne \\nDyer \\n90. \"To accomplish great things, we must not only act, but also dream, not only plan, but also believe.\" --\\nAnatole France \\n91. \"Most of the important things in the world have been accomplished by people who have kept on \\ntrying when there seemed to be no help at all.\" --Dale Carnegie \\n92. \"You measure the size of the accomplishment by the obstacles you had to overcome to reach your \\ngoals.\" --Booker T. Washington \\n93. \"Real difficulties can be overcome; it is only the imaginary ones that are unconquerable.\" --Theodore \\nN. Vail \\n94. \"It is better to fail in originality than to succeed in imitation.\" --Herman Melville \\n95. \"Fortune sides with him who dares.\" --Virgil \\n96. \"Little minds are tamed and subdued by misfortune; but great minds rise above it.\" --Washington \\nIrving \\n97. \"Failure is the condiment that gives success its flavor.\" --Truman Capote \\n98. \"Don\\'t let what you cannot do interfere with what you can do.\" --John R. Wooden \\n99. \"You may have to fight a battle more than once to win it.\" --Margaret Thatcher \\n'),\n",
       " Document(metadata={'source': 'resources\\\\no-code-files\\\\pdfs\\\\01-motivational-quotes.pdf', 'file_path': 'resources\\\\no-code-files\\\\pdfs\\\\01-motivational-quotes.pdf', 'page': 5, 'total_pages': 6, 'format': 'PDF 1.5', 'title': '', 'author': 'Larry', 'subject': '', 'keywords': '', 'creator': 'Microsoft® Word 2010', 'producer': 'Microsoft® Word 2010', 'creationDate': \"D:20141117092635-06'00'\", 'modDate': \"D:20141117092635-06'00'\", 'trapped': ''}, page_content='100. \"A man can be as great as he wants to be. If you believe in yourself and have the courage, the \\ndetermination, the dedication, the competitive drive and if you are willing to sacrifice the little things in \\nlife and pay the price for the things that are worthwhile, it can be done.\" --Vince Lombardi \\nAs we read these thoughts, know they are sources of guidance in times of need, they can give us \\ninspiration in times of struggle, they can motivate us in times of tribulations--success is not final and \\nfailure is not forever: \\nIt is the motivation we choose that matters most. \\nLolly Daskal is the president and CEO of Lead From Within, a global consultancy that specializes in leadership and entrepreneurial \\ndevelopment. Daskal\\'s programs galvanize clients into achieving their best, helping them accelerate and deliver on their professional \\ngoals and business objectives. Trust Across America has identified Daskal as a Top 100 Thought Leader in Trustworthy Business \\nBehavior. Lead From Within is a consultancy with global scope, and Daskal\\'s clients value her exceptional commitment to excellence, \\nintegrity, and results. \\nhttp://www.inc.com/lolly-daskal/100-motivational-quotes-that-will-inspire-you-to-succeed.html?cid=readmore  \\n')]"
      ]
     },
     "execution_count": 3,
     "metadata": {},
     "output_type": "execute_result"
    }
   ],
   "source": [
    "from langchain_community.document_loaders import PyMuPDFLoader\n",
    "\n",
    "loader = PyMuPDFLoader(prepare_pdf_path(\"01-motivational-quotes.pdf\"))\n",
    "docs = loader.load()\n",
    "docs"
   ]
  },
  {
   "cell_type": "code",
   "execution_count": 4,
   "metadata": {},
   "outputs": [
    {
     "data": {
      "text/plain": [
       "{'source': 'resources\\\\no-code-files\\\\pdfs\\\\01-motivational-quotes.pdf',\n",
       " 'file_path': 'resources\\\\no-code-files\\\\pdfs\\\\01-motivational-quotes.pdf',\n",
       " 'page': 1,\n",
       " 'total_pages': 6,\n",
       " 'format': 'PDF 1.5',\n",
       " 'title': '',\n",
       " 'author': 'Larry',\n",
       " 'subject': '',\n",
       " 'keywords': '',\n",
       " 'creator': 'Microsoft® Word 2010',\n",
       " 'producer': 'Microsoft® Word 2010',\n",
       " 'creationDate': \"D:20141117092635-06'00'\",\n",
       " 'modDate': \"D:20141117092635-06'00'\",\n",
       " 'trapped': ''}"
      ]
     },
     "execution_count": 4,
     "metadata": {},
     "output_type": "execute_result"
    }
   ],
   "source": [
    "docs[1].metadata"
   ]
  },
  {
   "cell_type": "code",
   "execution_count": 9,
   "metadata": {},
   "outputs": [
    {
     "data": {
      "text/plain": [
       "'2014-11-17 09-26-35'"
      ]
     },
     "execution_count": 9,
     "metadata": {},
     "output_type": "execute_result"
    }
   ],
   "source": [
    "format_mupdf_str_date(docs[1].metadata['creationDate'])"
   ]
  },
  {
   "cell_type": "code",
   "execution_count": 10,
   "metadata": {},
   "outputs": [
    {
     "data": {
      "text/plain": [
       "'17. \"I have not failed. I\\'ve just found 10,000 ways that won\\'t work.\" --Thomas A. Edison \\n18. \"If you don\\'t value your time, neither will others. Stop giving away your time and talents--start \\ncharging for it.\" --Kim Garst \\n19. \"A successful man is one who can lay a firm foundation with the bricks others have thrown at him.\" -\\n-David Brinkley \\n20. \"No one can make you feel inferior without your consent.\" --Eleanor Roosevelt \\n21. \"The whole secret of a successful life is to find out what is one\\'s destiny to do, and then do it.\" --\\nHenry Ford \\n22. \"If you\\'re going through hell keep going.\" --Winston Churchill \\n23. \"The ones who are crazy enough to think they can change the world, are the ones who do.\" --\\nAnonymous \\n24. \"Don\\'t raise your voice, improve your argument.\" --Anonymous \\n25. \"What seems to us as bitter trials are often blessings in disguise.\" --Oscar Wilde \\n26. \"The meaning of life is to find your gift. The purpose of life is to give it away.\" --Anonymous \\n27. \"The distance between insanity and genius is measured only by success.\" --Bruce Feirstein \\n28. \"When you stop chasing the wrong things, you give the right things a chance to catch you.\" --Lolly \\nDaskal \\n29. \"Don\\'t be afraid to give up the good to go for the great.\" --John D. Rockefeller \\n30. \"No masterpiece was ever created by a lazy artist.\" --Anonymous \\n31. \"Happiness is a butterfly, which when pursued, is always beyond your grasp, but which, if you will sit \\ndown quietly, may alight upon you.\" --Nathaniel Hawthorne \\n32. \"If you can\\'t explain it simply, you don\\'t understand it well enough.\" --Albert Einstein \\n33. \"Blessed are those who can give without remembering and take without forgetting.\" --Anonymous \\n34. \"Do one thing every day that scares you.\" --Anonymous \\n35. \"What\\'s the point of being alive if you don\\'t at least try to do something remarkable.\" --Anonymous \\n36. \"Life is not about finding yourself. Life is about creating yourself.\" --Lolly Daskal \\n37. \"Nothing in the world is more common than unsuccessful people with talent.\" --Anonymous \\n38. \"Knowledge is being aware of what you can do. Wisdom is knowing when not to do it.\" --Anonymous  \\n39. \"Your problem isn\\'t the problem. Your reaction is the problem.\" --Anonymous \\n40. \"You can do anything, but not everything. --Anonymous \\n'"
      ]
     },
     "execution_count": 10,
     "metadata": {},
     "output_type": "execute_result"
    }
   ],
   "source": [
    "docs[1].page_content"
   ]
  },
  {
   "cell_type": "markdown",
   "metadata": {},
   "source": [
    "##### Test 2: pdf having table with images"
   ]
  },
  {
   "cell_type": "code",
   "execution_count": 13,
   "metadata": {},
   "outputs": [
    {
     "data": {
      "text/plain": [
       "[Document(metadata={'source': 'resources\\\\no-code-files\\\\pdfs\\\\02-quotes-with-mix-format.pdf', 'file_path': 'resources\\\\no-code-files\\\\pdfs\\\\02-quotes-with-mix-format.pdf', 'page': 0, 'total_pages': 2, 'format': 'PDF 1.7', 'title': '', 'author': 'Shaukat ali khan', 'subject': '', 'keywords': '', 'creator': 'Microsoft® Word LTSC', 'producer': 'Microsoft® Word LTSC', 'creationDate': \"D:20240825093443+05'00'\", 'modDate': \"D:20240825093443+05'00'\", 'trapped': ''}, page_content='Slow and steady wins the race. \\n \\nNever give up. \\nIts about the decisive moment. \\nPerfection is\\nnotattainable,\\nbutifwechase\\nperfection we can\\ncatch\\n excellence.\\nVINCE LOMBARDI\\nBRIANTRACY'),\n",
       " Document(metadata={'source': 'resources\\\\no-code-files\\\\pdfs\\\\02-quotes-with-mix-format.pdf', 'file_path': 'resources\\\\no-code-files\\\\pdfs\\\\02-quotes-with-mix-format.pdf', 'page': 1, 'total_pages': 2, 'format': 'PDF 1.7', 'title': '', 'author': 'Shaukat ali khan', 'subject': '', 'keywords': '', 'creator': 'Microsoft® Word LTSC', 'producer': 'Microsoft® Word LTSC', 'creationDate': \"D:20240825093443+05'00'\", 'modDate': \"D:20240825093443+05'00'\", 'trapped': ''}, page_content=' \\n \\nPrepare for the real life. \\n \\nTable-quote-1 \\nTable-quote-2 \\nTable-quote-3 \\nTable-quote-4 \\n \\nIfyoucanchange\\nyourmind,you\\ncanchange\\nyourlife.\\n-WILLIAM JAMES\\nERIANTRACYLifeiswhat\\nhappenstous\\nwhileweare\\nmaking other\\nplans.\\nALLEN SAUNDERS\\nERIANTRACY\"It\\'sthe possibility\\nofhavinga dream\\ncometruethat\\nmakeslife\\ninteresting.\\nPAULO COEHLO\\nTODAY')]"
      ]
     },
     "execution_count": 13,
     "metadata": {},
     "output_type": "execute_result"
    }
   ],
   "source": [
    "# try for other pdfs\n",
    "loader = PyMuPDFLoader(prepare_pdf_path(\"02-quotes-with-mix-format.pdf\"), extract_images=True)\n",
    "docs = loader.load()\n",
    "docs"
   ]
  },
  {
   "cell_type": "markdown",
   "metadata": {},
   "source": [
    "##### Test 3: pdf having table"
   ]
  },
  {
   "cell_type": "code",
   "execution_count": 14,
   "metadata": {},
   "outputs": [
    {
     "data": {
      "text/plain": [
       "[Document(metadata={'source': 'resources\\\\no-code-files\\\\pdfs\\\\03-petition-images.pdf', 'file_path': 'resources\\\\no-code-files\\\\pdfs\\\\03-petition-images.pdf', 'page': 0, 'total_pages': 4, 'format': 'PDF 1.7', 'title': 'Hearing before learned Member, Federal Land Commission on 27-08-024', 'author': 'CamScanner', 'subject': 'Hearing before learned Member, Federal Land Commission on 27-08-024', 'keywords': '', 'creator': '', 'producer': 'intsig.com pdf producer', 'creationDate': '', 'modDate': '', 'trapped': ''}, page_content='CamScanner\\ncSU.M.S\\nCOMMISSION,ISLAMABAD\\nApp. No.564-564/M/FLC/2024\\nIslamabad, the 5th August, 2024\\nFrom:\\nReader to Member\\nFederal Land Commission\\nIslamabad.\\nTo\\nThe Province of Punjab through Secretary (Colonies),\\nLRS\\nPunjab, Lahore.\\nThe Senior Member/Chief Land Commissioner, Punjab,\\nLahore.\\nAudiucnal Ceniuty Commissione\\nThe Additional Deputy Commissioner (Revenue)\\n(Revenue)Altock\\nDeputy Land Commissioner,\\nAttock.\\nTitle:\\nAPP. NO.564/M/FLC/2024 - ABDUL ISHAQ SON OF LATE FAZAL DAD R/O\\nMOUZA THATTI\\nKALRA,TEHSIL PINDIGHEB, DISTRICT ATTOCK VERSUS\\nPROVINCEOFPUNJABANDOTHERS.\\nAPP.NO.565/M/FLC/2024- SHAKIR ALI SON OF MUHAMMAD AFZAL R/O\\nKOT\\nSUNDKI\\nTHESILHASSAN\\nABDAAL..\\nDISTRICT ATTOCK\\nVERSUS\\nPROVINCEOFPUNJABANDOTHERS.\\nMEMO\\nThe above titled applications submitted by the counsel for the applicants has\\nLand\\n s         \\n27:08.2024 at 11.00 a.m in FEDERAL LAND COMMISSION, 7TH FLOOR, SHAHEED-E-\\nMILUAT SECRETARIAT, CHINA CHOWK, ISLAMABAD.\\n4\\ncopies enclosed) through your representative duly well conversant with the facts of the\\ncase on the date, time and place mentioned above positively. The court has further\\ndirected that the Patwari Halqa alongwith original revenue record of the cases may\\nalso attend the court on above date of hearing.\\nReader to Member\\n87\\nFederal Land Commission\\nlslamabad\\nAL\\n22\\nAddl.Dgy\\nEdarer (Revenve)\\n2024'),\n",
       " Document(metadata={'source': 'resources\\\\no-code-files\\\\pdfs\\\\03-petition-images.pdf', 'file_path': 'resources\\\\no-code-files\\\\pdfs\\\\03-petition-images.pdf', 'page': 1, 'total_pages': 4, 'format': 'PDF 1.7', 'title': 'Hearing before learned Member, Federal Land Commission on 27-08-024', 'author': 'CamScanner', 'subject': 'Hearing before learned Member, Federal Land Commission on 27-08-024', 'keywords': '', 'creator': '', 'producer': 'intsig.com pdf producer', 'creationDate': '', 'modDate': '', 'trapped': ''}, page_content='CamScanner\\ncSBEFORE THE CHAIRMAN FEDERALLAND COMMISSION\\nISLAMABAD.\\nAPP,NO.S_Member/FLC/2024\\nIN\\nRP.I(\\n)/M/FLC/202\\nAbdul Ishaq son of late Fazal Dad resident of Mauza Thatti Kalra Tehsil Pindigheb\\nDistrict Attock\\n.Petitioner\\nVersus\\n1- Govt. of the Punjab through Secrctary Govt.of the Punjab, Colonics\\nDepartment Lahorc.\\n2-ChiefLand CommissionerPunjabLahore.\\n3-Land Commissioncr Rawalpindi Division\\n4- Deputy Land Commissioner (DLC) Attock.\\n5-Assistant Land Commissioner,Pindigheb\\n6-Tehsildar Pindigheb\\n7-Patwari Halqa Thatti Kalra Tehsil Pindigheb.\\nRespondents\\nSECTION 27 OF LAND REFORMS ACT 1977 - REOUEST FOR GRANT OF\\nRESUMED/ ALLOTABLELANDMEASURING173KANALS09MARLASTO\\nPETITIONER IN KHASRA NO.(PREVIOUS)260(NEW)985/285/2/4.IN MAUZA\\nTHATTIKALRATEHSILPINDIGHEBDISTRRICT ATTOCKASPERLAND\\nREFORMSPOLICY.\\nRespectfully,\\nFollowing submissions are submitted for kind perusal and consideration of\\nthc competent authority:-\\n1- That vide order dated 8-10-1984 passed by the then Deputy Land ,Commissioner,\\nAttock (bcaring No.634/LR/G dated 6-11-1984) the surplus land measuring 293 Acres\\n03 Kanal 02 marlas (cqual to 3968 units) situated in as many as 25 Mauzas of Tehsil\\nPindigheb was rcsumed from Mst.Gulab Bano daughter of Zamurad Khan resident of\\nPindighebDistrict Attock under the provisions ofLand Reforms Act 1977.\\n2- That out of total 293 Acres 03 Kanals and 02 Marlas resumed land, land measuring 26\\nAcres, 05 Kanals and 02 Marlas (213 Kanals 02 Marlas) is situated in Mauza Thatti\\nkalra Tehsil Pindigheb District Attock whereas the remaining resumed land is situated\\nin 24differentmauzas.\\n3- That in the year 2007, the legal heirs of aforesaid Mst.Ghulab Bano, through Malik\\nIftekhar Ali Khan son Malik Amanat Ali Khan, moved an application for the grant of\\ncompensation in lieu of resumption of 3968 units land, as per provisions contained in\\nChapter IV Section 11 of the Land Reforms Manual. The said application was\\nprocessed in the office of DLC Attock as well as in the office of Provincial Land\\nCommission Punjab.'),\n",
       " Document(metadata={'source': 'resources\\\\no-code-files\\\\pdfs\\\\03-petition-images.pdf', 'file_path': 'resources\\\\no-code-files\\\\pdfs\\\\03-petition-images.pdf', 'page': 2, 'total_pages': 4, 'format': 'PDF 1.7', 'title': 'Hearing before learned Member, Federal Land Commission on 27-08-024', 'author': 'CamScanner', 'subject': 'Hearing before learned Member, Federal Land Commission on 27-08-024', 'keywords': '', 'creator': '', 'producer': 'intsig.com pdf producer', 'creationDate': '', 'modDate': '', 'trapped': ''}, page_content='CamScanner\\ncS4. That as is cvident from Jamabandi 1990.91 (copy cnclosed), the Provincial Govt.\\nthrough Punjab Land Commission is owner of 173-Kanals and 09-Marlas in Mauza\\nThatti Kalra, Tehsil Pindigheb and the Petitioner is among the tenants.\\n5- That we are in constant possession of.the land, discussed in Para-4 above, sincc our\\nforefathers and that our posscssion is intact til date without any interruption and our\\nagriculture related houscs also stand constructed thercin.\\n6- That main purposc of MLR 115 of 1972 rcad with Land Reforms Act 1977 is to allot\\nthe resumcd land to the tenants of that land or other tenants in ordcr to.improve the\\nwell- being of thc peasantry by making agriculture a profitable vocation.\\n7. That as provided in section 15 Chapter V of the Land Reforms Manual, the land vested\\nin Government under this Act, shall, subjcct to the provisions of this section, bc\\ngranted free of charge to the tenants who are shown in the revenuc rccord to be in\\ncultivating possession of it during Kharif 1976 and Rabi 1975-76. Therefore, in the\\nyear 1997, bcing tenant ovcr the stated land, I movcd application on prcscribed Form\\nLR-1977-V to the thcn Assistant Commissioner Pindigheb seeking allotment of land in\\nour tenancy posscssion. My application was duly proccssed in the concerned officcs,\\nbut afterwards that was shelved without any final order and we are not being apprised\\nofthelatest situation.\\n8. That since its resumption, we are running from pillar to post 1o gct the said land\\nallotted in our names but we could not get it donc so far. A numbcr of applications\\nwere moved to the Deputy Land Commissioner Attock in this regard which he\\nforwarded to the Assistant Commissioner Pindigheb for report, but despite issuance of\\nreiminders at different times, AC Pindigheb is not responding to the DLC anyway.\\n\\'su si on pone oq pinoys pur pounsu oyn jeui opiaoid op son pun ae ou -6\\nas aforesaid, but the concermcd offices have badly failed to implement the Land\\nReforms Laws in its true spirit in our case rather they are crcating、hurdles in the\\nimplementation of law and land is lying un-allotted so far.\\n10-That due to the fact that CPEC route is passing through the area of mauza Thatti Kalra\\nand the prices of land situatcd in this Mauza have riscn manifold, thercforc such type\\nof state owned lands are very soft target for “Qabza Mafia\". Although, we do posscss\\nthe aforesaid land since decades yet there is an apprehension of manipulation in thc\\nrevenue record for grabbing of the stated land at the hands of unscrupulous elements\\nwhich may makes us to face the untoward consequences.\\n11-That as per Section 27 read with all enabling provisions of Land Reforms Act 1977\\nthc Fedcral Govcrnmcnt through Fedcral Land Commission is fully cmpowered to takc\\ncognizance of such like pending cascs for allotment of resumed land to the tenants and\\nother eligible persons as per given criteria. That we the applicants arc fully cntitled to\\nthe allotment of land as we do qualify the eligibility criteria as well as priority criteria\\nas provided in Land Reforms Laws.\\n12-That recently the Federal Land Commission was pleased to accept the alike rcquests\\nfor allotmcnt of resumed land to the tenants and directions were issued to Deputy Land\\nCommissioner Attock for incorporating necessary entrics in the relevant revenue\\nrecord.\\n13-That our valuablc constitutional rights are involved in this case and we are being\\ndenied to acquire the said constitutional rights for about 30 years despite of our best\\npossible efforts. As long as the resumed land is not allotted to the applicant, it would\\nbe continuous violation of the spirit of Land Reforms Laws in addition to the\\ninfringcment of our constitutional rights.'),\n",
       " Document(metadata={'source': 'resources\\\\no-code-files\\\\pdfs\\\\03-petition-images.pdf', 'file_path': 'resources\\\\no-code-files\\\\pdfs\\\\03-petition-images.pdf', 'page': 3, 'total_pages': 4, 'format': 'PDF 1.7', 'title': 'Hearing before learned Member, Federal Land Commission on 27-08-024', 'author': 'CamScanner', 'subject': 'Hearing before learned Member, Federal Land Commission on 27-08-024', 'keywords': '', 'creator': '', 'producer': 'intsig.com pdf producer', 'creationDate': '', 'modDate': '', 'trapped': ''}, page_content='CamScanner\\ncS14-It is affirmed that the contents of the instant application are true and correct to the\\nbest of my knowledge and belief and nothing has been concealed therefrom.\\nPRAYER\\nKeeping in view the above it is humbly prayed that the instant\\nrevisioy\\npetition/application may kindly be accepted and subject land measuring/173-Kanals and\\n09-Marlas in Khasra No. 985/285/2/4 In Mauza Thatti Kalra Tehsil Pindigheb may\\nkindly be allotted to the applicant in order to fiulfill the aims and objectives of the Land\\nReforms Regulation and thc Act of 1977. Moreover, till the final decision of the instant\\napplication, the respondents may kindly be restrained from further alienating or changing\\nthe current status of stated land in the revenue record or to illegally and unlawfully\\ndispossess the applicant from the same.\\nApplicant\\nAbdul Ishaq s/o late Fazal\\nDad\\nr/o\\nKalra\\nTehsil\\nPindigheb District Attock\\nDated:\\n2024.\\nTHROUGH COUNSEL. Muhamihad Salccm, Advocate\\nDistrict Courts Attock.(License No. 131567)')]"
      ]
     },
     "execution_count": 14,
     "metadata": {},
     "output_type": "execute_result"
    }
   ],
   "source": [
    "loader = PyMuPDFLoader(prepare_pdf_path(\"03-petition-images.pdf\"), extract_images=True)\n",
    "docs = loader.load()\n",
    "docs"
   ]
  },
  {
   "cell_type": "code",
   "execution_count": 18,
   "metadata": {},
   "outputs": [
    {
     "data": {
      "text/plain": [
       "[Document(metadata={'source': 'resources\\\\no-code-files\\\\pdfs\\\\05-bank-challan.pdf', 'file_path': 'resources\\\\no-code-files\\\\pdfs\\\\05-bank-challan.pdf', 'page': 0, 'total_pages': 2, 'format': 'PDF 1.7', 'title': '', 'author': '', 'subject': '', 'keywords': '', 'creator': 'Crystal Reports', 'producer': 'Powered By Crystal', 'creationDate': '', 'modDate': '', 'trapped': ''}, page_content='To Be Filled in By the Remitter\\nTo Be Filled in By the Remitter\\nHead of \\nAccount\\nOrder of \\nBank\\nTo Be Filled in By \\nthe Department \\nOfficer or the \\nTreasury\\nAmount\\nTerritory\\nName or \\ndesignation \\nand address of \\nthe Person on \\nwhose behalf \\nmoney is Paid\\nProvisional/ Centre\\nTreasury/Sub treasury\\n(Cashier in service centre)\\nTo Be Filled in By \\nthe Department \\nOfficer or the \\nTreasury\\nAmount\\nOrder of \\nBank\\nHead of \\nAccount\\nTerritory\\nName or \\ndesignation \\nand address \\nof the Person \\non whose \\nbehalf money \\nis Paid\\nProvisional/ Centre\\nTreasury/Sub treasury\\n(Cashier in service centre)\\nHead of \\nAccount\\nOrder of \\nBank\\nName or \\ndesignation \\nand address \\nof the Person \\non whose \\nbehalf money \\nis Paid\\nTerritory\\nTo Be Filled in By the Remitter\\nAmount\\nTo Be Filled in By \\nthe Department \\nOfficer or the \\nTreasury\\nChallan Form No.32-A\\nChallan Form No.32-A\\nChallan Form No.32-A\\nProvisional/ Centre\\nTreasury/Sub treasury\\n(Cashier in service centre)\\nTotal\\nDate\\nCorrect, \\nReceived and \\ngrant Receipt\\nSignature and \\nfull \\ndesignation of \\nthe Officer \\nordering the \\nmoney to be \\npaid in\\nت\\nض\\n   ع خن ول سر \\nلق\\nخن آوان\\nن\\nاٹ\\ntپی گھیبب\\nی کہ\\nھٹن\\nت \\nمض\\nدد\\nد\\nف ف\\nSignature and \\nfull \\ndesignation of \\nthe Officer \\nordering the \\nmoney to be \\npaid in\\nCorrect, \\nReceived and \\ngrant Receipt\\nDateدد\\nد\\nف ف\\nن\\nاٹ\\nض\\ntپی گھیبب\\nت\\nی کہ\\nھٹن\\nت \\nمض\\n   ع خن ول سر \\nلق\\nخن آوان\\nTotal\\n    ع خن ول سر\\nلق\\nخن آوان\\nن\\nاٹ\\nض\\ntپی گھیبب\\nت\\nی کہ\\nھٹن\\nت \\nدد مض\\nد\\nف ف\\nSignature and \\nfull \\ndesignation of \\nthe Officer \\nordering the \\nmoney to be \\npaid in\\nCorrect, \\nReceived and \\ngrant Receipt\\nDate\\nTotal\\n 50\\n 50\\n 50\\nB01418\\nB01418\\nB01418\\n 50\\n 50\\n 50\\n15/08/2024 10:23:44\\n15/08/2024 10:23:44\\nDate\\nDate\\n15/08/2024 10:23:44\\nDate\\n 74354168\\n 74354168\\n 74354168\\n 74354168\\n 74354168\\n 74354168\\n 1\\nشک ع خن ول اف خن\\n 1\\nTotal\\nKhewats\\nKhatunies\\nToken No.\\nFard ID.\\nRupees in \\nwords\\nSignature\\nشک ع خن ول اف خن\\nTotal\\nKhewats\\nKhatunies\\nToken No.\\nFard ID.\\nRupees in \\nwords\\nSignature\\nشک ع خن ول اف خن\\nTotal\\nKhewats\\nKhatunies\\nToken No.\\nFard ID.\\nRupees in \\nwords\\nSignature\\n م  پس روپ صف\\nم  پس روپ صف \\nم  پس روپ صف \\n 1\\n 1\\n 1\\n 1\\n22592604\\n22592604\\n22592604\\n40182408159400104\\nPSID\\n40182408159400104\\nPSID\\nPSID\\n40182408159400104\\n 1003 \\n 1003 \\n 1003 \\nSCO Name\\nSCO Name\\nSCO Name\\nشی- روپ اضف ج کواند  ہن15 پ ای آئ ڈی س ف ادائ ک صرت م\\nشی- روپ اضف ج کواند  ہن15 پ ای آئ ڈی س ف ادائ ک صرت م\\nشی- روپ اضف ج کواند  ہن15 پ ای آئ ڈی س ف ادائ ک صرت م\\n'),\n",
       " Document(metadata={'source': 'resources\\\\no-code-files\\\\pdfs\\\\05-bank-challan.pdf', 'file_path': 'resources\\\\no-code-files\\\\pdfs\\\\05-bank-challan.pdf', 'page': 1, 'total_pages': 2, 'format': 'PDF 1.7', 'title': '', 'author': '', 'subject': '', 'keywords': '', 'creator': 'Crystal Reports', 'producer': 'Powered By Crystal', 'creationDate': '', 'modDate': '', 'trapped': ''}, page_content='Miscellaneous Fees- Naqal\\nMiscellaneous Fees- Naqal\\nMiscellaneous Fees- Naqal\\nParticulars of Fee\\nParticulars of Fee\\nParticulars of Fee\\nAmount\\nAmount\\nAmount\\nHead of Account\\nHead of Account\\nHead of Account\\nTotal\\n 700\\n 700\\n 700\\n0110014580001\\n0110014580001\\n0110014580001\\n0110014580001\\nTotal\\nTotal\\nGrand Total\\nGrand Total\\nGrand Total\\nAmount In Words\\nAmount In Words\\nAmount In Words\\n 700\\n 700\\n 700\\n0110014580001\\n0110014580001\\n 750\\n 750\\n 750\\n م  ست س  پس روپ صف\\nم  ست س  پس روپ صف \\nم  ست س  پس روپ صف \\nددtسوس چرج\\nددtسوس چرج\\nددtسوس چرج\\n 74354168\\n 74354168\\n 74354168\\n 74354168\\n 74354168\\n 74354168\\nPSID\\n40182408159400104\\n40182408159400104\\nPSID\\nPSID\\n40182408159400104\\nشی- روپ اضف ج کواند  ہن15 پ ای آئ ڈی س ف ادائ ک صرت م\\nشی- روپ اضف ج کواند  ہن15 پ ای آئ ڈی س ف ادائ ک صرت م\\nشی- روپ اضف ج کواند  ہن15 پ ای آئ ڈی س ف ادائ ک صرت م\\n')]"
      ]
     },
     "execution_count": 18,
     "metadata": {},
     "output_type": "execute_result"
    }
   ],
   "source": [
    "loader = PyMuPDFLoader(prepare_pdf_path(\"05-bank-challan.pdf\"), extract_images=True)\n",
    "docs = loader.load()\n",
    "docs"
   ]
  },
  {
   "cell_type": "code",
   "execution_count": 19,
   "metadata": {},
   "outputs": [
    {
     "data": {
      "text/plain": [
       "[Document(metadata={'source': 'resources\\\\no-code-files\\\\pdfs\\\\06-land-fard.pdf', 'file_path': 'resources\\\\no-code-files\\\\pdfs\\\\06-land-fard.pdf', 'page': 0, 'total_pages': 10, 'format': 'PDF 1.7', 'title': '', 'author': '', 'subject': '', 'keywords': '', 'creator': 'Crystal Reports', 'producer': 'Powered By Crystal', 'creationDate': '', 'modDate': '', 'trapped': ''}, page_content='ورق ن\\nسل\\nض\\nت\\nطف/پ\\nمل\\nی کہ\\nھٹی\\nتھ6پی گھیبب\\nی\\nاٹ2019-20\\n۱\\n۲\\n۳\\n۳\\n۳\\n۳\\n۳\\n۴\\n۵\\n۶\\n۷\\n۸\\n۹\\n۱۰\\n ن کھیبوٹٹ\\n مل\\n وٹن\\nن کھیھ\\nکشر\\n   م ل\\nکائ\\nن مم کشر م احال\\n  ھ\\nن مم مل م ن مم وال/خون قم     اور سن نع حق مل\\nراہ مت\\n مک کت م مص\\nح\\n مص رق مب\\nح\\n ن6زرع نسمس ٹ\\n/\\n1\\n10\\n رق و ق زم ک وار اور\\nوٹن کشر و کھیبوٹٹ \\nمان کھیھ\\nمل\\nکب ن\\nک م\\nن مم ندار (اگ کئ ہ)- 1\\n   شح مل زم- 2\\n مل م تت\\nمل و حب\\n لن ج کشر\\nادا کنھم ہ شح \\nاور مل\\n وسئ آبش\\nم ن مم چہ راجہ \\nوغہ\\n)ب  (م مدی\\nن رج حاران زم\\nنارد\\n ن خہ م ن مم\\nاگ کئ ہ   \\n)(ال)(ج)(د)(ہ)(و\\nOMMKLNNMOBAGHMOLKOMMK\\nKPKKKKKECIANGNJCKKPKK\\nKMIKCFHJIEFIJJHEKKMIK\\nMMMIJIILJIJJILJJKMMMI\\nOCNIEMADNCMBBHGAIHGPI\\nGEDJJPFNGLMGDOOBFMLAI\\nJILMMKGDLFDGBNOGIBLFC\\nFBLNIPMLPGDFIPPABHPBK\\nDLHMFBJJGGJLLDOAEDDPC\\nIHBJDGAHMKMMCPEIMKLAI\\nMMNNAONIJDIKBMOGMIKDC\\nIDANDICDBODHIKFLEHBJK\\nBFLMAMIBPGMNAHFCMDHKI\\nFGCMJPHNGDGMLGPBCCOJK\\nOBIICEHDBOENGLBGMKDAC\\nADNMFNMLBMHFOMLNDEJAI\\nMMIIGDJNHMMPIPGDOMPJK\\nOMMKHMIHMKMELHHFKIKIK\\nKPKKJGNJLJCJCJLGPMNAA\\nKMIKCICNBOJPMIBEFEHJK\\nMMMIMMIAEEMMIAEEIEAEA\\n ) کڈQR( مئ فن س6دد ک تی ک ل اپ من\\n \\nف\\nس کی۔\\nدائ ذات ریرڈ6دد ب\\n \\nف\\n  0۔58مل0۔88\\n0۔30سائ\\n 1\\nقت\\nمل ق1-17-0\\n10064/45696\\n   GانG ولد لعل خGانG  خ\\nمصاحب\\nديہہ G ساکنGقووم اووان\\n قم شخ کرڈ ن۳\\n)(ب\\n37105-4041049-5\\nمل3-15-0\\n20400/45696\\n    وابGتور نGہران دخGسن\\nديہہ G ساکنGقووم اووان\\n قم شخ کرڈ ن۳\\n)(ب\\nمل0-1-45\\n1/144\\n   GانGدر خGاران ب  يہوہ سکنGان\\nديہہ G ساکنGقووم اووان\\n قم شخ کرڈ ن۳\\n)(ب\\n37105-0246391-4\\nو\\nت ب\\nود کاسGخ\\n541\\n443\\n2-0-0غ م من\\nمران6ن\\n443\\n6-8-0ما\\nمران6ن\\n 1\\nوٹن\\nمان کھیھ\\nقت\\nق زم\\n آٹ کل  آٹ مل\\n8-8-0\\nب د م من\\nب\\n2-0-0\\nما\\n6-8-0\\n آٹ کل  آٹ مل\\n8-8-0\\n270\\n277\\n نھمری178 دد بر ن\\n \\nف\\n 14/4/2014 ف\\nPA 11:11:54\\nسل کت\\nدد آئ          ڈی\\n \\n  ف\\nاراض ریرڈس\\n  دڈ ن ۔ دس ک ضورت ن ہ۔\\nکٹاب\\nقم\\nداء6دد اج\\n \\nنھمری ف\\nداء کہ6ن مم اج\\nددف\\n \\nف\\nشخ کرڈ ن\\nن مب اص ہ\\n3710502510245\\nGانGدر خG ولد سکنGانGو علی خ\\nلنہاقوب\\nشک ع خن ول اف خن\\nGاووان\\nDMM- 6پی گھیبب\\nدائ ذات ریرڈ6دد ب\\n \\nف15/08/2024 10:47:08دد پن\\n \\nنھمری ف\\n15/08/2024 10:21:29\\n0-00-00-012-00-00-00-0022592604ھ کہ\\n ن مم درخاس\\n750\\n ٹک ن\\nداء6نھمری ٹک اج 1003 \\n15/08/2024  10:21:06\\n'),\n",
       " Document(metadata={'source': 'resources\\\\no-code-files\\\\pdfs\\\\06-land-fard.pdf', 'file_path': 'resources\\\\no-code-files\\\\pdfs\\\\06-land-fard.pdf', 'page': 1, 'total_pages': 10, 'format': 'PDF 1.7', 'title': '', 'author': '', 'subject': '', 'keywords': '', 'creator': 'Crystal Reports', 'producer': 'Powered By Crystal', 'creationDate': '', 'modDate': '', 'trapped': ''}, page_content='ورق ن\\nسل\\nض\\nت\\nطف/پ\\nمل\\nی کہ\\nھٹی\\nتھ6پی گھیبب\\nی\\nاٹ2019-20\\n۱\\n۲\\n۳\\n۳\\n۳\\n۳\\n۳\\n۴\\n۵\\n۶\\n۷\\n۸\\n۹\\n۱۰\\n ن کھیبوٹٹ\\n مل\\n وٹن\\nن کھیھ\\nکشر\\n   م ل\\nکائ\\nن مم کشر م احال\\n  ھ\\nن مم مل م ن مم وال/خون قم     اور سن نع حق مل\\nراہ مت\\n مک کت م مص\\nح\\n مص رق مب\\nح\\n ن6زرع نسمس ٹ\\n/\\n2\\n10\\n رق و ق زم ک وار اور\\nوٹن کشر و کھیبوٹٹ \\nمان کھیھ\\nمل\\nکب ن\\nک م\\nن مم ندار (اگ کئ ہ)- 1\\n   شح مل زم- 2\\n مل م تت\\nمل و حب\\n لن ج کشر\\nادا کنھم ہ شح \\nاور مل\\n وسئ آبش\\nم ن مم چہ راجہ \\nوغہ\\n)ب  (م مدی\\nن رج حاران زم\\nنارد\\n ن خہ م ن مم\\nاگ کئ ہ   \\n)(ال)(ج)(د)(ہ)(و\\nOMMKLNNMOBAGHMOLKOMMK\\nKPKKKKKECIANGNJCKKPKK\\nKMIKCFHJIEFIJJHEKKMIK\\nMMMIJIILJIJJILJJKMMMI\\nOCNIEMADNCMBBHGAIHGPI\\nGEDJJPFNGLMGDOOBFMLAI\\nJILMMKGDLFDGBNOGIBLFC\\nFBLNIPMLPGDFIPPABHPBK\\nDLHMFBJJGGJLLDOAEDDPC\\nIHBJDGAHMKMMCPEIMKLAI\\nMMNNAONIJDIKBMOGMIKDC\\nIDANDICDBODHIKFLEHBJK\\nBFLMAMIBPGMNAHFCMDHKI\\nFGCMJPHNGDGMLGPBCCOJK\\nOBIICEHDBOENGLBGMKDAC\\nADNMFNMLBMHFOMLNDEJAI\\nMMIIGDJNHMMPIPGDOMPJK\\nOMMKHMIHMKMELHHFKIKIK\\nKPKKJGNJLJCJCJLGPMNAA\\nKMIKCICNBOJPMIBEFEHJK\\nMMMIMMIAEEMMIAEEIEAEA\\n ) کڈQR( مئ فن س6دد ک تی ک ل اپ من\\n \\nف\\nس کی۔\\nدائ ذات ریرڈ6دد ب\\n \\nف\\n277\\nم کر\\nمل0-9-90\\n1/18\\n   GانG  خ\\nوابG ولد نGانGلعل خ\\nديہہ G ساکنGقووم اوا ن\\n قم شخ کرڈ ن۳\\n)(ب\\n09090-9099909-0\\nمل0-9-91\\n1/18\\n   GانG  خ\\nوابG ولد نGانGاحمد خ\\nديہہ G ساکنGقووم اوا ن\\n قم شخ کرڈ ن۳\\n)(ب\\n99090-9990000-9\\nدد آئ          ڈی\\n \\n  ف\\nاراض ریرڈس\\n  دڈ ن ۔ دس ک ضورت ن ہ۔\\nکٹاب\\nقم\\nداء6دد اج\\n \\nنھمری ف\\nداء کہ6ن مم اج\\nددف\\n \\nف\\nشخ کرڈ ن\\nن مب اص ہ\\n3710502510245\\nGانGدر خG ولد سکنGانGو علی خ\\nلنہاقوب\\nشک ع خن ول اف خن\\nGاووان\\nDMM- 6پی گھیبب\\nدائ ذات ریرڈ6دد ب\\n \\nف15/08/2024 10:47:08دد پن\\n \\nنھمری ف\\n15/08/2024 10:21:29\\n0-00-00-012-00-00-00-0022592604ھ کہ\\n ن مم درخاس\\n750\\n ٹک ن\\nداء6نھمری ٹک اج 1003 \\n15/08/2024  10:21:06\\n'),\n",
       " Document(metadata={'source': 'resources\\\\no-code-files\\\\pdfs\\\\06-land-fard.pdf', 'file_path': 'resources\\\\no-code-files\\\\pdfs\\\\06-land-fard.pdf', 'page': 2, 'total_pages': 10, 'format': 'PDF 1.7', 'title': '', 'author': '', 'subject': '', 'keywords': '', 'creator': 'Crystal Reports', 'producer': 'Powered By Crystal', 'creationDate': '', 'modDate': '', 'trapped': ''}, page_content='ورق ن\\nسل\\nض\\nت\\nطف/پ\\nمل\\nی کہ\\nھٹی\\nتھ6پی گھیبب\\nی\\nاٹ2019-20\\n۱\\n۲\\n۳\\n۳\\n۳\\n۳\\n۳\\n۴\\n۵\\n۶\\n۷\\n۸\\n۹\\n۱۰\\n ن کھیبوٹٹ\\n مل\\n وٹن\\nن کھیھ\\nکشر\\n   م ل\\nکائ\\nن مم کشر م احال\\n  ھ\\nن مم مل م ن مم وال/خون قم     اور سن نع حق مل\\nراہ مت\\n مک کت م مص\\nح\\n مص رق مب\\nح\\n ن6زرع نسمس ٹ\\n/\\n3\\n10\\n رق و ق زم ک وار اور\\nوٹن کشر و کھیبوٹٹ \\nمان کھیھ\\nمل\\nکب ن\\nک م\\nن مم ندار (اگ کئ ہ)- 1\\n   شح مل زم- 2\\n مل م تت\\nمل و حب\\n لن ج کشر\\nادا کنھم ہ شح \\nاور مل\\n وسئ آبش\\nم ن مم چہ راجہ \\nوغہ\\n)ب  (م مدی\\nن رج حاران زم\\nنارد\\n ن خہ م ن مم\\nاگ کئ ہ   \\n)(ال)(ج)(د)(ہ)(و\\nOMMKLNNMOBAGHMOLKOMMK\\nKPKKKKKECIANGNJCKKPKK\\nKMIKCFHJIEFIJJHEKKMIK\\nMMMIJIILJIJJILJJKMMMI\\nOCNIEMADNCMBBHGAIHGPI\\nGEDJJPFNGLMGDOOBFMLAI\\nJILMMKGDLFDGBNOGIBLFC\\nFBLNIPMLPGDFIPPABHPBK\\nDLHMFBJJGGJLLDOAEDDPC\\nIHBJDGAHMKMMCPEIMKLAI\\nMMNNAONIJDIKBMOGMIKDC\\nIDANDICDBODHIKFLEHBJK\\nBFLMAMIBPGMNAHFCMDHKI\\nFGCMJPHNGDGMLGPBCCOJK\\nOBIICEHDBOENGLBGMKDAC\\nADNMFNMLBMHFOMLNDEJAI\\nMMIIGDJNHMMPIPGDOMPJK\\nOMMKHMIHMKMELHHFKIKIK\\nKPKKJGNJLJCJCJLGPMNAA\\nKMIKCICNBOJPMIBEFEHJK\\nMMMIMMIAEEMMIAEEIEAEA\\n ) کڈQR( مئ فن س6دد ک تی ک ل اپ من\\n \\nف\\nس کی۔\\nدائ ذات ریرڈ6دد ب\\n \\nف\\n277\\nم کر\\nمل0-9-91\\n1/18\\n   GانG  خ\\nوابG ولد نGانGمحمد خ\\nديہہ G ساکنGقووم اوا ن\\n قم شخ کرڈ ن۳\\n)(ب\\n80809-8098008-8\\nمل0-1-132\\n7/792\\n   GانGدر خGمحمداقون ال ولد سکن\\nديہہ G ساکنGقووم اووان\\n قم شخ کرڈ ن۳\\n)(ب\\n37105-0250986-7\\nدد آئ          ڈی\\n \\n  ف\\nاراض ریرڈس\\n  دڈ ن ۔ دس ک ضورت ن ہ۔\\nکٹاب\\nقم\\nداء6دد اج\\n \\nنھمری ف\\nداء کہ6ن مم اج\\nددف\\n \\nف\\nشخ کرڈ ن\\nن مب اص ہ\\n3710502510245\\nGانGدر خG ولد سکنGانGو علی خ\\nلنہاقوب\\nشک ع خن ول اف خن\\nGاووان\\nDMM- 6پی گھیبب\\nدائ ذات ریرڈ6دد ب\\n \\nف15/08/2024 10:47:08دد پن\\n \\nنھمری ف\\n15/08/2024 10:21:29\\n0-00-00-012-00-00-00-0022592604ھ کہ\\n ن مم درخاس\\n750\\n ٹک ن\\nداء6نھمری ٹک اج 1003 \\n15/08/2024  10:21:06\\n肉'),\n",
       " Document(metadata={'source': 'resources\\\\no-code-files\\\\pdfs\\\\06-land-fard.pdf', 'file_path': 'resources\\\\no-code-files\\\\pdfs\\\\06-land-fard.pdf', 'page': 3, 'total_pages': 10, 'format': 'PDF 1.7', 'title': '', 'author': '', 'subject': '', 'keywords': '', 'creator': 'Crystal Reports', 'producer': 'Powered By Crystal', 'creationDate': '', 'modDate': '', 'trapped': ''}, page_content='ورق ن\\nسل\\nض\\nت\\nطف/پ\\nمل\\nی کہ\\nھٹی\\nتھ6پی گھیبب\\nی\\nاٹ2019-20\\n۱\\n۲\\n۳\\n۳\\n۳\\n۳\\n۳\\n۴\\n۵\\n۶\\n۷\\n۸\\n۹\\n۱۰\\n ن کھیبوٹٹ\\n مل\\n وٹن\\nن کھیھ\\nکشر\\n   م ل\\nکائ\\nن مم کشر م احال\\n  ھ\\nن مم مل م ن مم وال/خون قم     اور سن نع حق مل\\nراہ مت\\n مک کت م مص\\nح\\n مص رق مب\\nح\\n ن6زرع نسمس ٹ\\n/\\n4\\n10\\n رق و ق زم ک وار اور\\nوٹن کشر و کھیبوٹٹ \\nمان کھیھ\\nمل\\nکب ن\\nک م\\nن مم ندار (اگ کئ ہ)- 1\\n   شح مل زم- 2\\n مل م تت\\nمل و حب\\n لن ج کشر\\nادا کنھم ہ شح \\nاور مل\\n وسئ آبش\\nم ن مم چہ راجہ \\nوغہ\\n)ب  (م مدی\\nن رج حاران زم\\nنارد\\n ن خہ م ن مم\\nاگ کئ ہ   \\n)(ال)(ج)(د)(ہ)(و\\nOMMKLNNMOBAGHMOLKOMMK\\nKPKKKKKECIANGNJCKKPKK\\nKMIKCFHJIEFIJJHEKKMIK\\nMMMIJIILJIJJILJJKMMMI\\nOCNIEMADNCMBBHGAIHGPI\\nGEDJJPFNGLMGDOOBFMLAI\\nJILMMKGDLFDGBNOGIBLFC\\nFBLNIPMLPGDFIPPABHPBK\\nDLHMFBJJGGJLLDOAEDDPC\\nIHBJDGAHMKMMCPEIMKLAI\\nMMNNAONIJDIKBMOGMIKDC\\nIDANDICDBODHIKFLEHBJK\\nBFLMAMIBPGMNAHFCMDHKI\\nFGCMJPHNGDGMLGPBCCOJK\\nOBIICEHDBOENGLBGMKDAC\\nADNMFNMLBMHFOMLNDEJAI\\nMMIIGDJNHMMPIPGDOMPJK\\nOMMKHMIHMKMELHHFKIKIK\\nKPKKJGNJLJCJCJLGPMNAA\\nKMIKCICNBOJPMIBEFEHJK\\nMMMIMMIAEEMMIAEEIEAEA\\n ) کڈQR( مئ فن س6دد ک تی ک ل اپ من\\n \\nف\\nس کی۔\\nدائ ذات ریرڈ6دد ب\\n \\nف\\n277\\nم کر\\nمل0-0-202\\n7/1584\\n   GانGدر خGتور سکنGہ ب ی ب ی دخGسايGرح\\nديہہ G ساکنGقووم اووان\\n قم شخ کرڈ ن۳\\n)(ب\\n37105-7747428-2\\nمل0-0-202\\n7/1584\\n   GانGدر خGتور سکنGہ ب ی ب ی دخGعمراي\\nديہہ G ساکنGقووم اووان\\n قم شخ کرڈ ن۳\\n)(ب\\n37105-4055630-6\\nدد آئ          ڈی\\n \\n  ف\\nاراض ریرڈس\\n  دڈ ن ۔ دس ک ضورت ن ہ۔\\nکٹاب\\nقم\\nداء6دد اج\\n \\nنھمری ف\\nداء کہ6ن مم اج\\nددف\\n \\nف\\nشخ کرڈ ن\\nن مب اص ہ\\n3710502510245\\nGانGدر خG ولد سکنGانGو علی خ\\nلنہاقوب\\nشک ع خن ول اف خن\\nGاووان\\nDMM- 6پی گھیبب\\nدائ ذات ریرڈ6دد ب\\n \\nف15/08/2024 10:47:08دد پن\\n \\nنھمری ف\\n15/08/2024 10:21:29\\n0-00-00-012-00-00-00-0022592604ھ کہ\\n ن مم درخاس\\n750\\n ٹک ن\\nداء6نھمری ٹک اج 1003 \\n15/08/2024  10:21:06\\n'),\n",
       " Document(metadata={'source': 'resources\\\\no-code-files\\\\pdfs\\\\06-land-fard.pdf', 'file_path': 'resources\\\\no-code-files\\\\pdfs\\\\06-land-fard.pdf', 'page': 4, 'total_pages': 10, 'format': 'PDF 1.7', 'title': '', 'author': '', 'subject': '', 'keywords': '', 'creator': 'Crystal Reports', 'producer': 'Powered By Crystal', 'creationDate': '', 'modDate': '', 'trapped': ''}, page_content='ورق ن\\nسل\\nض\\nت\\nطف/پ\\nمل\\nی کہ\\nھٹی\\nتھ6پی گھیبب\\nی\\nاٹ2019-20\\n۱\\n۲\\n۳\\n۳\\n۳\\n۳\\n۳\\n۴\\n۵\\n۶\\n۷\\n۸\\n۹\\n۱۰\\n ن کھیبوٹٹ\\n مل\\n وٹن\\nن کھیھ\\nکشر\\n   م ل\\nکائ\\nن مم کشر م احال\\n  ھ\\nن مم مل م ن مم وال/خون قم     اور سن نع حق مل\\nراہ مت\\n مک کت م مص\\nح\\n مص رق مب\\nح\\n ن6زرع نسمس ٹ\\n/\\n5\\n10\\n رق و ق زم ک وار اور\\nوٹن کشر و کھیبوٹٹ \\nمان کھیھ\\nمل\\nکب ن\\nک م\\nن مم ندار (اگ کئ ہ)- 1\\n   شح مل زم- 2\\n مل م تت\\nمل و حب\\n لن ج کشر\\nادا کنھم ہ شح \\nاور مل\\n وسئ آبش\\nم ن مم چہ راجہ \\nوغہ\\n)ب  (م مدی\\nن رج حاران زم\\nنارد\\n ن خہ م ن مم\\nاگ کئ ہ   \\n)(ال)(ج)(د)(ہ)(و\\nOMMKLNNMOBAGHMOLKOMMK\\nKPKKKKKECIANGNJCKKPKK\\nKMIKCFHJIEFIJJHEKKMIK\\nMMMIJIILJIJJILJJKMMMI\\nOCNIEMADNCMBBHGAIHGPI\\nGEDJJPFNGLMGDOOBFMLAI\\nJILMMKGDLFDGBNOGIBLFC\\nFBLNIPMLPGDFIPPABHPBK\\nDLHMFBJJGGJLLDOAEDDPC\\nIHBJDGAHMKMMCPEIMKLAI\\nMMNNAONIJDIKBMOGMIKDC\\nIDANDICDBODHIKFLEHBJK\\nBFLMAMIBPGMNAHFCMDHKI\\nFGCMJPHNGDGMLGPBCCOJK\\nOBIICEHDBOENGLBGMKDAC\\nADNMFNMLBMHFOMLNDEJAI\\nMMIIGDJNHMMPIPGDOMPJK\\nOMMKHMIHMKMELHHFKIKIK\\nKPKKJGNJLJCJCJLGPMNAA\\nKMIKCICNBOJPMIBEFEHJK\\nMMMIMMIAEEMMIAEEIEAEA\\n ) کڈQR( مئ فن س6دد ک تی ک ل اپ من\\n \\nف\\nس کی۔\\nدائ ذات ریرڈ6دد ب\\n \\nف\\n277\\nم کر\\nمل0-0-202\\n7/1584\\n   GانGدر خGتور سکنGہ ب ی ب ی دخGریہ حاي\\nديہہ G ساکنGقووم اووان\\n قم شخ کرڈ ن۳\\n)(ب\\n37105-4160035-6\\nدد آئ          ڈی\\n \\n  ف\\nاراض ریرڈس\\n  دڈ ن ۔ دس ک ضورت ن ہ۔\\nکٹاب\\nقم\\nداء6دد اج\\n \\nنھمری ف\\nداء کہ6ن مم اج\\nددف\\n \\nف\\nشخ کرڈ ن\\nن مب اص ہ\\n3710502510245\\nGانGدر خG ولد سکنGانGو علی خ\\nلنہاقوب\\nشک ع خن ول اف خن\\nGاووان\\nDMM- 6پی گھیبب\\nدائ ذات ریرڈ6دد ب\\n \\nف15/08/2024 10:47:08دد پن\\n \\nنھمری ف\\n15/08/2024 10:21:29\\n0-00-00-012-00-00-00-0022592604ھ کہ\\n ن مم درخاس\\n750\\n ٹک ن\\nداء6نھمری ٹک اج 1003 \\n15/08/2024  10:21:06\\n'),\n",
       " Document(metadata={'source': 'resources\\\\no-code-files\\\\pdfs\\\\06-land-fard.pdf', 'file_path': 'resources\\\\no-code-files\\\\pdfs\\\\06-land-fard.pdf', 'page': 5, 'total_pages': 10, 'format': 'PDF 1.7', 'title': '', 'author': '', 'subject': '', 'keywords': '', 'creator': 'Crystal Reports', 'producer': 'Powered By Crystal', 'creationDate': '', 'modDate': '', 'trapped': ''}, page_content='ورق ن\\nسل\\nض\\nت\\nطف/پ\\nمل\\nی کہ\\nھٹی\\nتھ6پی گھیبب\\nی\\nاٹ2019-20\\n۱\\n۲\\n۳\\n۳\\n۳\\n۳\\n۳\\n۴\\n۵\\n۶\\n۷\\n۸\\n۹\\n۱۰\\n ن کھیبوٹٹ\\n مل\\n وٹن\\nن کھیھ\\nکشر\\n   م ل\\nکائ\\nن مم کشر م احال\\n  ھ\\nن مم مل م ن مم وال/خون قم     اور سن نع حق مل\\nراہ مت\\n مک کت م مص\\nح\\n مص رق مب\\nح\\n ن6زرع نسمس ٹ\\n/\\n6\\n10\\n رق و ق زم ک وار اور\\nوٹن کشر و کھیبوٹٹ \\nمان کھیھ\\nمل\\nکب ن\\nک م\\nن مم ندار (اگ کئ ہ)- 1\\n   شح مل زم- 2\\n مل م تت\\nمل و حب\\n لن ج کشر\\nادا کنھم ہ شح \\nاور مل\\n وسئ آبش\\nم ن مم چہ راجہ \\nوغہ\\n)ب  (م مدی\\nن رج حاران زم\\nنارد\\n ن خہ م ن مم\\nاگ کئ ہ   \\n)(ال)(ج)(د)(ہ)(و\\nOMMKLNNMOBAGHMOLKOMMK\\nKPKKKKKECIANGNJCKKPKK\\nKMIKCFHJIEFIJJHEKKMIK\\nMMMIJIILJIJJILJJKMMMI\\nOCNIEMADNCMBBHGAIHGPI\\nGEDJJPFNGLMGDOOBFMLAI\\nJILMMKGDLFDGBNOGIBLFC\\nFBLNIPMLPGDFIPPABHPBK\\nDLHMFBJJGGJLLDOAEDDPC\\nIHBJDGAHMKMMCPEIMKLAI\\nMMNNAONIJDIKBMOGMIKDC\\nIDANDICDBODHIKFLEHBJK\\nBFLMAMIBPGMNAHFCMDHKI\\nFGCMJPHNGDGMLGPBCCOJK\\nOBIICEHDBOENGLBGMKDAC\\nADNMFNMLBMHFOMLNDEJAI\\nMMIIGDJNHMMPIPGDOMPJK\\nOMMKHMIHMKMELHHFKIKIK\\nKPKKJGNJLJCJCJLGPMNAA\\nKMIKCICNBOJPMIBEFEHJK\\nMMMIMMIAEEMMIAEEIEAEA\\n ) کڈQR( مئ فن س6دد ک تی ک ل اپ من\\n \\nف\\nس کی۔\\nدائ ذات ریرڈ6دد ب\\n \\nف\\n277\\nم کر\\nمل0-0-202\\n7/1584\\n   GانGدر خGتور سکنGسرد ب ی ب ی دخ\\nديہہ G ساکنGقووم اووان\\n قم شخ کرڈ ن۳\\n)(ب\\n37105-0260507-0\\nمل0-9-91\\n1/18\\n   GانG  خ\\nوابG ولد نGانGت تہر خ\\nس\\nديہہ G ساکنGقووم اوا ن\\n قم شخ کرڈ ن۳\\n)(ب\\n37105-0909898-9\\nدد آئ          ڈی\\n \\n  ف\\nاراض ریرڈس\\n  دڈ ن ۔ دس ک ضورت ن ہ۔\\nکٹاب\\nقم\\nداء6دد اج\\n \\nنھمری ف\\nداء کہ6ن مم اج\\nددف\\n \\nف\\nشخ کرڈ ن\\nن مب اص ہ\\n3710502510245\\nGانGدر خG ولد سکنGانGو علی خ\\nلنہاقوب\\nشک ع خن ول اف خن\\nGاووان\\nDMM- 6پی گھیبب\\nدائ ذات ریرڈ6دد ب\\n \\nف15/08/2024 10:47:08دد پن\\n \\nنھمری ف\\n15/08/2024 10:21:29\\n0-00-00-012-00-00-00-0022592604ھ کہ\\n ن مم درخاس\\n750\\n ٹک ن\\nداء6نھمری ٹک اج 1003 \\n15/08/2024  10:21:06\\n'),\n",
       " Document(metadata={'source': 'resources\\\\no-code-files\\\\pdfs\\\\06-land-fard.pdf', 'file_path': 'resources\\\\no-code-files\\\\pdfs\\\\06-land-fard.pdf', 'page': 6, 'total_pages': 10, 'format': 'PDF 1.7', 'title': '', 'author': '', 'subject': '', 'keywords': '', 'creator': 'Crystal Reports', 'producer': 'Powered By Crystal', 'creationDate': '', 'modDate': '', 'trapped': ''}, page_content='ورق ن\\nسل\\nض\\nت\\nطف/پ\\nمل\\nی کہ\\nھٹی\\nتھ6پی گھیبب\\nی\\nاٹ2019-20\\n۱\\n۲\\n۳\\n۳\\n۳\\n۳\\n۳\\n۴\\n۵\\n۶\\n۷\\n۸\\n۹\\n۱۰\\n ن کھیبوٹٹ\\n مل\\n وٹن\\nن کھیھ\\nکشر\\n   م ل\\nکائ\\nن مم کشر م احال\\n  ھ\\nن مم مل م ن مم وال/خون قم     اور سن نع حق مل\\nراہ مت\\n مک کت م مص\\nح\\n مص رق مب\\nح\\n ن6زرع نسمس ٹ\\n/\\n7\\n10\\n رق و ق زم ک وار اور\\nوٹن کشر و کھیبوٹٹ \\nمان کھیھ\\nمل\\nکب ن\\nک م\\nن مم ندار (اگ کئ ہ)- 1\\n   شح مل زم- 2\\n مل م تت\\nمل و حب\\n لن ج کشر\\nادا کنھم ہ شح \\nاور مل\\n وسئ آبش\\nم ن مم چہ راجہ \\nوغہ\\n)ب  (م مدی\\nن رج حاران زم\\nنارد\\n ن خہ م ن مم\\nاگ کئ ہ   \\n)(ال)(ج)(د)(ہ)(و\\nOMMKLNNMOBAGHMOLKOMMK\\nKPKKKKKECIANGNJCKKPKK\\nKMIKCFHJIEFIJJHEKKMIK\\nMMMIJIILJIJJILJJKMMMI\\nOCNIEMADNCMBBHGAIHGPI\\nGEDJJPFNGLMGDOOBFMLAI\\nJILMMKGDLFDGBNOGIBLFC\\nFBLNIPMLPGDFIPPABHPBK\\nDLHMFBJJGGJLLDOAEDDPC\\nIHBJDGAHMKMMCPEIMKLAI\\nMMNNAONIJDIKBMOGMIKDC\\nIDANDICDBODHIKFLEHBJK\\nBFLMAMIBPGMNAHFCMDHKI\\nFGCMJPHNGDGMLGPBCCOJK\\nOBIICEHDBOENGLBGMKDAC\\nADNMFNMLBMHFOMLNDEJAI\\nMMIIGDJNHMMPIPGDOMPJK\\nOMMKHMIHMKMELHHFKIKIK\\nKPKKJGNJLJCJCJLGPMNAA\\nKMIKCICNBOJPMIBEFEHJK\\nMMMIMMIAEEMMIAEEIEAEA\\n ) کڈQR( مئ فن س6دد ک تی ک ل اپ من\\n \\nف\\nس کی۔\\nدائ ذات ریرڈ6دد ب\\n \\nف\\n277\\nم کر\\nمل0-4-181\\n1/36\\n   GانG  خ\\nوابGتور نGو دخGاران ن انGان\\nديہہ G ساکنGقووم اوا ن\\n قم شخ کرڈ ن۳\\n)(ب\\n37105-9898090-9\\nمل0-4-181\\n1/36\\n   GانG  خ\\nوابGتور نGو دخGخلنہ مہ ن ان\\nديہہ G ساکنGقووم اوا ن\\n قم شخ کرڈ ن۳\\n)(ب\\n37105-8990980-9\\nمل0-1-132\\n7/792\\n   GانGدر خGلام محمد ولد سکنGع\\nديہہ G ساکنGقووم اووان\\nدد آئ          ڈی\\n \\n  ف\\nاراض ریرڈس\\n  دڈ ن ۔ دس ک ضورت ن ہ۔\\nکٹاب\\nقم\\nداء6دد اج\\n \\nنھمری ف\\nداء کہ6ن مم اج\\nددف\\n \\nف\\nشخ کرڈ ن\\nن مب اص ہ\\n3710502510245\\nGانGدر خG ولد سکنGانGو علی خ\\nلنہاقوب\\nشک ع خن ول اف خن\\nGاووان\\nDMM- 6پی گھیبب\\nدائ ذات ریرڈ6دد ب\\n \\nف15/08/2024 10:47:08دد پن\\n \\nنھمری ف\\n15/08/2024 10:21:29\\n0-00-00-012-00-00-00-0022592604ھ کہ\\n ن مم درخاس\\n750\\n ٹک ن\\nداء6نھمری ٹک اج 1003 \\n15/08/2024  10:21:06\\n'),\n",
       " Document(metadata={'source': 'resources\\\\no-code-files\\\\pdfs\\\\06-land-fard.pdf', 'file_path': 'resources\\\\no-code-files\\\\pdfs\\\\06-land-fard.pdf', 'page': 7, 'total_pages': 10, 'format': 'PDF 1.7', 'title': '', 'author': '', 'subject': '', 'keywords': '', 'creator': 'Crystal Reports', 'producer': 'Powered By Crystal', 'creationDate': '', 'modDate': '', 'trapped': ''}, page_content='ورق ن\\nسل\\nض\\nت\\nطف/پ\\nمل\\nی کہ\\nھٹی\\nتھ6پی گھیبب\\nی\\nاٹ2019-20\\n۱\\n۲\\n۳\\n۳\\n۳\\n۳\\n۳\\n۴\\n۵\\n۶\\n۷\\n۸\\n۹\\n۱۰\\n ن کھیبوٹٹ\\n مل\\n وٹن\\nن کھیھ\\nکشر\\n   م ل\\nکائ\\nن مم کشر م احال\\n  ھ\\nن مم مل م ن مم وال/خون قم     اور سن نع حق مل\\nراہ مت\\n مک کت م مص\\nح\\n مص رق مب\\nح\\n ن6زرع نسمس ٹ\\n/\\n8\\n10\\n رق و ق زم ک وار اور\\nوٹن کشر و کھیبوٹٹ \\nمان کھیھ\\nمل\\nکب ن\\nک م\\nن مم ندار (اگ کئ ہ)- 1\\n   شح مل زم- 2\\n مل م تت\\nمل و حب\\n لن ج کشر\\nادا کنھم ہ شح \\nاور مل\\n وسئ آبش\\nم ن مم چہ راجہ \\nوغہ\\n)ب  (م مدی\\nن رج حاران زم\\nنارد\\n ن خہ م ن مم\\nاگ کئ ہ   \\n)(ال)(ج)(د)(ہ)(و\\nOMMKLNNMOBAGHMOLKOMMK\\nKPKKKKKECIANGNJCKKPKK\\nKMIKCFHJIEFIJJHEKKMIK\\nMMMIJIILJIJJILJJKMMMI\\nOCNIEMADNCMBBHGAIHGPI\\nGEDJJPFNGLMGDOOBFMLAI\\nJILMMKGDLFDGBNOGIBLFC\\nFBLNIPMLPGDFIPPABHPBK\\nDLHMFBJJGGJLLDOAEDDPC\\nIHBJDGAHMKMMCPEIMKLAI\\nMMNNAONIJDIKBMOGMIKDC\\nIDANDICDBODHIKFLEHBJK\\nBFLMAMIBPGMNAHFCMDHKI\\nFGCMJPHNGDGMLGPBCCOJK\\nOBIICEHDBOENGLBGMKDAC\\nADNMFNMLBMHFOMLNDEJAI\\nMMIIGDJNHMMPIPGDOMPJK\\nOMMKHMIHMKMELHHFKIKIK\\nKPKKJGNJLJCJCJLGPMNAA\\nKMIKCICNBOJPMIBEFEHJK\\nMMMIMMIAEEMMIAEEIEAEA\\n ) کڈQR( مئ فن س6دد ک تی ک ل اپ من\\n \\nف\\nس کی۔\\nدائ ذات ریرڈ6دد ب\\n \\nف\\n277\\nم کر\\n قم شخ کرڈ ن۳\\n)(ب\\n37105-0251015-3\\nمل0-1-132\\n7/792\\n   GانGدر خG ولد سکنGانGو علی خ\\nلنہاقوب\\nديہہ G ساکنGقووم اووان\\n قم شخ کرڈ ن۳\\n)(ب\\n37105-0251024-5\\nدد آئ          ڈی\\n \\n  ف\\nاراض ریرڈس\\n  دڈ ن ۔ دس ک ضورت ن ہ۔\\nکٹاب\\nقم\\nداء6دد اج\\n \\nنھمری ف\\nداء کہ6ن مم اج\\nددف\\n \\nف\\nشخ کرڈ ن\\nن مب اص ہ\\n3710502510245\\nGانGدر خG ولد سکنGانGو علی خ\\nلنہاقوب\\nشک ع خن ول اف خن\\nGاووان\\nDMM- 6پی گھیبب\\nدائ ذات ریرڈ6دد ب\\n \\nف15/08/2024 10:47:08دد پن\\n \\nنھمری ف\\n15/08/2024 10:21:29\\n0-00-00-012-00-00-00-0022592604ھ کہ\\n ن مم درخاس\\n750\\n ٹک ن\\nداء6نھمری ٹک اج 1003 \\n15/08/2024  10:21:06\\n'),\n",
       " Document(metadata={'source': 'resources\\\\no-code-files\\\\pdfs\\\\06-land-fard.pdf', 'file_path': 'resources\\\\no-code-files\\\\pdfs\\\\06-land-fard.pdf', 'page': 8, 'total_pages': 10, 'format': 'PDF 1.7', 'title': '', 'author': '', 'subject': '', 'keywords': '', 'creator': 'Crystal Reports', 'producer': 'Powered By Crystal', 'creationDate': '', 'modDate': '', 'trapped': ''}, page_content='ورق ن\\nسل\\nض\\nت\\nطف/پ\\nمل\\nی کہ\\nھٹی\\nتھ6پی گھیبب\\nی\\nاٹ2019-20\\n۱\\n۲\\n۳\\n۳\\n۳\\n۳\\n۳\\n۴\\n۵\\n۶\\n۷\\n۸\\n۹\\n۱۰\\n ن کھیبوٹٹ\\n مل\\n وٹن\\nن کھیھ\\nکشر\\n   م ل\\nکائ\\nن مم کشر م احال\\n  ھ\\nن مم مل م ن مم وال/خون قم     اور سن نع حق مل\\nراہ مت\\n مک کت م مص\\nح\\n مص رق مب\\nح\\n ن6زرع نسمس ٹ\\n/\\n9\\n10\\n رق و ق زم ک وار اور\\nوٹن کشر و کھیبوٹٹ \\nمان کھیھ\\nمل\\nکب ن\\nک م\\nن مم ندار (اگ کئ ہ)- 1\\n   شح مل زم- 2\\n مل م تت\\nمل و حب\\n لن ج کشر\\nادا کنھم ہ شح \\nاور مل\\n وسئ آبش\\nم ن مم چہ راجہ \\nوغہ\\n)ب  (م مدی\\nن رج حاران زم\\nنارد\\n ن خہ م ن مم\\nاگ کئ ہ   \\n)(ال)(ج)(د)(ہ)(و\\nOMMKLNNMOBAGHMOLKOMMK\\nKPKKKKKECIANGNJCKKPKK\\nKMIKCFHJIEFIJJHEKKMIK\\nMMMIJIILJIJJILJJKMMMI\\nOCNIEMADNCMBBHGAIHGPI\\nGEDJJPFNGLMGDOOBFMLAI\\nJILMMKGDLFDGBNOGIBLFC\\nFBLNIPMLPGDFIPPABHPBK\\nDLHMFBJJGGJLLDOAEDDPC\\nIHBJDGAHMKMMCPEIMKLAI\\nMMNNAONIJDIKBMOGMIKDC\\nIDANDICDBODHIKFLEHBJK\\nBFLMAMIBPGMNAHFCMDHKI\\nFGCMJPHNGDGMLGPBCCOJK\\nOBIICEHDBOENGLBGMKDAC\\nADNMFNMLBMHFOMLNDEJAI\\nMMIIGDJNHMMPIPGDOMPJK\\nOMMKHMIHMKMELHHFKIKIK\\nKPKKJGNJLJCJCJLGPMNAA\\nKMIKCICNBOJPMIBEFEHJK\\nMMMIMMIAEEMMIAEEIEAEA\\n ) کڈQR( مئ فن س6دد ک تی ک ل اپ من\\n \\nف\\nس کی۔\\nدائ ذات ریرڈ6دد ب\\n \\nف\\n277\\nم کر\\nمل0-0-202\\n7/1584\\n   GانGدر خGتور سکنGہ ب ی ب ی  دخGرون یہن\\nديہہ G ساکنGقووم اوا ن\\n قم شخ کرڈ ن۳\\n)(ب\\n37105-7756699-2\\nمان کھیبوٹٹ\\nقت\\n 1\\n8-8-0\\n آٹ کل  آٹ مل\\nق زم\\nغ م من\\n2-0-0\\n ما\\n6-8-0\\nدد آئ          ڈی\\n \\n  ف\\nاراض ریرڈس\\n  دڈ ن ۔ دس ک ضورت ن ہ۔\\nکٹاب\\nقم\\nداء6دد اج\\n \\nنھمری ف\\nداء کہ6ن مم اج\\nددف\\n \\nف\\nشخ کرڈ ن\\nن مب اص ہ\\n3710502510245\\nGانGدر خG ولد سکنGانGو علی خ\\nلنہاقوب\\nشک ع خن ول اف خن\\nGاووان\\nDMM- 6پی گھیبب\\nدائ ذات ریرڈ6دد ب\\n \\nف15/08/2024 10:47:08دد پن\\n \\nنھمری ف\\n15/08/2024 10:21:29\\n0-00-00-012-00-00-00-0022592604ھ کہ\\n ن مم درخاس\\n750\\n ٹک ن\\nداء6نھمری ٹک اج 1003 \\n15/08/2024  10:21:06\\n'),\n",
       " Document(metadata={'source': 'resources\\\\no-code-files\\\\pdfs\\\\06-land-fard.pdf', 'file_path': 'resources\\\\no-code-files\\\\pdfs\\\\06-land-fard.pdf', 'page': 9, 'total_pages': 10, 'format': 'PDF 1.7', 'title': '', 'author': '', 'subject': '', 'keywords': '', 'creator': 'Crystal Reports', 'producer': 'Powered By Crystal', 'creationDate': '', 'modDate': '', 'trapped': ''}, page_content='ورق ن\\nسل\\nض\\nت\\nطف/پ\\nمل\\nی کہ\\nھٹی\\nتھ6پی گھیبب\\nی\\nاٹ2019-20\\n۱\\n۲\\n۳\\n۳\\n۳\\n۳\\n۳\\n۴\\n۵\\n۶\\n۷\\n۸\\n۹\\n۱۰\\n ن کھیبوٹٹ\\n مل\\n وٹن\\nن کھیھ\\nکشر\\n   م ل\\nکائ\\nن مم کشر م احال\\n  ھ\\nن مم مل م ن مم وال/خون قم     اور سن نع حق مل\\nراہ مت\\n مک کت م مص\\nح\\n مص رق مب\\nح\\n ن6زرع نسمس ٹ\\n/\\n10\\n10\\n رق و ق زم ک وار اور\\nوٹن کشر و کھیبوٹٹ \\nمان کھیھ\\nمل\\nکب ن\\nک م\\nن مم ندار (اگ کئ ہ)- 1\\n   شح مل زم- 2\\n مل م تت\\nمل و حب\\n لن ج کشر\\nادا کنھم ہ شح \\nاور مل\\n وسئ آبش\\nم ن مم چہ راجہ \\nوغہ\\n)ب  (م مدی\\nن رج حاران زم\\nنارد\\n ن خہ م ن مم\\nاگ کئ ہ   \\n)(ال)(ج)(د)(ہ)(و\\nOMMKLNNMOBAGHMOLKOMMK\\nKPKKKKKECIANGNJCKKPKK\\nKMIKCFHJIEFIJJHEKKMIK\\nMMMIJIILJIJJILJJKMMMI\\nOCNIEMADNCMBBHGAIHGPI\\nGEDJJPFNGLMGDOOBFMLAI\\nJILMMKGDLFDGBNOGIBLFC\\nFBLNIPMLPGDFIPPABHPBK\\nDLHMFBJJGGJLLDOAEDDPC\\nIHBJDGAHMKMMCPEIMKLAI\\nMMNNAONIJDIKBMOGMIKDC\\nIDANDICDBODHIKFLEHBJK\\nBFLMAMIBPGMNAHFCMDHKI\\nFGCMJPHNGDGMLGPBCCOJK\\nOBIICEHDBOENGLBGMKDAC\\nADNMFNMLBMHFOMLNDEJAI\\nMMIIGDJNHMMPIPGDOMPJK\\nOMMKHMIHMKMELHHFKIKIK\\nKPKKJGNJLJCJCJLGPMNAA\\nKMIKCICNBOJPMIBEFEHJK\\nMMMIMMIAEEMMIAEEIEAEA\\n ) کڈQR( مئ فن س6دد ک تی ک ل اپ من\\n \\nف\\nس کی۔\\nدائ ذات ریرڈ6دد ب\\n \\nف\\nدد آئ          ڈی\\n \\n  ف\\nاراض ریرڈس\\n  دڈ ن ۔ دس ک ضورت ن ہ۔\\nکٹاب\\nقم\\nداء6دد اج\\n \\nنھمری ف\\nداء کہ6ن مم اج\\nددف\\n \\nف\\nشخ کرڈ ن\\nن مب اص ہ\\n3710502510245\\nGانGدر خG ولد سکنGانGو علی خ\\nلنہاقوب\\nشک ع خن ول اف خن\\nGاووان\\nDMM- 6پی گھیبب\\nدائ ذات ریرڈ6دد ب\\n \\nف15/08/2024 10:47:08دد پن\\n \\nنھمری ف\\n15/08/2024 10:21:29\\n0-00-00-012-00-00-00-0022592604ھ کہ\\n ن مم درخاس\\n750\\n ٹک ن\\nداء6نھمری ٹک اج 1003 \\n15/08/2024  10:21:06\\n')]"
      ]
     },
     "execution_count": 19,
     "metadata": {},
     "output_type": "execute_result"
    }
   ],
   "source": [
    "loader = PyMuPDFLoader(prepare_pdf_path(\"06-land-fard.pdf\"), extract_images=True)\n",
    "docs = loader.load()\n",
    "docs"
   ]
  },
  {
   "cell_type": "code",
   "execution_count": 21,
   "metadata": {},
   "outputs": [
    {
     "data": {
      "text/plain": [
       "[Document(metadata={'source': 'resources\\\\no-code-files\\\\pdfs\\\\07-contract.pdf', 'file_path': 'resources\\\\no-code-files\\\\pdfs\\\\07-contract.pdf', 'page': 0, 'total_pages': 1, 'format': 'PDF 1.5', 'title': '', 'author': '', 'subject': '', 'keywords': '', 'creator': '', 'producer': 'PyPDF2', 'creationDate': '', 'modDate': '', 'trapped': ''}, page_content='E\\nN\\nC\\nW\\nE\\nI\\nT\\nK\\nI\\n4\\n1\\n8\\n8\\nI\\nS\\n®\\nA\\nB\\nC\\nD\\nE\\nF\\n9\\n8\\n7\\n6\\n5\\n4\\n3\\n2\\n1\\nENVIVA\\nEPES WOOD PELLET FACILITY\\nENGINEER/DESIGN\\nORIGINATOR\\nLEAD ENG\\nENG MGR\\nPROJ MGR\\nDRAWING NUMBER\\nT. HULL\\n07-05-23\\nN. IMEL\\nISSUED FOR DESIGN\\nA\\nDESIGN BY\\nCHECKED BY\\nREV\\nDATE\\nTHIS DRAWING IS PROPERTY OF ENVIVA, INC. AND IS NOT TO BE\\nREPRODUCED, COPIED OR USED FOR ANY PURPOSE OTHER\\nTHAN CONSTRUCTION OF THIS PROJECT WITHOUT WRITTEN\\nCONSENT OF ENVIVA, INC.\\nE. SKIBBE\\nC. HERETH\\nT. HULL\\nR. MCNIFF\\nCOMMON PLANT SYSTEMS\\nP&ID LEGEND SHEET 7 OF 7\\nP&ID\\n00-01-D-009\\n         - PRELIMINARY -\\nNOT FOR CONSTRUCTION\\nPROCESS AREA\\nCOMPONENT DESCRIPTION FOR SUB EQUIPMENT\\nCOMPONENT NUMBER\\n(NUMERIC [2 DIGIT])\\nEQUIPMENT NUMBER DESIGNATION\\nEQUIPMENT NUMBER DESIGNATION\\n(NUMERIC [3 OR 4 DIGIT])\\nEQUIPMENT TAGGING LEGEND\\nRE-BCO201-MCC01\\nDIRECTIONAL VALVE, 4-WAY, 3-POSITION\\nTANDEM CENTER, OPEN CROSS-OVER PORTING\\nFURNACE HPU\\nDIRECTIONAL VALVE, 4-WAY, 3-POSITION\\nFLOAT CENTER\\nPILOT OPERATED\\nDUAL CHECK VALVES\\nDIRECTIONAL AIR VALVE, 4-WAY, SINGLE SOLENOID,\\n2-POSITION, AIR RETURN, SPRING ASSISTED\\n3-WAY BYPASS VALVE\\nFLOW CONTROL VALVE\\nDIFFERENTIAL AREA RELIEF VALVE\\nPRESSURE RELIEF VALVE\\nCHECK VALVE\\nCYLINDER\\nIMMERSION HEATER\\nHEAT EXCHANGER (COOLER)\\nBREATHER / FILTER\\nFILTER\\nVARIABLE DISPLACEMENT,\\nPRESSURE COMPENSATED PUMP\\nFIXED DISPLACEMENT PUMP\\nReceived \\n11/10/2023\\nMRM\\nMMR\\nReceived\\n12/10/23\\nMRM')]"
      ]
     },
     "execution_count": 21,
     "metadata": {},
     "output_type": "execute_result"
    }
   ],
   "source": [
    "loader = PyMuPDFLoader(prepare_pdf_path(\"07-contract.pdf\"), extract_images=True)\n",
    "docs = loader.load()\n",
    "docs"
   ]
  },
  {
   "cell_type": "code",
   "execution_count": null,
   "metadata": {},
   "outputs": [
    {
     "data": {
      "text/plain": [
       "[Document(metadata={'source': 'resources\\\\no-code-files\\\\pdfs\\\\08-font-styles.pdf', 'file_path': 'resources\\\\no-code-files\\\\pdfs\\\\08-font-styles.pdf', 'page': 0, 'total_pages': 1, 'format': 'PDF 1.7', 'title': '', 'author': 'Shaukat ali khan', 'subject': '', 'keywords': '', 'creator': 'Microsoft® Word LTSC', 'producer': 'Microsoft® Word LTSC', 'creationDate': \"D:20240825164928+05'00'\", 'modDate': \"D:20240825164928+05'00'\", 'trapped': ''}, page_content='This is a pdf with \\nMultile font styles \\nAnd formats \\n')]"
      ]
     },
     "execution_count": 15,
     "metadata": {},
     "output_type": "execute_result"
    }
   ],
   "source": [
    "loader = PyMuPDFLoader(prepare_pdf_path(\"08-font-styles.pdf\"), extract_images=True)\n",
    "docs = loader.load()\n",
    "docs"
   ]
  },
  {
   "cell_type": "code",
   "execution_count": 16,
   "metadata": {},
   "outputs": [
    {
     "data": {
      "text/plain": [
       "[Document(metadata={'source': 'resources\\\\no-code-files\\\\pdfs\\\\09-stamp.pdf', 'file_path': 'resources\\\\no-code-files\\\\pdfs\\\\09-stamp.pdf', 'page': 0, 'total_pages': 1, 'format': 'PDF 1.7', 'title': '', 'author': 'Shaukat ali khan', 'subject': '', 'keywords': '', 'creator': 'Microsoft® Word LTSC', 'producer': 'Microsoft® Word LTSC', 'creationDate': \"D:20240825165003+05'00'\", 'modDate': \"D:20240825165003+05'00'\", 'trapped': ''}, page_content=' \\nMMR\\nReceived\\n11/10/2023\\nMRM')]"
      ]
     },
     "execution_count": 16,
     "metadata": {},
     "output_type": "execute_result"
    }
   ],
   "source": [
    "loader = PyMuPDFLoader(prepare_pdf_path(\"09-stamp.pdf\"), extract_images=True)\n",
    "docs = loader.load()\n",
    "docs"
   ]
  },
  {
   "cell_type": "code",
   "execution_count": 17,
   "metadata": {},
   "outputs": [
    {
     "data": {
      "text/plain": [
       "[Document(metadata={'source': 'resources\\\\no-code-files\\\\pdfs\\\\10-table.pdf', 'file_path': 'resources\\\\no-code-files\\\\pdfs\\\\10-table.pdf', 'page': 0, 'total_pages': 1, 'format': 'PDF 1.6', 'title': '', 'author': 'Mary', 'subject': '', 'keywords': '', 'creator': 'Acrobat PDFMaker 9.0 for Word', 'producer': 'Adobe PDF Library 9.0', 'creationDate': \"D:20110123144232-05'00'\", 'modDate': \"D:20140304212414-05'00'\", 'trapped': ''}, page_content='Example table \\nThis is an example of a data table. \\nDisability \\nCategory \\nParticipants \\nBallots \\nCompleted \\nBallots \\nIncomplete/ \\nTerminated \\nResults \\nAccuracy \\nTime to \\ncomplete \\nBlind \\n5 \\n1 \\n4 \\n34.5%, n=1 \\n1199 sec, n=1 \\nLow Vision \\n5 \\n2 \\n3 \\n98.3% n=2 \\n(97.7%, n=3) \\n1716 sec, n=3 \\n(1934 sec, n=2) \\nDexterity \\n5 \\n4 \\n1 \\n98.3%, n=4 \\n1672.1 sec, n=4 \\nMobility \\n3 \\n3 \\n0 \\n95.4%, n=3 \\n1416 sec, n=3 \\n \\n')]"
      ]
     },
     "execution_count": 17,
     "metadata": {},
     "output_type": "execute_result"
    }
   ],
   "source": [
    "loader = PyMuPDFLoader(prepare_pdf_path(\"10-table.pdf\"), extract_images=True)\n",
    "docs = loader.load()\n",
    "docs"
   ]
  },
  {
   "cell_type": "markdown",
   "metadata": {},
   "source": [
    "- Provides more info related to the pdf file.\n",
    "- Works well for tables (extract values as str.)\n",
    "- Extracts text from images well like PdfMiner. Use this when pdf file details are also required. Takes more time than PdfMiner.\n",
    "- Sometimes provide title of the pdf when it contains images containing text. Good for extracting text from pdfs containing images.\n",
    "- Processes challan well. Don't provide positional information but required values can be extracted from the provided text.\n",
    "\n",
    "- If pdf had image and table on top, then this is not recommended. Using PdfMiner is a better option.\n",
    "- Don't provide information regarding the font styles."
   ]
  },
  {
   "cell_type": "markdown",
   "metadata": {},
   "source": [
    "#### UnstructuredPDFLoader"
   ]
  },
  {
   "cell_type": "code",
   "execution_count": 45,
   "metadata": {},
   "outputs": [
    {
     "data": {
      "text/plain": [
       "[Document(metadata={'source': 'resources\\\\no-code-files\\\\pdfs\\\\01-motivational-quotes.pdf'}, page_content='100 Motivational Quotes That Will Inspire You to Succeed\\n\\nEveryone needs some inspiration, and these motivational quotes will give you the edge you need to create your success. So read on and let them inspire you.\\n\\nBy Lolly Daskal\\n\\nAs leaders, managers, and bosses, we must realize that everything we think actually matters. If we are seeking success, we must think successful, inspiring, and motivating thoughts.\\n\\nRead on to find the words of wisdom that will motivate you in building your business, leading your life, creating success, achieving your goals, and overcoming your fears. Here are quotes—100 of them—that will inspire your success.\\n\\n1. \"If you want to achieve greatness stop asking for permission.\" --Anonymous\\n\\n2. \"Things work out best for those who make the best of how things work out.\" --John Wooden\\n\\n3. \"To live a creative life, we must lose our fear of being wrong.\" --Anonymous\\n\\n4. \"If you are not willing to risk the usual you will have to settle for the ordinary.\" --Jim Rohn\\n\\n5. \"Trust because you are willing to accept the risk, not because it\\'s safe or certain.\" --Anonymous\\n\\n6. \"Take up one idea. Make that one idea your life--think of it, dream of it, live on that idea. Let the brain, muscles, nerves, every part of your body, be full of that idea, and just leave every other idea alone. This is the way to success.\" --Swami Vivekananda\\n\\n7. \"All our dreams can come true if we have the courage to pursue them.\" --Walt Disney\\n\\n8. \"Good things come to people who wait, but better things come to those who go out and get them.\" -- Anonymous\\n\\n9. \"If you do what you always did, you will get what you always got.\" --Anonymous\\n\\n10. \"Success is walking from failure to failure with no loss of enthusiasm.\" --Winston Churchill\\n\\n11. \"Just when the caterpillar thought the world was ending, he turned into a butterfly.\" --Proverb\\n\\n12. \"Successful entrepreneurs are givers and not takers of positive energy.\" --Anonymous\\n\\n13. \"Whenever you see a successful person you only see the public glories, never the private sacrifices to reach them.\" --Vaibhav Shah\\n\\n14. \"Opportunities don\\'t happen, you create them.\" --Chris Grosser\\n\\n15. \"Try not to become a person of success, but rather try to become a person of value.\" --Albert Einstein\\n\\n16. \"Great minds discuss ideas; average minds discuss events; small minds discuss people.\" --Eleanor Roosevelt\\n\\n17. \"I have not failed. I\\'ve just found 10,000 ways that won\\'t work.\" --Thomas A. Edison\\n\\n18. \"If you don\\'t value your time, neither will others. Stop giving away your time and talents--start charging for it.\" --Kim Garst\\n\\n19. \"A successful man is one who can lay a firm foundation with the bricks others have thrown at him.\" - -David Brinkley\\n\\n20. \"No one can make you feel inferior without your consent.\" --Eleanor Roosevelt\\n\\n21. \"The whole secret of a successful life is to find out what is one\\'s destiny to do, and then do it.\" -- Henry Ford\\n\\n22. \"If you\\'re going through hell keep going.\" --Winston Churchill\\n\\n23. \"The ones who are crazy enough to think they can change the world, are the ones who do.\" -- Anonymous\\n\\n24. \"Don\\'t raise your voice, improve your argument.\" --Anonymous\\n\\n25. \"What seems to us as bitter trials are often blessings in disguise.\" --Oscar Wilde\\n\\n26. \"The meaning of life is to find your gift. The purpose of life is to give it away.\" --Anonymous\\n\\n27. \"The distance between insanity and genius is measured only by success.\" --Bruce Feirstein\\n\\n28. \"When you stop chasing the wrong things, you give the right things a chance to catch you.\" --Lolly Daskal\\n\\n29. \"Don\\'t be afraid to give up the good to go for the great.\" --John D. Rockefeller\\n\\n30. \"No masterpiece was ever created by a lazy artist.\" --Anonymous\\n\\n31. \"Happiness is a butterfly, which when pursued, is always beyond your grasp, but which, if you will sit down quietly, may alight upon you.\" --Nathaniel Hawthorne\\n\\n32. \"If you can\\'t explain it simply, you don\\'t understand it well enough.\" --Albert Einstein\\n\\n33. \"Blessed are those who can give without remembering and take without forgetting.\" --Anonymous\\n\\n34. \"Do one thing every day that scares you.\" --Anonymous\\n\\n35. \"What\\'s the point of being alive if you don\\'t at least try to do something remarkable.\" --Anonymous\\n\\n36. \"Life is not about finding yourself. Life is about creating yourself.\" --Lolly Daskal\\n\\n37. \"Nothing in the world is more common than unsuccessful people with talent.\" --Anonymous\\n\\n38. \"Knowledge is being aware of what you can do. Wisdom is knowing when not to do it.\" --Anonymous\\n\\n39. \"Your problem isn\\'t the problem. Your reaction is the problem.\" --Anonymous\\n\\n40. \"You can do anything, but not everything. --Anonymous\\n\\n41. \"Innovation distinguishes between a leader and a follower.\" --Steve Jobs\\n\\n42. \"There are two types of people who will tell you that you cannot make a difference in this world: those who are afraid to try and those who are afraid you will succeed.\" --Ray Goforth\\n\\n43. \"Thinking should become your capital asset, no matter whatever ups and downs you come across in your life.\" --A.P.J. Abdul Kalam\\n\\n44. \"I find that the harder I work, the more luck I seem to have.\" --Thomas Jefferson\\n\\n45. \"The starting point of all achievement is desire.\" --Napoleon Hill\\n\\n46. \"Success is the sum of small efforts, repeated day-in and day-out.\" --Robert Collier\\n\\n47. \"If you want to achieve excellence, you can get there today. As of this second, quit doing less-than- excellent work.\" --Thomas J. Watson\\n\\n48. \"All progress takes place outside the comfort zone.\" --Michael John Bobak\\n\\n49. \"You may only succeed if you desire succeeding; you may only fail if you do not mind failing.\" -- Philippos\\n\\n50. \"Courage is resistance to fear, mastery of fear--not absense of fear.\" --Mark Twain\\n\\n51. \"Only put off until tomorrow what you are willing to die having left undone.\" --Pablo Picasso\\n\\n52. \"People often say that motivation doesn\\'t last. Well, neither does bathing--that\\'s why we recommend it daily.\" --Zig Ziglar\\n\\n53. \"We become what we think about most of the time, and that\\'s the strangest secret.\" --Earl Nightingale\\n\\n54. \"The only place where success comes before work is in the dictionary.\" --Vidal Sassoon\\n\\n55. \"The best reason to start an organization is to make meaning; to create a product or service to make the world a better place.\" --Guy Kawasaki\\n\\n56. \"I find that when you have a real interest in life and a curious life, that sleep is not the most important thing.\" --Martha Stewart\\n\\n57. \"It\\'s not what you look at that matters, it\\'s what you see.\" --Anonymous\\n\\n58. \"The road to success and the road to failure are almost exactly the same.\" --Colin R. Davis\\n\\n59. \"The function of leadership is to produce more leaders, not more followers.\" --Ralph Nader\\n\\n60. \"Success is liking yourself, liking what you do, and liking how you do it.\" --Maya Angelou\\n\\n61. \"As we look ahead into the next century, leaders will be those who empower others.\" --Bill Gates\\n\\n62. \"A real entrepreneur is somebody who has no safety net underneath them.\" --Henry Kravis\\n\\n63. \"The first step toward success is taken when you refuse to be a captive of the environment in which you first find yourself.\" --Mark Caine\\n\\n64. \"People who succeed have momentum. The more they succeed, the more they want to succeed, and the more they find a way to succeed. Similarly, when someone is failing, the tendency is to get on a downward spiral that can even become a self-fulfilling prophecy.\" --Tony Robbins\\n\\n65. \"When I dare to be powerful, to use my strength in the service of my vision, then it becomes less and less important whether I am afraid.\" --Audre Lorde\\n\\n66. \"Whenever you find yourself on the side of the majority, it is time to pause and reflect.\" --Mark Twain\\n\\n67. \"The successful warrior is the average man, with laser-like focus.\" --Bruce Lee\\n\\n68. \"Courage is resistance to fear, mastery of fear--not absence of fear.\" --Mark Twain\\n\\n69. \"Develop success from failures. Discouragement and failure are two of the surest stepping stones to success.\" --Dale Carnegie\\n\\n70. \"If you don\\'t design your own life plan, chances are you\\'ll fall into someone else\\'s plan. And guess what they have planned for you? Not much.\" --Jim Rohn\\n\\n71. \"If you genuinely want something, don\\'t wait for it--teach yourself to be impatient.\" --Gurbaksh Chahal\\n\\n72. \"Don\\'t let the fear of losing be greater than the excitement of winning.\" --Robert Kiyosaki\\n\\n73. \"If you want to make a permanent change, stop focusing on the size of your problems and start focusing on the size of you!\" --T. Harv Eker\\n\\n74. \"You can\\'t connect the dots looking forward; you can only connect them looking backwards. So you have to trust that the dots will somehow connect in your future. You have to trust in something--your gut, destiny, life, karma, whatever. This approach has never let me down, and it has made all the difference in my life.\" --Steve Jobs\\n\\n75. \"Successful people do what unsuccessful people are not willing to do. Don\\'t wish it were easier, wish you were better.\" --Jim Rohn\\n\\n76. \"The number one reason people fail in life is because they listen to their friends, family, and neighbors.\" --Napoleon Hill\\n\\n77. \"The reason most people never reach their goals is that they don\\'t define them, or ever seriously consider them as believable or achievable. Winners can tell you where they are going, what they plan to do along the way, and who will be sharing the adventure with them.\" --Denis Waitley\\n\\n78. \"In my experience, there is only one motivation, and that is desire. No reasons or principle contain it or stand against it.\" --Jane Smiley\\n\\n79. \"Success does not consist in never making mistakes but in never making the same one a second time.\" --George Bernard Shaw\\n\\n80. \"I don\\'t want to get to the end of my life and find that I lived just the length of it. I want to have lived the width of it as well.\" --Diane Ackerman\\n\\n81. \"You must expect great things of yourself before you can do them.\" --Michael Jordan\\n\\n82. \"Motivation is what gets you started. Habit is what keeps you going.\" --Jim Ryun\\n\\n83. \"People rarely succeed unless they have fun in what they are doing.\" --Dale Carnegie\\n\\n84. \"There is no chance, no destiny, no fate, that can hinder or control the firm resolve of a determined soul.\" --Ella Wheeler Wilcox\\n\\n85. \"Our greatest fear should not be of failure but of succeeding at things in life that don\\'t really matter.\" --Francis Chan\\n\\n86. \"You\\'ve got to get up every morning with determination if you\\'re going to go to bed with satisfaction.\" --George Lorimer\\n\\n87. \"To be successful you must accept all challenges that come your way. You can\\'t just accept the ones you like.\" --Mike Gafka\\n\\n88. \"Success is ... knowing your purpose in life, growing to reach your maximum potential, and sowing seeds that benefit others.\" --John C. Maxwell\\n\\n89. \"Be miserable. Or motivate yourself. Whatever has to be done, it\\'s always your choice.\" --Wayne Dyer\\n\\n90. \"To accomplish great things, we must not only act, but also dream, not only plan, but also believe.\" -- Anatole France\\n\\n91. \"Most of the important things in the world have been accomplished by people who have kept on trying when there seemed to be no help at all.\" --Dale Carnegie\\n\\n92. \"You measure the size of the accomplishment by the obstacles you had to overcome to reach your goals.\" --Booker T. Washington\\n\\n93. \"Real difficulties can be overcome; it is only the imaginary ones that are unconquerable.\" --Theodore N. Vail\\n\\n94. \"It is better to fail in originality than to succeed in imitation.\" --Herman Melville\\n\\n95. \"Fortune sides with him who dares.\" --Virgil\\n\\n96. \"Little minds are tamed and subdued by misfortune; but great minds rise above it.\" --Washington Irving\\n\\n97. \"Failure is the condiment that gives success its flavor.\" --Truman Capote\\n\\n98. \"Don\\'t let what you cannot do interfere with what you can do.\" --John R. Wooden\\n\\n99. \"You may have to fight a battle more than once to win it.\" --Margaret Thatcher\\n\\n100. \"A man can be as great as he wants to be. If you believe in yourself and have the courage, the determination, the dedication, the competitive drive and if you are willing to sacrifice the little things in life and pay the price for the things that are worthwhile, it can be done.\" --Vince Lombardi\\n\\nAs we read these thoughts, know they are sources of guidance in times of need, they can give us inspiration in times of struggle, they can motivate us in times of tribulations--success is not final and failure is not forever:\\n\\nIt is the motivation we choose that matters most.\\n\\nLolly Daskal is the president and CEO of Lead From Within, a global consultancy that specializes in leadership and entrepreneurial development. Daskal\\'s programs galvanize clients into achieving their best, helping them accelerate and deliver on their professional goals and business objectives. Trust Across America has identified Daskal as a Top 100 Thought Leader in Trustworthy Business Behavior. Lead From Within is a consultancy with global scope, and Daskal\\'s clients value her exceptional commitment to excellence, integrity, and results.\\n\\nhttp://www.inc.com/lolly-daskal/100-motivational-quotes-that-will-inspire-you-to-succeed.html?cid=readmore')]"
      ]
     },
     "execution_count": 45,
     "metadata": {},
     "output_type": "execute_result"
    }
   ],
   "source": [
    "from langchain_community.document_loaders import UnstructuredPDFLoader\n",
    "\n",
    "loader = UnstructuredPDFLoader(prepare_pdf_path(\"01-motivational-quotes.pdf\"))\n",
    "docs = loader.load()\n",
    "docs"
   ]
  },
  {
   "cell_type": "markdown",
   "metadata": {},
   "source": [
    "#### PDFPlumber"
   ]
  },
  {
   "cell_type": "code",
   "execution_count": 31,
   "metadata": {},
   "outputs": [
    {
     "data": {
      "text/plain": [
       "[Document(metadata={'source': 'resources\\\\no-code-files\\\\pdfs\\\\07-contract.pdf', 'file_path': 'resources\\\\no-code-files\\\\pdfs\\\\07-contract.pdf', 'page': 0, 'total_pages': 1, 'Producer': 'PyPDF2'}, page_content='1 2 3 4 5 6 7 8 9\\nEQUIPMENT TAGGING LEGEND FURNACE HPU\\nRE-BCO201-MCC01\\nCHECK VALVE FILTER\\nFIXED DISPLACEMENT PUMP\\nCOMPONENT NUMBER\\n(NUMERIC [2 DIGIT])\\nPRESSURE RELIEF VALVE\\nCOMPONENT DESCRIPTION FOR SUB EQUIPMENT A\\nBREATHER / FILTER\\nEQUIPMENT NUMBER DESIGNATION\\n(NUMERIC [3 OR 4 DIGIT])\\nVARIABLE DISPLACEMENT,\\nEQUIPMENT NUMBER DESIGNATION PRESSURE COMPENSATED PUMP\\nDIFFERENTIAL AREA RELIEF VALVE\\nPROCESS AREA\\nHEAT EXCHANGER (COOLER)\\nFLOW CONTROL VALVE\\nIMMERSION HEATER\\n3-WAY BYPASS VALVE\\nB\\nDIRECTIONAL VALVE, 4-WAY, 3-POSITION\\nFLOAT CENTER\\nCYLINDER\\nDIRECTIONAL VALVE, 4-WAY, 3-POSITION\\nTANDEM CENTER, OPEN CROSS-OVER PORTING\\nDIRECTIONAL AIR VALVE, 4-WAY, SINGLE SOLENOID,\\n2-POSITION, AIR RETURN, SPRING ASSISTED\\nC\\nPILOT OPERATED\\nDUAL CHECK VALVES\\n- PRELIMINARY -\\nNOT FOR CONSTRUCTION\\nD\\nISSUED FOR DESIGN\\nA\\nN. IMEL T. HULL 07-05-23\\nREV DESIGN BY CHECKED BY DATE\\nTHIS DRAWING IS PROPERTY OF ENVIVA, INC. AND IS NOT TO BE\\nREPRODUCED, COPIED OR USED FOR ANY PURPOSE OTHER\\nTHAN CONSTRUCTION OF THIS PROJECT WITHOUT WRITTEN\\nCONSENT OF ENVIVA, INC.\\nE\\nENVIVA\\nEPES WOOD PELLET FACILITY\\nKIEWIT\\nSINCE 1884\\n®\\nCOMMON PLANT SYSTEMS F\\nP&ID LEGEND SHEET 7 OF 7\\nP&ID\\nDRAWING NUMBER\\nENGINEER/DESIGN\\nORIGINATOR T. HULL\\nLEAD ENG C. HERETH\\n00-01-D-009\\nENG MGR E. SKIBBE\\nPROJ MGR R. MCNIFF\\n')]"
      ]
     },
     "execution_count": 31,
     "metadata": {},
     "output_type": "execute_result"
    }
   ],
   "source": [
    "from langchain_community.document_loaders import PDFPlumberLoader\n",
    "\n",
    "loader = PDFPlumberLoader(prepare_pdf_path(\"07-contract.pdf\"))\n",
    "docs = loader.load()\n",
    "docs"
   ]
  },
  {
   "cell_type": "code",
   "execution_count": 32,
   "metadata": {},
   "outputs": [
    {
     "data": {
      "text/plain": [
       "{'source': 'resources\\\\no-code-files\\\\pdfs\\\\07-contract.pdf',\n",
       " 'file_path': 'resources\\\\no-code-files\\\\pdfs\\\\07-contract.pdf',\n",
       " 'page': 0,\n",
       " 'total_pages': 1,\n",
       " 'Producer': 'PyPDF2'}"
      ]
     },
     "execution_count": 32,
     "metadata": {},
     "output_type": "execute_result"
    }
   ],
   "source": [
    "docs[0].metadata"
   ]
  },
  {
   "cell_type": "code",
   "execution_count": 33,
   "metadata": {},
   "outputs": [
    {
     "data": {
      "text/plain": [
       "'1 2 3 4 5 6 7 8 9\\nEQUIPMENT TAGGING LEGEND FURNACE HPU\\nRE-BCO201-MCC01\\nCHECK VALVE FILTER\\nFIXED DISPLACEMENT PUMP\\nCOMPONENT NUMBER\\n(NUMERIC [2 DIGIT])\\nPRESSURE RELIEF VALVE\\nCOMPONENT DESCRIPTION FOR SUB EQUIPMENT A\\nBREATHER / FILTER\\nEQUIPMENT NUMBER DESIGNATION\\n(NUMERIC [3 OR 4 DIGIT])\\nVARIABLE DISPLACEMENT,\\nEQUIPMENT NUMBER DESIGNATION PRESSURE COMPENSATED PUMP\\nDIFFERENTIAL AREA RELIEF VALVE\\nPROCESS AREA\\nHEAT EXCHANGER (COOLER)\\nFLOW CONTROL VALVE\\nIMMERSION HEATER\\n3-WAY BYPASS VALVE\\nB\\nDIRECTIONAL VALVE, 4-WAY, 3-POSITION\\nFLOAT CENTER\\nCYLINDER\\nDIRECTIONAL VALVE, 4-WAY, 3-POSITION\\nTANDEM CENTER, OPEN CROSS-OVER PORTING\\nDIRECTIONAL AIR VALVE, 4-WAY, SINGLE SOLENOID,\\n2-POSITION, AIR RETURN, SPRING ASSISTED\\nC\\nPILOT OPERATED\\nDUAL CHECK VALVES\\n- PRELIMINARY -\\nNOT FOR CONSTRUCTION\\nD\\nISSUED FOR DESIGN\\nA\\nN. IMEL T. HULL 07-05-23\\nREV DESIGN BY CHECKED BY DATE\\nTHIS DRAWING IS PROPERTY OF ENVIVA, INC. AND IS NOT TO BE\\nREPRODUCED, COPIED OR USED FOR ANY PURPOSE OTHER\\nTHAN CONSTRUCTION OF THIS PROJECT WITHOUT WRITTEN\\nCONSENT OF ENVIVA, INC.\\nE\\nENVIVA\\nEPES WOOD PELLET FACILITY\\nKIEWIT\\nSINCE 1884\\n®\\nCOMMON PLANT SYSTEMS F\\nP&ID LEGEND SHEET 7 OF 7\\nP&ID\\nDRAWING NUMBER\\nENGINEER/DESIGN\\nORIGINATOR T. HULL\\nLEAD ENG C. HERETH\\n00-01-D-009\\nENG MGR E. SKIBBE\\nPROJ MGR R. MCNIFF\\n'"
      ]
     },
     "execution_count": 33,
     "metadata": {},
     "output_type": "execute_result"
    }
   ],
   "source": [
    "docs[0].page_content"
   ]
  },
  {
   "cell_type": "code",
   "execution_count": 34,
   "metadata": {},
   "outputs": [
    {
     "data": {
      "text/plain": [
       "[Document(metadata={'source': 'resources\\\\no-code-files\\\\pdfs\\\\08-font-styles.pdf', 'file_path': 'resources\\\\no-code-files\\\\pdfs\\\\08-font-styles.pdf', 'page': 0, 'total_pages': 1, 'Author': 'Shaukat ali khan', 'Creator': 'Microsoft® Word LTSC', 'CreationDate': \"D:20240825164928+05'00'\", 'ModDate': \"D:20240825164928+05'00'\", 'Producer': 'Microsoft® Word LTSC'}, page_content='This is a pdf with\\nMultile font styles\\nAnd formats\\n')]"
      ]
     },
     "execution_count": 34,
     "metadata": {},
     "output_type": "execute_result"
    }
   ],
   "source": [
    "loader = PDFPlumberLoader(prepare_pdf_path(\"08-font-styles.pdf\"))\n",
    "loader.load()"
   ]
  },
  {
   "cell_type": "markdown",
   "metadata": {},
   "source": [
    "#### Trying to extract voterlist"
   ]
  },
  {
   "cell_type": "code",
   "execution_count": 48,
   "metadata": {},
   "outputs": [
    {
     "ename": "ValueError",
     "evalue": "cannot reshape array of size 481216 into shape (2336,1648,newaxis)",
     "output_type": "error",
     "traceback": [
      "\u001b[1;31m---------------------------------------------------------------------------\u001b[0m",
      "\u001b[1;31mValueError\u001b[0m                                Traceback (most recent call last)",
      "Cell \u001b[1;32mIn[48], line 4\u001b[0m\n\u001b[0;32m      1\u001b[0m \u001b[38;5;28;01mfrom\u001b[39;00m \u001b[38;5;21;01mlangchain_community\u001b[39;00m\u001b[38;5;21;01m.\u001b[39;00m\u001b[38;5;21;01mdocument_loaders\u001b[39;00m \u001b[38;5;28;01mimport\u001b[39;00m PDFMinerLoader\n\u001b[0;32m      3\u001b[0m loader \u001b[38;5;241m=\u001b[39m PDFMinerLoader(prepare_pdf_path(\u001b[38;5;124m\"\u001b[39m\u001b[38;5;124mvoter-list.pdf\u001b[39m\u001b[38;5;124m\"\u001b[39m), extract_images\u001b[38;5;241m=\u001b[39m\u001b[38;5;28;01mTrue\u001b[39;00m)\n\u001b[1;32m----> 4\u001b[0m docs \u001b[38;5;241m=\u001b[39m \u001b[43mloader\u001b[49m\u001b[38;5;241;43m.\u001b[39;49m\u001b[43mload\u001b[49m\u001b[43m(\u001b[49m\u001b[43m)\u001b[49m\n\u001b[0;32m      5\u001b[0m docs\n",
      "File \u001b[1;32mc:\\Users\\Dmm\\anaconda3\\envs\\langchain\\Lib\\site-packages\\langchain_core\\document_loaders\\base.py:30\u001b[0m, in \u001b[0;36mBaseLoader.load\u001b[1;34m(self)\u001b[0m\n\u001b[0;32m     28\u001b[0m \u001b[38;5;28;01mdef\u001b[39;00m \u001b[38;5;21mload\u001b[39m(\u001b[38;5;28mself\u001b[39m) \u001b[38;5;241m-\u001b[39m\u001b[38;5;241m>\u001b[39m List[Document]:\n\u001b[0;32m     29\u001b[0m \u001b[38;5;250m    \u001b[39m\u001b[38;5;124;03m\"\"\"Load data into Document objects.\"\"\"\u001b[39;00m\n\u001b[1;32m---> 30\u001b[0m     \u001b[38;5;28;01mreturn\u001b[39;00m \u001b[38;5;28;43mlist\u001b[39;49m\u001b[43m(\u001b[49m\u001b[38;5;28;43mself\u001b[39;49m\u001b[38;5;241;43m.\u001b[39;49m\u001b[43mlazy_load\u001b[49m\u001b[43m(\u001b[49m\u001b[43m)\u001b[49m\u001b[43m)\u001b[49m\n",
      "File \u001b[1;32mc:\\Users\\Dmm\\anaconda3\\envs\\langchain\\Lib\\site-packages\\langchain_community\\document_loaders\\pdf.py:316\u001b[0m, in \u001b[0;36mPDFMinerLoader.lazy_load\u001b[1;34m(self)\u001b[0m\n\u001b[0;32m    314\u001b[0m \u001b[38;5;28;01melse\u001b[39;00m:\n\u001b[0;32m    315\u001b[0m     blob \u001b[38;5;241m=\u001b[39m Blob\u001b[38;5;241m.\u001b[39mfrom_path(\u001b[38;5;28mself\u001b[39m\u001b[38;5;241m.\u001b[39mfile_path)  \u001b[38;5;66;03m# type: ignore[attr-defined]\u001b[39;00m\n\u001b[1;32m--> 316\u001b[0m \u001b[38;5;28;01myield from\u001b[39;00m \u001b[38;5;28;43mself\u001b[39;49m\u001b[38;5;241;43m.\u001b[39;49m\u001b[43mparser\u001b[49m\u001b[38;5;241;43m.\u001b[39;49m\u001b[43mparse\u001b[49m\u001b[43m(\u001b[49m\u001b[43mblob\u001b[49m\u001b[43m)\u001b[49m\n",
      "File \u001b[1;32mc:\\Users\\Dmm\\anaconda3\\envs\\langchain\\Lib\\site-packages\\langchain_core\\document_loaders\\base.py:126\u001b[0m, in \u001b[0;36mBaseBlobParser.parse\u001b[1;34m(self, blob)\u001b[0m\n\u001b[0;32m    111\u001b[0m \u001b[38;5;28;01mdef\u001b[39;00m \u001b[38;5;21mparse\u001b[39m(\u001b[38;5;28mself\u001b[39m, blob: Blob) \u001b[38;5;241m-\u001b[39m\u001b[38;5;241m>\u001b[39m List[Document]:\n\u001b[0;32m    112\u001b[0m \u001b[38;5;250m    \u001b[39m\u001b[38;5;124;03m\"\"\"Eagerly parse the blob into a document or documents.\u001b[39;00m\n\u001b[0;32m    113\u001b[0m \n\u001b[0;32m    114\u001b[0m \u001b[38;5;124;03m    This is a convenience method for interactive development environment.\u001b[39;00m\n\u001b[1;32m   (...)\u001b[0m\n\u001b[0;32m    124\u001b[0m \u001b[38;5;124;03m        List of documents\u001b[39;00m\n\u001b[0;32m    125\u001b[0m \u001b[38;5;124;03m    \"\"\"\u001b[39;00m\n\u001b[1;32m--> 126\u001b[0m     \u001b[38;5;28;01mreturn\u001b[39;00m \u001b[38;5;28;43mlist\u001b[39;49m\u001b[43m(\u001b[49m\u001b[38;5;28;43mself\u001b[39;49m\u001b[38;5;241;43m.\u001b[39;49m\u001b[43mlazy_parse\u001b[49m\u001b[43m(\u001b[49m\u001b[43mblob\u001b[49m\u001b[43m)\u001b[49m\u001b[43m)\u001b[49m\n",
      "File \u001b[1;32mc:\\Users\\Dmm\\anaconda3\\envs\\langchain\\Lib\\site-packages\\langchain_community\\document_loaders\\parsers\\pdf.py:215\u001b[0m, in \u001b[0;36mPDFMinerParser.lazy_parse\u001b[1;34m(self, blob)\u001b[0m\n\u001b[0;32m    213\u001b[0m interpreter_for_text\u001b[38;5;241m.\u001b[39mprocess_page(page)\n\u001b[0;32m    214\u001b[0m interpreter_for_image\u001b[38;5;241m.\u001b[39mprocess_page(page)\n\u001b[1;32m--> 215\u001b[0m content \u001b[38;5;241m=\u001b[39m text_io\u001b[38;5;241m.\u001b[39mgetvalue() \u001b[38;5;241m+\u001b[39m \u001b[38;5;28;43mself\u001b[39;49m\u001b[38;5;241;43m.\u001b[39;49m\u001b[43m_extract_images_from_page\u001b[49m\u001b[43m(\u001b[49m\n\u001b[0;32m    216\u001b[0m \u001b[43m    \u001b[49m\u001b[43mdevice_for_image\u001b[49m\u001b[38;5;241;43m.\u001b[39;49m\u001b[43mget_result\u001b[49m\u001b[43m(\u001b[49m\u001b[43m)\u001b[49m\n\u001b[0;32m    217\u001b[0m \u001b[43m\u001b[49m\u001b[43m)\u001b[49m\n\u001b[0;32m    218\u001b[0m text_io\u001b[38;5;241m.\u001b[39mtruncate(\u001b[38;5;241m0\u001b[39m)\n\u001b[0;32m    219\u001b[0m text_io\u001b[38;5;241m.\u001b[39mseek(\u001b[38;5;241m0\u001b[39m)\n",
      "File \u001b[1;32mc:\\Users\\Dmm\\anaconda3\\envs\\langchain\\Lib\\site-packages\\langchain_community\\document_loaders\\parsers\\pdf.py:241\u001b[0m, in \u001b[0;36mPDFMinerParser._extract_images_from_page\u001b[1;34m(self, page)\u001b[0m\n\u001b[0;32m    238\u001b[0m \u001b[38;5;28;01mfor\u001b[39;00m img \u001b[38;5;129;01min\u001b[39;00m \u001b[38;5;28mlist\u001b[39m(\u001b[38;5;28mfilter\u001b[39m(\u001b[38;5;28mbool\u001b[39m, \u001b[38;5;28mmap\u001b[39m(get_image, page))):\n\u001b[0;32m    239\u001b[0m     \u001b[38;5;28;01mif\u001b[39;00m img\u001b[38;5;241m.\u001b[39mstream[\u001b[38;5;124m\"\u001b[39m\u001b[38;5;124mFilter\u001b[39m\u001b[38;5;124m\"\u001b[39m]\u001b[38;5;241m.\u001b[39mname \u001b[38;5;129;01min\u001b[39;00m _PDF_FILTER_WITHOUT_LOSS:\n\u001b[0;32m    240\u001b[0m         images\u001b[38;5;241m.\u001b[39mappend(\n\u001b[1;32m--> 241\u001b[0m             \u001b[43mnp\u001b[49m\u001b[38;5;241;43m.\u001b[39;49m\u001b[43mfrombuffer\u001b[49m\u001b[43m(\u001b[49m\u001b[43mimg\u001b[49m\u001b[38;5;241;43m.\u001b[39;49m\u001b[43mstream\u001b[49m\u001b[38;5;241;43m.\u001b[39;49m\u001b[43mget_data\u001b[49m\u001b[43m(\u001b[49m\u001b[43m)\u001b[49m\u001b[43m,\u001b[49m\u001b[43m \u001b[49m\u001b[43mdtype\u001b[49m\u001b[38;5;241;43m=\u001b[39;49m\u001b[43mnp\u001b[49m\u001b[38;5;241;43m.\u001b[39;49m\u001b[43muint8\u001b[49m\u001b[43m)\u001b[49m\u001b[38;5;241;43m.\u001b[39;49m\u001b[43mreshape\u001b[49m\u001b[43m(\u001b[49m\n\u001b[0;32m    242\u001b[0m \u001b[43m                \u001b[49m\u001b[43mimg\u001b[49m\u001b[38;5;241;43m.\u001b[39;49m\u001b[43mstream\u001b[49m\u001b[43m[\u001b[49m\u001b[38;5;124;43m\"\u001b[39;49m\u001b[38;5;124;43mHeight\u001b[39;49m\u001b[38;5;124;43m\"\u001b[39;49m\u001b[43m]\u001b[49m\u001b[43m,\u001b[49m\u001b[43m \u001b[49m\u001b[43mimg\u001b[49m\u001b[38;5;241;43m.\u001b[39;49m\u001b[43mstream\u001b[49m\u001b[43m[\u001b[49m\u001b[38;5;124;43m\"\u001b[39;49m\u001b[38;5;124;43mWidth\u001b[39;49m\u001b[38;5;124;43m\"\u001b[39;49m\u001b[43m]\u001b[49m\u001b[43m,\u001b[49m\u001b[43m \u001b[49m\u001b[38;5;241;43m-\u001b[39;49m\u001b[38;5;241;43m1\u001b[39;49m\n\u001b[0;32m    243\u001b[0m \u001b[43m            \u001b[49m\u001b[43m)\u001b[49m\n\u001b[0;32m    244\u001b[0m         )\n\u001b[0;32m    245\u001b[0m     \u001b[38;5;28;01melif\u001b[39;00m img\u001b[38;5;241m.\u001b[39mstream[\u001b[38;5;124m\"\u001b[39m\u001b[38;5;124mFilter\u001b[39m\u001b[38;5;124m\"\u001b[39m]\u001b[38;5;241m.\u001b[39mname \u001b[38;5;129;01min\u001b[39;00m _PDF_FILTER_WITH_LOSS:\n\u001b[0;32m    246\u001b[0m         images\u001b[38;5;241m.\u001b[39mappend(img\u001b[38;5;241m.\u001b[39mstream\u001b[38;5;241m.\u001b[39mget_data())\n",
      "\u001b[1;31mValueError\u001b[0m: cannot reshape array of size 481216 into shape (2336,1648,newaxis)"
     ]
    }
   ],
   "source": [
    "from langchain_community.document_loaders import PDFMinerLoader\n",
    "\n",
    "loader = PDFMinerLoader(prepare_pdf_path(\"voter-list.pdf\"), extract_images=True)\n",
    "docs = loader.load()\n",
    "docs"
   ]
  },
  {
   "cell_type": "markdown",
   "metadata": {},
   "source": [
    "- Handles tabular information more effectively.\n",
    "- No info. about font."
   ]
  },
  {
   "cell_type": "markdown",
   "metadata": {},
   "source": [
    "#### PDFium2"
   ]
  },
  {
   "cell_type": "code",
   "execution_count": 39,
   "metadata": {},
   "outputs": [
    {
     "name": "stderr",
     "output_type": "stream",
     "text": [
      "c:\\Users\\Dmm\\anaconda3\\envs\\langchain\\Lib\\site-packages\\pypdfium2\\_helpers\\textpage.py:80: UserWarning: get_text_range() call with default params will be implicitly redirected to get_text_bounded()\n",
      "  warnings.warn(\"get_text_range() call with default params will be implicitly redirected to get_text_bounded()\")\n"
     ]
    },
    {
     "data": {
      "text/plain": [
       "[Document(metadata={'source': 'resources\\\\no-code-files\\\\pdfs\\\\05-bank-challan.pdf', 'page': 0}, page_content='To Be Filled in By the Remitter To Be Filled in By the Remitter\\r\\nHead of \\r\\nAccount\\r\\nOrder of \\r\\nBank\\r\\nTo Be Filled in By \\r\\nthe Department \\r\\nOfficer or the \\r\\nTreasury\\r\\nTerritory Amount\\r\\nName or \\r\\ndesignation \\r\\nand address of \\r\\nthe Person on \\r\\nwhose behalf \\r\\nmoney is Paid\\r\\nProvisional/ Centre\\r\\nTreasury/Sub treasury\\r\\n(Cashier in service centre)\\r\\nTo Be Filled in By \\r\\nthe Department \\r\\nOfficer or the \\r\\nTreasury\\r\\nAmount\\r\\nOrder of \\r\\nBank\\r\\nHead of \\r\\nAccount\\r\\nTerritory\\r\\nName or \\r\\ndesignation \\r\\nand address \\r\\nof the Person \\r\\non whose \\r\\nbehalf money \\r\\nis Paid\\r\\nProvisional/ Centre\\r\\nTreasury/Sub treasury\\r\\n(Cashier in service centre)\\r\\nHead of \\r\\nAccount\\r\\nOrder of \\r\\nBank\\r\\nName or \\r\\ndesignation \\r\\nand address \\r\\nof the Person \\r\\non whose \\r\\nbehalf money \\r\\nis Paid\\r\\nTerritory\\r\\nTo Be Filled in By the Remitter\\r\\nAmount\\r\\nTo Be Filled in By \\r\\nthe Department \\r\\nOfficer or the \\r\\nTreasury\\r\\nChallan Form No.32-A Provisional/ Centre Challan Form No.32-A Challan Form No.32-A\\r\\nTreasury/Sub treasury\\r\\n(Cashier in service centre)\\r\\nTotal\\r\\nDate\\r\\nCorrect, \\r\\nReceived and \\r\\ngrant Receipt\\r\\nSignature and \\r\\nfull \\r\\ndesignation of \\r\\nthe Officer \\r\\nordering the \\r\\nmoney to be \\r\\npaid in\\r\\nت\\r\\nض\\r\\n ع خن ول سر \\r\\n \\r\\nلق\\r\\nخن آوان\\r\\nاٹ ن\\r\\nھیب tب\\r\\nگ\\r\\nپی \\r\\nنی کہ\\r\\nھٹ\\r\\n \\r\\nت\\r\\nد مض\\r\\nد\\r\\nف ف\\r\\nSignature and \\r\\nfull \\r\\ndesignation of \\r\\nthe Officer \\r\\nordering the \\r\\nmoney to be \\r\\npaid in\\r\\nCorrect, \\r\\nReceived and \\r\\ngrant Receipt\\r\\nDate\\r\\nد\\r\\nد\\r\\nف ف\\r\\nاٹ ن\\r\\nض\\r\\nھیب tب\\r\\nگ\\r\\nپی \\r\\nت\\r\\nنی کہ\\r\\nھٹ\\r\\n \\r\\nت\\r\\n مض ع خن ول سر \\r\\n \\r\\nلق\\r\\nخن آوان\\r\\nTotal\\r\\n ع خن ول سر \\r\\n \\r\\nلق\\r\\nخن آوان\\r\\nاٹ ن\\r\\nض\\r\\nھیب tب\\r\\nگ\\r\\nپی \\r\\nت\\r\\nنی کہ\\r\\nھٹ\\r\\n \\r\\nت\\r\\nد مض\\r\\nد\\r\\nف ف\\r\\nSignature and \\r\\nfull \\r\\ndesignation of \\r\\nthe Officer \\r\\nordering the \\r\\nmoney to be \\r\\npaid in\\r\\nCorrect, \\r\\nReceived and \\r\\ngrant Receipt\\r\\nDate\\r\\nTotal\\r\\n 50 50 50\\r\\nB01418 B01418 B01418\\r\\n 50 50 50\\r\\nDate 15/08/2024 10:23:44 Date 15/08/2024 10:23:44 Date 15/08/2024 10:23:44\\r\\n 74354168\\r\\n 74354168\\r\\n 74354168\\r\\n 74354168\\r\\n 74354168\\r\\n 74354168\\r\\n 1\\r\\nشک ع خن ول اف خن\\r\\nTotal 1\\r\\nKhewats\\r\\nKhatunies\\r\\nToken No.\\r\\nFard ID.\\r\\nRupees in \\r\\nwords\\r\\nSignature\\r\\nشک ع خن ول اف خن\\r\\nTotal\\r\\nKhewats\\r\\nKhatunies\\r\\nToken No.\\r\\nFard ID.\\r\\nRupees in \\r\\nwords\\r\\nSignature\\r\\nشک ع خن ول اف خن\\r\\nTotal\\r\\nKhewats\\r\\nKhatunies\\r\\nToken No.\\r\\nFard ID.\\r\\nRupees in \\r\\nwords\\r\\nSignature\\r\\nم پس روپ صف م پس روپ صف م پس روپ صف \\r\\n 1 1\\r\\n 1 1\\r\\n22592604 22592604 22592604\\r\\nPSID 40182408159400104 PSID 40182408159400104 PSID\\r\\n40182408159400104\\r\\n 1003 1003 1003 \\r\\nSCO Name SCO Name SCO Name\\r\\nد ہن-شید پ ای آئ ڈی س ف ادائ ک صرت م 15 روپ اضف ج کوان ہن-شید پ ای آئ ڈی س ف ادائ ک صرت م 15 روپ اضف ج کوان ہن-شی\\r\\nپ ای آئ ڈی س ف ادائ ک صرت م 15 روپ اضف ج کوان\\n'),\n",
       " Document(metadata={'source': 'resources\\\\no-code-files\\\\pdfs\\\\05-bank-challan.pdf', 'page': 1}, page_content='Miscellaneous Fees- Naqal Miscellaneous Fees- Naqal Miscellaneous Fees- Naqal\\r\\nParticulars of Fee Amount Head of Account Particulars of Fee Amount Head of Account Particulars of Fee Amount Head of Account\\r\\nTotal\\r\\n 700 700 700\\r\\n0110014580001\\r\\n0110014580001 0110014580001 0110014580001\\r\\nTotal Total\\r\\nGrand Total Grand Total Grand Total\\r\\nAmount In Words Amount In Words Amount In Words\\r\\n 700 0110014580001 700 700 0110014580001\\r\\n 750 750 750\\r\\nم ست س پس روپ صف م ست س پس روپ صف م ست س پس روپ صف \\r\\nد\\r\\nt سوس چرج\\r\\nد\\r\\nt سوس چرج\\r\\nد\\r\\nt سوس چرج\\r\\n 74354168\\r\\n 74354168\\r\\n 74354168\\r\\n 74354168\\r\\n 74354168\\r\\n 74354168\\r\\nPSID 40182408159400104 PSID 40182408159400104 PSID 40182408159400104\\r\\nد ہن-شید پ ای آئ ڈی س ف ادائ ک صرت م 15 روپ اضف ج کوان ہن-شید پ ای آئ ڈی س ف ادائ ک صرت م 15 روپ اضف ج کوان ہن-شی\\r\\nپ ای آئ ڈی س ف ادائ ک صرت م 15 روپ اضف ج کوان\\n')]"
      ]
     },
     "execution_count": 39,
     "metadata": {},
     "output_type": "execute_result"
    }
   ],
   "source": [
    "from langchain_community.document_loaders import PyPDFium2Loader\n",
    "\n",
    "loader = PyPDFium2Loader(prepare_pdf_path(\"05-bank-challan.pdf\"))\n",
    "docs = loader.load()\n",
    "docs"
   ]
  },
  {
   "cell_type": "code",
   "execution_count": 40,
   "metadata": {},
   "outputs": [
    {
     "data": {
      "text/plain": [
       "'To Be Filled in By the Remitter To Be Filled in By the Remitter\\r\\nHead of \\r\\nAccount\\r\\nOrder of \\r\\nBank\\r\\nTo Be Filled in By \\r\\nthe Department \\r\\nOfficer or the \\r\\nTreasury\\r\\nTerritory Amount\\r\\nName or \\r\\ndesignation \\r\\nand address of \\r\\nthe Person on \\r\\nwhose behalf \\r\\nmoney is Paid\\r\\nProvisional/ Centre\\r\\nTreasury/Sub treasury\\r\\n(Cashier in service centre)\\r\\nTo Be Filled in By \\r\\nthe Department \\r\\nOfficer or the \\r\\nTreasury\\r\\nAmount\\r\\nOrder of \\r\\nBank\\r\\nHead of \\r\\nAccount\\r\\nTerritory\\r\\nName or \\r\\ndesignation \\r\\nand address \\r\\nof the Person \\r\\non whose \\r\\nbehalf money \\r\\nis Paid\\r\\nProvisional/ Centre\\r\\nTreasury/Sub treasury\\r\\n(Cashier in service centre)\\r\\nHead of \\r\\nAccount\\r\\nOrder of \\r\\nBank\\r\\nName or \\r\\ndesignation \\r\\nand address \\r\\nof the Person \\r\\non whose \\r\\nbehalf money \\r\\nis Paid\\r\\nTerritory\\r\\nTo Be Filled in By the Remitter\\r\\nAmount\\r\\nTo Be Filled in By \\r\\nthe Department \\r\\nOfficer or the \\r\\nTreasury\\r\\nChallan Form No.32-A Provisional/ Centre Challan Form No.32-A Challan Form No.32-A\\r\\nTreasury/Sub treasury\\r\\n(Cashier in service centre)\\r\\nTotal\\r\\nDate\\r\\nCorrect, \\r\\nReceived and \\r\\ngrant Receipt\\r\\nSignature and \\r\\nfull \\r\\ndesignation of \\r\\nthe Officer \\r\\nordering the \\r\\nmoney to be \\r\\npaid in\\r\\nت\\r\\nض\\r\\n ع خن ول سر \\r\\n \\r\\nلق\\r\\nخن آوان\\r\\nاٹ ن\\r\\nھیب tب\\r\\nگ\\r\\nپی \\r\\nنی کہ\\r\\nھٹ\\r\\n \\r\\nت\\r\\nد مض\\r\\nد\\r\\nف ف\\r\\nSignature and \\r\\nfull \\r\\ndesignation of \\r\\nthe Officer \\r\\nordering the \\r\\nmoney to be \\r\\npaid in\\r\\nCorrect, \\r\\nReceived and \\r\\ngrant Receipt\\r\\nDate\\r\\nد\\r\\nد\\r\\nف ف\\r\\nاٹ ن\\r\\nض\\r\\nھیب tب\\r\\nگ\\r\\nپی \\r\\nت\\r\\nنی کہ\\r\\nھٹ\\r\\n \\r\\nت\\r\\n مض ع خن ول سر \\r\\n \\r\\nلق\\r\\nخن آوان\\r\\nTotal\\r\\n ع خن ول سر \\r\\n \\r\\nلق\\r\\nخن آوان\\r\\nاٹ ن\\r\\nض\\r\\nھیب tب\\r\\nگ\\r\\nپی \\r\\nت\\r\\nنی کہ\\r\\nھٹ\\r\\n \\r\\nت\\r\\nد مض\\r\\nد\\r\\nف ف\\r\\nSignature and \\r\\nfull \\r\\ndesignation of \\r\\nthe Officer \\r\\nordering the \\r\\nmoney to be \\r\\npaid in\\r\\nCorrect, \\r\\nReceived and \\r\\ngrant Receipt\\r\\nDate\\r\\nTotal\\r\\n 50 50 50\\r\\nB01418 B01418 B01418\\r\\n 50 50 50\\r\\nDate 15/08/2024 10:23:44 Date 15/08/2024 10:23:44 Date 15/08/2024 10:23:44\\r\\n 74354168\\r\\n 74354168\\r\\n 74354168\\r\\n 74354168\\r\\n 74354168\\r\\n 74354168\\r\\n 1\\r\\nشک ع خن ول اف خن\\r\\nTotal 1\\r\\nKhewats\\r\\nKhatunies\\r\\nToken No.\\r\\nFard ID.\\r\\nRupees in \\r\\nwords\\r\\nSignature\\r\\nشک ع خن ول اف خن\\r\\nTotal\\r\\nKhewats\\r\\nKhatunies\\r\\nToken No.\\r\\nFard ID.\\r\\nRupees in \\r\\nwords\\r\\nSignature\\r\\nشک ع خن ول اف خن\\r\\nTotal\\r\\nKhewats\\r\\nKhatunies\\r\\nToken No.\\r\\nFard ID.\\r\\nRupees in \\r\\nwords\\r\\nSignature\\r\\nم پس روپ صف م پس روپ صف م پس روپ صف \\r\\n 1 1\\r\\n 1 1\\r\\n22592604 22592604 22592604\\r\\nPSID 40182408159400104 PSID 40182408159400104 PSID\\r\\n40182408159400104\\r\\n 1003 1003 1003 \\r\\nSCO Name SCO Name SCO Name\\r\\nد ہن-شید پ ای آئ ڈی س ف ادائ ک صرت م 15 روپ اضف ج کوان ہن-شید پ ای آئ ڈی س ف ادائ ک صرت م 15 روپ اضف ج کوان ہن-شی\\r\\nپ ای آئ ڈی س ف ادائ ک صرت م 15 روپ اضف ج کوان\\n'"
      ]
     },
     "execution_count": 40,
     "metadata": {},
     "output_type": "execute_result"
    }
   ],
   "source": [
    "docs[0].page_content"
   ]
  },
  {
   "cell_type": "markdown",
   "metadata": {},
   "source": [
    "- Not that good at pdf image table processing"
   ]
  },
  {
   "cell_type": "markdown",
   "metadata": {},
   "source": [
    "### Check for Urdu and Other languages\n",
    "All explored loaders are not best for urdu."
   ]
  },
  {
   "cell_type": "code",
   "execution_count": 42,
   "metadata": {},
   "outputs": [
    {
     "data": {
      "text/plain": [
       "[Document(metadata={'source': 'resources\\\\no-code-files\\\\pdfs\\\\urdu.pdf'}, page_content='  ہیگ یکریڈفر لہلمو جرا(/ˈheɪɡəl/;[19] منجر: [ˈɡe:ɔɐ̯ k ˈvɪlhɛlm ˈfʁi:dʁɪç ˈhe:ɡəl]; فلسفی منجر یکا )1831  ,14 مبرنو  – 1770  ,27 گستا   منجر  روا\\n\\nلیتمثا عظمیابر  روا اہو رمشہو بہت میں رود پنےا یہ ۔تھا شخص ہما کی تییاتجز  روا فلسفہ یتاور ۔اہو بتثا ثرابا بھی میں یتاور[20]   بیمغر لیکن ،ہے ہتار شخصیت عزمتنا یکا ہیگ چہگرا\\n\\nفلسفہ  ۔ہے ہشد تسلیم متقا و قد علمی کی سا میں \\n\\n\\x0c')]"
      ]
     },
     "execution_count": 42,
     "metadata": {},
     "output_type": "execute_result"
    }
   ],
   "source": [
    "from langchain_community.document_loaders import PDFMinerLoader\n",
    "\n",
    "loader = PDFMinerLoader(prepare_pdf_path(\"urdu.pdf\"))\n",
    "docs = loader.load()\n",
    "docs"
   ]
  },
  {
   "cell_type": "code",
   "execution_count": 43,
   "metadata": {},
   "outputs": [
    {
     "data": {
      "text/plain": [
       "'  ہیگ یکریڈفر لہلمو جرا(/ˈheɪɡəl/;[19] منجر: [ˈɡe:ɔɐ̯ k ˈvɪlhɛlm ˈfʁi:dʁɪç ˈhe:ɡəl]; فلسفی منجر یکا )1831  ,14 مبرنو  – 1770  ,27 گستا   منجر  روا\\n\\nلیتمثا عظمیابر  روا اہو رمشہو بہت میں رود پنےا یہ ۔تھا شخص ہما کی تییاتجز  روا فلسفہ یتاور ۔اہو بتثا ثرابا بھی میں یتاور[20]   بیمغر لیکن ،ہے ہتار شخصیت عزمتنا یکا ہیگ چہگرا\\n\\nفلسفہ  ۔ہے ہشد تسلیم متقا و قد علمی کی سا میں \\n\\n\\x0c'"
      ]
     },
     "execution_count": 43,
     "metadata": {},
     "output_type": "execute_result"
    }
   ],
   "source": [
    "docs[0].page_content"
   ]
  },
  {
   "cell_type": "code",
   "execution_count": null,
   "metadata": {},
   "outputs": [],
   "source": []
  }
 ],
 "metadata": {
  "kernelspec": {
   "display_name": "langchain",
   "language": "python",
   "name": "python3"
  },
  "language_info": {
   "codemirror_mode": {
    "name": "ipython",
    "version": 3
   },
   "file_extension": ".py",
   "mimetype": "text/x-python",
   "name": "python",
   "nbconvert_exporter": "python",
   "pygments_lexer": "ipython3",
   "version": "3.12.4"
  }
 },
 "nbformat": 4,
 "nbformat_minor": 2
}
